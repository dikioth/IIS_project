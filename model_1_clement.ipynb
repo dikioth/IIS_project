{
 "cells": [
  {
   "cell_type": "markdown",
   "metadata": {},
   "source": [
    "### Import libraries"
   ]
  },
  {
   "cell_type": "code",
   "execution_count": 104,
   "metadata": {},
   "outputs": [],
   "source": [
    "import cv2\n",
    "import numpy as np\n",
    "import pandas as pd\n",
    "import tensorflow as tf\n",
    "import tensorflow.keras\n",
    "from tensorflow.keras.optimizers import SGD\n",
    "import sklearn as sk\n",
    "import sklearn.model_selection"
   ]
  },
  {
   "cell_type": "markdown",
   "metadata": {},
   "source": [
    "### Extract labels for images"
   ]
  },
  {
   "cell_type": "code",
   "execution_count": 105,
   "metadata": {},
   "outputs": [],
   "source": [
    "result_frame = pd.read_csv('dataset/subsystem_1/Dataset_Subsystem_1.csv')"
   ]
  },
  {
   "cell_type": "code",
   "execution_count": 106,
   "metadata": {
    "scrolled": true
   },
   "outputs": [
    {
     "data": {
      "text/html": [
       "<div>\n",
       "<style scoped>\n",
       "    .dataframe tbody tr th:only-of-type {\n",
       "        vertical-align: middle;\n",
       "    }\n",
       "\n",
       "    .dataframe tbody tr th {\n",
       "        vertical-align: top;\n",
       "    }\n",
       "\n",
       "    .dataframe thead th {\n",
       "        text-align: right;\n",
       "    }\n",
       "</style>\n",
       "<table border=\"1\" class=\"dataframe\">\n",
       "  <thead>\n",
       "    <tr style=\"text-align: right;\">\n",
       "      <th></th>\n",
       "      <th>ID</th>\n",
       "      <th>source</th>\n",
       "      <th>frame</th>\n",
       "      <th>camera_facing_side</th>\n",
       "      <th>gesture</th>\n",
       "      <th>palm_root_x</th>\n",
       "      <th>palm_root_y</th>\n",
       "      <th>palm_thumb_1_x</th>\n",
       "      <th>palm_thumb_1_y</th>\n",
       "      <th>palm_thumb_2_x</th>\n",
       "      <th>...</th>\n",
       "      <th>dorsal_ring_4_x</th>\n",
       "      <th>dorsal_ring_4_y</th>\n",
       "      <th>dorsal_pinky_1_x</th>\n",
       "      <th>dorsal_pinky_1_y</th>\n",
       "      <th>dorsal_pinky_2_x</th>\n",
       "      <th>dorsal_pinky_2_y</th>\n",
       "      <th>dorsal_pinky_3_x</th>\n",
       "      <th>dorsal_pinky_3_y</th>\n",
       "      <th>dorsal_pinky_4_x</th>\n",
       "      <th>dorsal_pinky_4_y</th>\n",
       "    </tr>\n",
       "  </thead>\n",
       "  <tbody>\n",
       "    <tr>\n",
       "      <th>0</th>\n",
       "      <td>102</td>\n",
       "      <td>open_palm.webm</td>\n",
       "      <td>0</td>\n",
       "      <td>open</td>\n",
       "      <td>palm</td>\n",
       "      <td>279</td>\n",
       "      <td>369</td>\n",
       "      <td>189</td>\n",
       "      <td>332</td>\n",
       "      <td>137</td>\n",
       "      <td>...</td>\n",
       "      <td>0</td>\n",
       "      <td>0</td>\n",
       "      <td>0</td>\n",
       "      <td>0</td>\n",
       "      <td>0</td>\n",
       "      <td>0</td>\n",
       "      <td>0</td>\n",
       "      <td>0</td>\n",
       "      <td>0</td>\n",
       "      <td>0</td>\n",
       "    </tr>\n",
       "    <tr>\n",
       "      <th>1</th>\n",
       "      <td>102</td>\n",
       "      <td>open_palm.webm</td>\n",
       "      <td>1</td>\n",
       "      <td>open</td>\n",
       "      <td>palm</td>\n",
       "      <td>279</td>\n",
       "      <td>370</td>\n",
       "      <td>188</td>\n",
       "      <td>331</td>\n",
       "      <td>137</td>\n",
       "      <td>...</td>\n",
       "      <td>0</td>\n",
       "      <td>0</td>\n",
       "      <td>0</td>\n",
       "      <td>0</td>\n",
       "      <td>0</td>\n",
       "      <td>0</td>\n",
       "      <td>0</td>\n",
       "      <td>0</td>\n",
       "      <td>0</td>\n",
       "      <td>0</td>\n",
       "    </tr>\n",
       "    <tr>\n",
       "      <th>2</th>\n",
       "      <td>102</td>\n",
       "      <td>open_palm.webm</td>\n",
       "      <td>2</td>\n",
       "      <td>open</td>\n",
       "      <td>palm</td>\n",
       "      <td>279</td>\n",
       "      <td>370</td>\n",
       "      <td>187</td>\n",
       "      <td>331</td>\n",
       "      <td>137</td>\n",
       "      <td>...</td>\n",
       "      <td>0</td>\n",
       "      <td>0</td>\n",
       "      <td>0</td>\n",
       "      <td>0</td>\n",
       "      <td>0</td>\n",
       "      <td>0</td>\n",
       "      <td>0</td>\n",
       "      <td>0</td>\n",
       "      <td>0</td>\n",
       "      <td>0</td>\n",
       "    </tr>\n",
       "    <tr>\n",
       "      <th>3</th>\n",
       "      <td>102</td>\n",
       "      <td>open_palm.webm</td>\n",
       "      <td>3</td>\n",
       "      <td>open</td>\n",
       "      <td>palm</td>\n",
       "      <td>278</td>\n",
       "      <td>370</td>\n",
       "      <td>186</td>\n",
       "      <td>330</td>\n",
       "      <td>136</td>\n",
       "      <td>...</td>\n",
       "      <td>0</td>\n",
       "      <td>0</td>\n",
       "      <td>0</td>\n",
       "      <td>0</td>\n",
       "      <td>0</td>\n",
       "      <td>0</td>\n",
       "      <td>0</td>\n",
       "      <td>0</td>\n",
       "      <td>0</td>\n",
       "      <td>0</td>\n",
       "    </tr>\n",
       "    <tr>\n",
       "      <th>4</th>\n",
       "      <td>102</td>\n",
       "      <td>open_palm.webm</td>\n",
       "      <td>4</td>\n",
       "      <td>open</td>\n",
       "      <td>palm</td>\n",
       "      <td>278</td>\n",
       "      <td>371</td>\n",
       "      <td>185</td>\n",
       "      <td>329</td>\n",
       "      <td>136</td>\n",
       "      <td>...</td>\n",
       "      <td>0</td>\n",
       "      <td>0</td>\n",
       "      <td>0</td>\n",
       "      <td>0</td>\n",
       "      <td>0</td>\n",
       "      <td>0</td>\n",
       "      <td>0</td>\n",
       "      <td>0</td>\n",
       "      <td>0</td>\n",
       "      <td>0</td>\n",
       "    </tr>\n",
       "    <tr>\n",
       "      <th>...</th>\n",
       "      <td>...</td>\n",
       "      <td>...</td>\n",
       "      <td>...</td>\n",
       "      <td>...</td>\n",
       "      <td>...</td>\n",
       "      <td>...</td>\n",
       "      <td>...</td>\n",
       "      <td>...</td>\n",
       "      <td>...</td>\n",
       "      <td>...</td>\n",
       "      <td>...</td>\n",
       "      <td>...</td>\n",
       "      <td>...</td>\n",
       "      <td>...</td>\n",
       "      <td>...</td>\n",
       "      <td>...</td>\n",
       "      <td>...</td>\n",
       "      <td>...</td>\n",
       "      <td>...</td>\n",
       "      <td>...</td>\n",
       "      <td>...</td>\n",
       "    </tr>\n",
       "    <tr>\n",
       "      <th>11991</th>\n",
       "      <td>723</td>\n",
       "      <td>three_fingers_dorsal.webm</td>\n",
       "      <td>197</td>\n",
       "      <td>three_fingers</td>\n",
       "      <td>dorsal</td>\n",
       "      <td>0</td>\n",
       "      <td>0</td>\n",
       "      <td>0</td>\n",
       "      <td>0</td>\n",
       "      <td>0</td>\n",
       "      <td>...</td>\n",
       "      <td>0</td>\n",
       "      <td>0</td>\n",
       "      <td>800</td>\n",
       "      <td>312</td>\n",
       "      <td>0</td>\n",
       "      <td>0</td>\n",
       "      <td>0</td>\n",
       "      <td>0</td>\n",
       "      <td>0</td>\n",
       "      <td>0</td>\n",
       "    </tr>\n",
       "    <tr>\n",
       "      <th>11992</th>\n",
       "      <td>723</td>\n",
       "      <td>three_fingers_dorsal.webm</td>\n",
       "      <td>198</td>\n",
       "      <td>three_fingers</td>\n",
       "      <td>dorsal</td>\n",
       "      <td>0</td>\n",
       "      <td>0</td>\n",
       "      <td>0</td>\n",
       "      <td>0</td>\n",
       "      <td>0</td>\n",
       "      <td>...</td>\n",
       "      <td>0</td>\n",
       "      <td>0</td>\n",
       "      <td>800</td>\n",
       "      <td>311</td>\n",
       "      <td>0</td>\n",
       "      <td>0</td>\n",
       "      <td>0</td>\n",
       "      <td>0</td>\n",
       "      <td>0</td>\n",
       "      <td>0</td>\n",
       "    </tr>\n",
       "    <tr>\n",
       "      <th>11993</th>\n",
       "      <td>723</td>\n",
       "      <td>three_fingers_dorsal.webm</td>\n",
       "      <td>199</td>\n",
       "      <td>three_fingers</td>\n",
       "      <td>dorsal</td>\n",
       "      <td>0</td>\n",
       "      <td>0</td>\n",
       "      <td>0</td>\n",
       "      <td>0</td>\n",
       "      <td>0</td>\n",
       "      <td>...</td>\n",
       "      <td>0</td>\n",
       "      <td>0</td>\n",
       "      <td>800</td>\n",
       "      <td>311</td>\n",
       "      <td>0</td>\n",
       "      <td>0</td>\n",
       "      <td>0</td>\n",
       "      <td>0</td>\n",
       "      <td>0</td>\n",
       "      <td>0</td>\n",
       "    </tr>\n",
       "    <tr>\n",
       "      <th>11994</th>\n",
       "      <td>723</td>\n",
       "      <td>three_fingers_dorsal.webm</td>\n",
       "      <td>200</td>\n",
       "      <td>three_fingers</td>\n",
       "      <td>dorsal</td>\n",
       "      <td>0</td>\n",
       "      <td>0</td>\n",
       "      <td>0</td>\n",
       "      <td>0</td>\n",
       "      <td>0</td>\n",
       "      <td>...</td>\n",
       "      <td>0</td>\n",
       "      <td>0</td>\n",
       "      <td>800</td>\n",
       "      <td>311</td>\n",
       "      <td>0</td>\n",
       "      <td>0</td>\n",
       "      <td>0</td>\n",
       "      <td>0</td>\n",
       "      <td>0</td>\n",
       "      <td>0</td>\n",
       "    </tr>\n",
       "    <tr>\n",
       "      <th>11995</th>\n",
       "      <td>723</td>\n",
       "      <td>three_fingers_dorsal.webm</td>\n",
       "      <td>201</td>\n",
       "      <td>three_fingers</td>\n",
       "      <td>dorsal</td>\n",
       "      <td>0</td>\n",
       "      <td>0</td>\n",
       "      <td>0</td>\n",
       "      <td>0</td>\n",
       "      <td>0</td>\n",
       "      <td>...</td>\n",
       "      <td>0</td>\n",
       "      <td>0</td>\n",
       "      <td>800</td>\n",
       "      <td>311</td>\n",
       "      <td>0</td>\n",
       "      <td>0</td>\n",
       "      <td>0</td>\n",
       "      <td>0</td>\n",
       "      <td>0</td>\n",
       "      <td>0</td>\n",
       "    </tr>\n",
       "  </tbody>\n",
       "</table>\n",
       "<p>11996 rows × 85 columns</p>\n",
       "</div>"
      ],
      "text/plain": [
       "        ID                     source  frame camera_facing_side gesture  \\\n",
       "0      102             open_palm.webm      0               open    palm   \n",
       "1      102             open_palm.webm      1               open    palm   \n",
       "2      102             open_palm.webm      2               open    palm   \n",
       "3      102             open_palm.webm      3               open    palm   \n",
       "4      102             open_palm.webm      4               open    palm   \n",
       "...    ...                        ...    ...                ...     ...   \n",
       "11991  723  three_fingers_dorsal.webm    197      three_fingers  dorsal   \n",
       "11992  723  three_fingers_dorsal.webm    198      three_fingers  dorsal   \n",
       "11993  723  three_fingers_dorsal.webm    199      three_fingers  dorsal   \n",
       "11994  723  three_fingers_dorsal.webm    200      three_fingers  dorsal   \n",
       "11995  723  three_fingers_dorsal.webm    201      three_fingers  dorsal   \n",
       "\n",
       "       palm_root_x  palm_root_y  palm_thumb_1_x  palm_thumb_1_y  \\\n",
       "0              279          369             189             332   \n",
       "1              279          370             188             331   \n",
       "2              279          370             187             331   \n",
       "3              278          370             186             330   \n",
       "4              278          371             185             329   \n",
       "...            ...          ...             ...             ...   \n",
       "11991            0            0               0               0   \n",
       "11992            0            0               0               0   \n",
       "11993            0            0               0               0   \n",
       "11994            0            0               0               0   \n",
       "11995            0            0               0               0   \n",
       "\n",
       "       palm_thumb_2_x  ...  dorsal_ring_4_x  dorsal_ring_4_y  \\\n",
       "0                 137  ...                0                0   \n",
       "1                 137  ...                0                0   \n",
       "2                 137  ...                0                0   \n",
       "3                 136  ...                0                0   \n",
       "4                 136  ...                0                0   \n",
       "...               ...  ...              ...              ...   \n",
       "11991               0  ...                0                0   \n",
       "11992               0  ...                0                0   \n",
       "11993               0  ...                0                0   \n",
       "11994               0  ...                0                0   \n",
       "11995               0  ...                0                0   \n",
       "\n",
       "       dorsal_pinky_1_x  dorsal_pinky_1_y  dorsal_pinky_2_x  dorsal_pinky_2_y  \\\n",
       "0                     0                 0                 0                 0   \n",
       "1                     0                 0                 0                 0   \n",
       "2                     0                 0                 0                 0   \n",
       "3                     0                 0                 0                 0   \n",
       "4                     0                 0                 0                 0   \n",
       "...                 ...               ...               ...               ...   \n",
       "11991               800               312                 0                 0   \n",
       "11992               800               311                 0                 0   \n",
       "11993               800               311                 0                 0   \n",
       "11994               800               311                 0                 0   \n",
       "11995               800               311                 0                 0   \n",
       "\n",
       "       dorsal_pinky_3_x  dorsal_pinky_3_y  dorsal_pinky_4_x  dorsal_pinky_4_y  \n",
       "0                     0                 0                 0                 0  \n",
       "1                     0                 0                 0                 0  \n",
       "2                     0                 0                 0                 0  \n",
       "3                     0                 0                 0                 0  \n",
       "4                     0                 0                 0                 0  \n",
       "...                 ...               ...               ...               ...  \n",
       "11991                 0                 0                 0                 0  \n",
       "11992                 0                 0                 0                 0  \n",
       "11993                 0                 0                 0                 0  \n",
       "11994                 0                 0                 0                 0  \n",
       "11995                 0                 0                 0                 0  \n",
       "\n",
       "[11996 rows x 85 columns]"
      ]
     },
     "execution_count": 106,
     "metadata": {},
     "output_type": "execute_result"
    }
   ],
   "source": [
    "result_frame"
   ]
  },
  {
   "cell_type": "code",
   "execution_count": 107,
   "metadata": {},
   "outputs": [],
   "source": [
    "result_frame_102_159 = result_frame[(result_frame['ID'] >= 102) & (result_frame['ID'] <= 300)  & (result_frame['frame'] < 10)]"
   ]
  },
  {
   "cell_type": "code",
   "execution_count": 108,
   "metadata": {},
   "outputs": [],
   "source": [
    "Y = result_frame_102_159.values[:,5:]"
   ]
  },
  {
   "cell_type": "code",
   "execution_count": 109,
   "metadata": {},
   "outputs": [
    {
     "data": {
      "text/plain": [
       "array([[279, 369, 189, ..., 0, 0, 0],\n",
       "       [279, 370, 188, ..., 0, 0, 0],\n",
       "       [279, 370, 187, ..., 0, 0, 0],\n",
       "       ...,\n",
       "       [0, 0, 0, ..., 0, 0, 0],\n",
       "       [0, 0, 0, ..., 0, 0, 0],\n",
       "       [0, 0, 0, ..., 0, 0, 0]], dtype=object)"
      ]
     },
     "execution_count": 109,
     "metadata": {},
     "output_type": "execute_result"
    }
   ],
   "source": [
    "Y"
   ]
  },
  {
   "cell_type": "markdown",
   "metadata": {},
   "source": [
    "### Extract frames from videos and transform them into images (do not run: too much data for the RAM)"
   ]
  },
  {
   "cell_type": "code",
   "execution_count": 110,
   "metadata": {},
   "outputs": [
    {
     "data": {
      "text/plain": [
       "(180, 480, 640)"
      ]
     },
     "execution_count": 110,
     "metadata": {},
     "output_type": "execute_result"
    }
   ],
   "source": [
    "train_folders = ['102','159', '294'] #, '441', '564', '576', '609','666','711','723'\n",
    "images_array = []\n",
    "gestures = ['open_palm','open_dorsal','fist_palm','fist_dorsal','three_fingers_palm','three_fingers_dorsal']\n",
    "for folder in train_folders:\n",
    "    for gesture in gestures:\n",
    "        i = 0\n",
    "        video_reader = cv2.VideoCapture(\"dataset/subsystem_1/videos/\"+folder+\"/\"+gesture+\".webm\")\n",
    "        ret, frame = video_reader.read()\n",
    "        while ret and i < 10:\n",
    "            ret, frame = video_reader.read()\n",
    "            i += 1\n",
    "            if not ret:\n",
    "                continue\n",
    "            gray_frame = cv2.cvtColor(frame, cv2.COLOR_BGR2GRAY)\n",
    "            images_array.append(gray_frame)\n",
    "X = np.array(images_array)\n",
    "X.shape"
   ]
  },
  {
   "cell_type": "code",
   "execution_count": 111,
   "metadata": {},
   "outputs": [],
   "source": [
    "X = X.reshape((-1,480,640,1))"
   ]
  },
  {
   "cell_type": "code",
   "execution_count": 112,
   "metadata": {},
   "outputs": [],
   "source": [
    "X_train,X_test, Y_train, Y_test = sklearn.model_selection.train_test_split(X,Y, test_size=0.2)"
   ]
  },
  {
   "cell_type": "markdown",
   "metadata": {},
   "source": [
    "### Convert data to be usable by Tensorflow and Keras"
   ]
  },
  {
   "cell_type": "code",
   "execution_count": 113,
   "metadata": {},
   "outputs": [],
   "source": [
    "X_train = tf.convert_to_tensor(X_train,np.float32)\n",
    "X_test = tf.convert_to_tensor(X_test,np.float32)\n",
    "Y_train = tf.convert_to_tensor(Y_train,np.float32)\n",
    "Y_test = tf.convert_to_tensor(Y_test,np.float32)\n",
    "# dataset = tf.data.Dataset.from_tensor_slices((X, Y))\n",
    "# batched_dataset = dataset.batch(4)"
   ]
  },
  {
   "cell_type": "markdown",
   "metadata": {},
   "source": [
    "### Create model to extract landmarks"
   ]
  },
  {
   "cell_type": "code",
   "execution_count": 114,
   "metadata": {},
   "outputs": [],
   "source": [
    "model = tf.keras.models.Sequential([\n",
    "    tf.keras.layers.Input(shape=(480,640,1)),\n",
    "    tf.keras.layers.Conv2D(1,3,input_shape = (480,640), activation='relu'),\n",
    "    tf.keras.layers.MaxPool2D(pool_size=(2,2)),\n",
    "    tf.keras.layers.Flatten(),\n",
    "    tf.keras.layers.Dense(200,activation='relu'),\n",
    "    tf.keras.layers.Dense(80)])\n",
    "\n",
    "sgd = SGD(learning_rate=1)\n",
    "model.compile(optimizer=sgd,\n",
    "              loss='mean_squared_error')"
   ]
  },
  {
   "cell_type": "markdown",
   "metadata": {},
   "source": [
    "### Train the model"
   ]
  },
  {
   "cell_type": "code",
   "execution_count": 115,
   "metadata": {},
   "outputs": [
    {
     "name": "stdout",
     "output_type": "stream",
     "text": [
      "Train on 144 samples\n",
      "Epoch 1/100\n",
      "144/144 [==============================] - 5s 37ms/sample - loss: 568747842.1875\n",
      "Epoch 2/100\n",
      "144/144 [==============================] - 5s 34ms/sample - loss: 1474672.5833\n",
      "Epoch 3/100\n",
      "144/144 [==============================] - 5s 35ms/sample - loss: 1150988.1111\n",
      "Epoch 4/100\n",
      "144/144 [==============================] - 5s 35ms/sample - loss: 899494.2639\n",
      "Epoch 5/100\n",
      "144/144 [==============================] - 5s 35ms/sample - loss: 704585.3194\n",
      "Epoch 6/100\n",
      "144/144 [==============================] - 5s 35ms/sample - loss: 552722.8125\n",
      "Epoch 7/100\n",
      "144/144 [==============================] - 5s 35ms/sample - loss: 435234.2118\n",
      "Epoch 8/100\n",
      "144/144 [==============================] - 5s 35ms/sample - loss: 344193.0486\n",
      "Epoch 9/100\n",
      "144/144 [==============================] - 5s 35ms/sample - loss: 273349.4062\n",
      "Epoch 10/100\n",
      "144/144 [==============================] - 5s 34ms/sample - loss: 218301.1424\n",
      "Epoch 11/100\n",
      "144/144 [==============================] - 5s 35ms/sample - loss: 175662.4184\n",
      "Epoch 12/100\n",
      "144/144 [==============================] - 5s 35ms/sample - loss: 142516.7708\n",
      "Epoch 13/100\n",
      "144/144 [==============================] - 5s 35ms/sample - loss: 116861.8194\n",
      "Epoch 14/100\n",
      "144/144 [==============================] - 5s 35ms/sample - loss: 96868.4983\n",
      "Epoch 15/100\n",
      "144/144 [==============================] - 5s 35ms/sample - loss: 81345.9792\n",
      "Epoch 16/100\n",
      "144/144 [==============================] - 5s 34ms/sample - loss: 69287.1484\n",
      "Epoch 17/100\n",
      "144/144 [==============================] - 5s 34ms/sample - loss: 59913.3003\n",
      "Epoch 18/100\n",
      "144/144 [==============================] - 5s 36ms/sample - loss: 52694.6107\n",
      "Epoch 19/100\n",
      "144/144 [==============================] - 5s 35ms/sample - loss: 47024.2821\n",
      "Epoch 20/100\n",
      "144/144 [==============================] - 5s 35ms/sample - loss: 42682.2604\n",
      "Epoch 21/100\n",
      "144/144 [==============================] - 5s 35ms/sample - loss: 39255.2491\n",
      "Epoch 22/100\n",
      "144/144 [==============================] - 5s 35ms/sample - loss: 36618.8889\n",
      "Epoch 23/100\n",
      "144/144 [==============================] - 5s 35ms/sample - loss: 34604.3728\n",
      "Epoch 24/100\n",
      "144/144 [==============================] - 5s 35ms/sample - loss: 33024.0556\n",
      "Epoch 25/100\n",
      "144/144 [==============================] - 5s 34ms/sample - loss: 31812.8639\n",
      "Epoch 26/100\n",
      "144/144 [==============================] - 5s 35ms/sample - loss: 30883.8982\n",
      "Epoch 27/100\n",
      "144/144 [==============================] - 5s 35ms/sample - loss: 30124.8199\n",
      "Epoch 28/100\n",
      "144/144 [==============================] - 5s 35ms/sample - loss: 29555.4540\n",
      "Epoch 29/100\n",
      "144/144 [==============================] - 5s 35ms/sample - loss: 29123.0742\n",
      "Epoch 30/100\n",
      "144/144 [==============================] - 5s 35ms/sample - loss: 28773.5530\n",
      "Epoch 31/100\n",
      "144/144 [==============================] - 5s 35ms/sample - loss: 28500.6523\n",
      "Epoch 32/100\n",
      "144/144 [==============================] - 5s 35ms/sample - loss: 28287.5625\n",
      "Epoch 33/100\n",
      "144/144 [==============================] - 5s 35ms/sample - loss: 28119.7973\n",
      "Epoch 34/100\n",
      "144/144 [==============================] - 5s 37ms/sample - loss: 27993.2437\n",
      "Epoch 35/100\n",
      "144/144 [==============================] - 5s 35ms/sample - loss: 27882.7426\n",
      "Epoch 36/100\n",
      "144/144 [==============================] - 5s 35ms/sample - loss: 27811.1701\n",
      "Epoch 37/100\n",
      "144/144 [==============================] - 5s 35ms/sample - loss: 27743.8828\n",
      "Epoch 38/100\n",
      "144/144 [==============================] - 5s 34ms/sample - loss: 27705.4570\n",
      "Epoch 39/100\n",
      "144/144 [==============================] - 5s 34ms/sample - loss: 27671.0343\n",
      "Epoch 40/100\n",
      "144/144 [==============================] - 5s 35ms/sample - loss: 27647.6819\n",
      "Epoch 41/100\n",
      "144/144 [==============================] - 5s 35ms/sample - loss: 27632.7072\n",
      "Epoch 42/100\n",
      "144/144 [==============================] - 5s 35ms/sample - loss: 27608.6306\n",
      "Epoch 43/100\n",
      "144/144 [==============================] - 5s 35ms/sample - loss: 27588.5113\n",
      "Epoch 44/100\n",
      "144/144 [==============================] - 5s 35ms/sample - loss: 27582.3668\n",
      "Epoch 45/100\n",
      "144/144 [==============================] - 5s 35ms/sample - loss: 27578.7220\n",
      "Epoch 46/100\n",
      " 32/144 [=====>........................] - ETA: 4s"
     ]
    },
    {
     "ename": "KeyboardInterrupt",
     "evalue": "",
     "output_type": "error",
     "traceback": [
      "\u001b[0;31m---------------------------------------------------------------------------\u001b[0m",
      "\u001b[0;31mKeyboardInterrupt\u001b[0m                         Traceback (most recent call last)",
      "\u001b[0;32m<ipython-input-115-276fb1f3d9dc>\u001b[0m in \u001b[0;36m<module>\u001b[0;34m\u001b[0m\n\u001b[0;32m----> 1\u001b[0;31m \u001b[0mmodel\u001b[0m\u001b[0;34m.\u001b[0m\u001b[0mfit\u001b[0m\u001b[0;34m(\u001b[0m\u001b[0mX_train\u001b[0m\u001b[0;34m,\u001b[0m\u001b[0mY_train\u001b[0m\u001b[0;34m,\u001b[0m\u001b[0mepochs\u001b[0m\u001b[0;34m=\u001b[0m\u001b[0;36m100\u001b[0m\u001b[0;34m)\u001b[0m\u001b[0;34m\u001b[0m\u001b[0;34m\u001b[0m\u001b[0m\n\u001b[0m",
      "\u001b[0;32m~/anaconda3/lib/python3.7/site-packages/tensorflow_core/python/keras/engine/training.py\u001b[0m in \u001b[0;36mfit\u001b[0;34m(self, x, y, batch_size, epochs, verbose, callbacks, validation_split, validation_data, shuffle, class_weight, sample_weight, initial_epoch, steps_per_epoch, validation_steps, validation_freq, max_queue_size, workers, use_multiprocessing, **kwargs)\u001b[0m\n\u001b[1;32m    817\u001b[0m         \u001b[0mmax_queue_size\u001b[0m\u001b[0;34m=\u001b[0m\u001b[0mmax_queue_size\u001b[0m\u001b[0;34m,\u001b[0m\u001b[0;34m\u001b[0m\u001b[0;34m\u001b[0m\u001b[0m\n\u001b[1;32m    818\u001b[0m         \u001b[0mworkers\u001b[0m\u001b[0;34m=\u001b[0m\u001b[0mworkers\u001b[0m\u001b[0;34m,\u001b[0m\u001b[0;34m\u001b[0m\u001b[0;34m\u001b[0m\u001b[0m\n\u001b[0;32m--> 819\u001b[0;31m         use_multiprocessing=use_multiprocessing)\n\u001b[0m\u001b[1;32m    820\u001b[0m \u001b[0;34m\u001b[0m\u001b[0m\n\u001b[1;32m    821\u001b[0m   def evaluate(self,\n",
      "\u001b[0;32m~/anaconda3/lib/python3.7/site-packages/tensorflow_core/python/keras/engine/training_v2.py\u001b[0m in \u001b[0;36mfit\u001b[0;34m(self, model, x, y, batch_size, epochs, verbose, callbacks, validation_split, validation_data, shuffle, class_weight, sample_weight, initial_epoch, steps_per_epoch, validation_steps, validation_freq, max_queue_size, workers, use_multiprocessing, **kwargs)\u001b[0m\n\u001b[1;32m    340\u001b[0m                 \u001b[0mmode\u001b[0m\u001b[0;34m=\u001b[0m\u001b[0mModeKeys\u001b[0m\u001b[0;34m.\u001b[0m\u001b[0mTRAIN\u001b[0m\u001b[0;34m,\u001b[0m\u001b[0;34m\u001b[0m\u001b[0;34m\u001b[0m\u001b[0m\n\u001b[1;32m    341\u001b[0m                 \u001b[0mtraining_context\u001b[0m\u001b[0;34m=\u001b[0m\u001b[0mtraining_context\u001b[0m\u001b[0;34m,\u001b[0m\u001b[0;34m\u001b[0m\u001b[0;34m\u001b[0m\u001b[0m\n\u001b[0;32m--> 342\u001b[0;31m                 total_epochs=epochs)\n\u001b[0m\u001b[1;32m    343\u001b[0m             \u001b[0mcbks\u001b[0m\u001b[0;34m.\u001b[0m\u001b[0mmake_logs\u001b[0m\u001b[0;34m(\u001b[0m\u001b[0mmodel\u001b[0m\u001b[0;34m,\u001b[0m \u001b[0mepoch_logs\u001b[0m\u001b[0;34m,\u001b[0m \u001b[0mtraining_result\u001b[0m\u001b[0;34m,\u001b[0m \u001b[0mModeKeys\u001b[0m\u001b[0;34m.\u001b[0m\u001b[0mTRAIN\u001b[0m\u001b[0;34m)\u001b[0m\u001b[0;34m\u001b[0m\u001b[0;34m\u001b[0m\u001b[0m\n\u001b[1;32m    344\u001b[0m \u001b[0;34m\u001b[0m\u001b[0m\n",
      "\u001b[0;32m~/anaconda3/lib/python3.7/site-packages/tensorflow_core/python/keras/engine/training_v2.py\u001b[0m in \u001b[0;36mrun_one_epoch\u001b[0;34m(model, iterator, execution_function, dataset_size, batch_size, strategy, steps_per_epoch, num_samples, mode, training_context, total_epochs)\u001b[0m\n\u001b[1;32m    126\u001b[0m         step=step, mode=mode, size=current_batch_size) as batch_logs:\n\u001b[1;32m    127\u001b[0m       \u001b[0;32mtry\u001b[0m\u001b[0;34m:\u001b[0m\u001b[0;34m\u001b[0m\u001b[0;34m\u001b[0m\u001b[0m\n\u001b[0;32m--> 128\u001b[0;31m         \u001b[0mbatch_outs\u001b[0m \u001b[0;34m=\u001b[0m \u001b[0mexecution_function\u001b[0m\u001b[0;34m(\u001b[0m\u001b[0miterator\u001b[0m\u001b[0;34m)\u001b[0m\u001b[0;34m\u001b[0m\u001b[0;34m\u001b[0m\u001b[0m\n\u001b[0m\u001b[1;32m    129\u001b[0m       \u001b[0;32mexcept\u001b[0m \u001b[0;34m(\u001b[0m\u001b[0mStopIteration\u001b[0m\u001b[0;34m,\u001b[0m \u001b[0merrors\u001b[0m\u001b[0;34m.\u001b[0m\u001b[0mOutOfRangeError\u001b[0m\u001b[0;34m)\u001b[0m\u001b[0;34m:\u001b[0m\u001b[0;34m\u001b[0m\u001b[0;34m\u001b[0m\u001b[0m\n\u001b[1;32m    130\u001b[0m         \u001b[0;31m# TODO(kaftan): File bug about tf function and errors.OutOfRangeError?\u001b[0m\u001b[0;34m\u001b[0m\u001b[0;34m\u001b[0m\u001b[0;34m\u001b[0m\u001b[0m\n",
      "\u001b[0;32m~/anaconda3/lib/python3.7/site-packages/tensorflow_core/python/keras/engine/training_v2_utils.py\u001b[0m in \u001b[0;36mexecution_function\u001b[0;34m(input_fn)\u001b[0m\n\u001b[1;32m     96\u001b[0m     \u001b[0;31m# `numpy` translates Tensors to values in Eager mode.\u001b[0m\u001b[0;34m\u001b[0m\u001b[0;34m\u001b[0m\u001b[0;34m\u001b[0m\u001b[0m\n\u001b[1;32m     97\u001b[0m     return nest.map_structure(_non_none_constant_value,\n\u001b[0;32m---> 98\u001b[0;31m                               distributed_function(input_fn))\n\u001b[0m\u001b[1;32m     99\u001b[0m \u001b[0;34m\u001b[0m\u001b[0m\n\u001b[1;32m    100\u001b[0m   \u001b[0;32mreturn\u001b[0m \u001b[0mexecution_function\u001b[0m\u001b[0;34m\u001b[0m\u001b[0;34m\u001b[0m\u001b[0m\n",
      "\u001b[0;32m~/anaconda3/lib/python3.7/site-packages/tensorflow_core/python/eager/def_function.py\u001b[0m in \u001b[0;36m__call__\u001b[0;34m(self, *args, **kwds)\u001b[0m\n\u001b[1;32m    566\u001b[0m         \u001b[0mxla_context\u001b[0m\u001b[0;34m.\u001b[0m\u001b[0mExit\u001b[0m\u001b[0;34m(\u001b[0m\u001b[0;34m)\u001b[0m\u001b[0;34m\u001b[0m\u001b[0;34m\u001b[0m\u001b[0m\n\u001b[1;32m    567\u001b[0m     \u001b[0;32melse\u001b[0m\u001b[0;34m:\u001b[0m\u001b[0;34m\u001b[0m\u001b[0;34m\u001b[0m\u001b[0m\n\u001b[0;32m--> 568\u001b[0;31m       \u001b[0mresult\u001b[0m \u001b[0;34m=\u001b[0m \u001b[0mself\u001b[0m\u001b[0;34m.\u001b[0m\u001b[0m_call\u001b[0m\u001b[0;34m(\u001b[0m\u001b[0;34m*\u001b[0m\u001b[0margs\u001b[0m\u001b[0;34m,\u001b[0m \u001b[0;34m**\u001b[0m\u001b[0mkwds\u001b[0m\u001b[0;34m)\u001b[0m\u001b[0;34m\u001b[0m\u001b[0;34m\u001b[0m\u001b[0m\n\u001b[0m\u001b[1;32m    569\u001b[0m \u001b[0;34m\u001b[0m\u001b[0m\n\u001b[1;32m    570\u001b[0m     \u001b[0;32mif\u001b[0m \u001b[0mtracing_count\u001b[0m \u001b[0;34m==\u001b[0m \u001b[0mself\u001b[0m\u001b[0;34m.\u001b[0m\u001b[0m_get_tracing_count\u001b[0m\u001b[0;34m(\u001b[0m\u001b[0;34m)\u001b[0m\u001b[0;34m:\u001b[0m\u001b[0;34m\u001b[0m\u001b[0;34m\u001b[0m\u001b[0m\n",
      "\u001b[0;32m~/anaconda3/lib/python3.7/site-packages/tensorflow_core/python/eager/def_function.py\u001b[0m in \u001b[0;36m_call\u001b[0;34m(self, *args, **kwds)\u001b[0m\n\u001b[1;32m    597\u001b[0m       \u001b[0;31m# In this case we have created variables on the first call, so we run the\u001b[0m\u001b[0;34m\u001b[0m\u001b[0;34m\u001b[0m\u001b[0;34m\u001b[0m\u001b[0m\n\u001b[1;32m    598\u001b[0m       \u001b[0;31m# defunned version which is guaranteed to never create variables.\u001b[0m\u001b[0;34m\u001b[0m\u001b[0;34m\u001b[0m\u001b[0;34m\u001b[0m\u001b[0m\n\u001b[0;32m--> 599\u001b[0;31m       \u001b[0;32mreturn\u001b[0m \u001b[0mself\u001b[0m\u001b[0;34m.\u001b[0m\u001b[0m_stateless_fn\u001b[0m\u001b[0;34m(\u001b[0m\u001b[0;34m*\u001b[0m\u001b[0margs\u001b[0m\u001b[0;34m,\u001b[0m \u001b[0;34m**\u001b[0m\u001b[0mkwds\u001b[0m\u001b[0;34m)\u001b[0m  \u001b[0;31m# pylint: disable=not-callable\u001b[0m\u001b[0;34m\u001b[0m\u001b[0;34m\u001b[0m\u001b[0m\n\u001b[0m\u001b[1;32m    600\u001b[0m     \u001b[0;32melif\u001b[0m \u001b[0mself\u001b[0m\u001b[0;34m.\u001b[0m\u001b[0m_stateful_fn\u001b[0m \u001b[0;32mis\u001b[0m \u001b[0;32mnot\u001b[0m \u001b[0;32mNone\u001b[0m\u001b[0;34m:\u001b[0m\u001b[0;34m\u001b[0m\u001b[0;34m\u001b[0m\u001b[0m\n\u001b[1;32m    601\u001b[0m       \u001b[0;31m# Release the lock early so that multiple threads can perform the call\u001b[0m\u001b[0;34m\u001b[0m\u001b[0;34m\u001b[0m\u001b[0;34m\u001b[0m\u001b[0m\n",
      "\u001b[0;32m~/anaconda3/lib/python3.7/site-packages/tensorflow_core/python/eager/function.py\u001b[0m in \u001b[0;36m__call__\u001b[0;34m(self, *args, **kwargs)\u001b[0m\n\u001b[1;32m   2361\u001b[0m     \u001b[0;32mwith\u001b[0m \u001b[0mself\u001b[0m\u001b[0;34m.\u001b[0m\u001b[0m_lock\u001b[0m\u001b[0;34m:\u001b[0m\u001b[0;34m\u001b[0m\u001b[0;34m\u001b[0m\u001b[0m\n\u001b[1;32m   2362\u001b[0m       \u001b[0mgraph_function\u001b[0m\u001b[0;34m,\u001b[0m \u001b[0margs\u001b[0m\u001b[0;34m,\u001b[0m \u001b[0mkwargs\u001b[0m \u001b[0;34m=\u001b[0m \u001b[0mself\u001b[0m\u001b[0;34m.\u001b[0m\u001b[0m_maybe_define_function\u001b[0m\u001b[0;34m(\u001b[0m\u001b[0margs\u001b[0m\u001b[0;34m,\u001b[0m \u001b[0mkwargs\u001b[0m\u001b[0;34m)\u001b[0m\u001b[0;34m\u001b[0m\u001b[0;34m\u001b[0m\u001b[0m\n\u001b[0;32m-> 2363\u001b[0;31m     \u001b[0;32mreturn\u001b[0m \u001b[0mgraph_function\u001b[0m\u001b[0;34m.\u001b[0m\u001b[0m_filtered_call\u001b[0m\u001b[0;34m(\u001b[0m\u001b[0margs\u001b[0m\u001b[0;34m,\u001b[0m \u001b[0mkwargs\u001b[0m\u001b[0;34m)\u001b[0m  \u001b[0;31m# pylint: disable=protected-access\u001b[0m\u001b[0;34m\u001b[0m\u001b[0;34m\u001b[0m\u001b[0m\n\u001b[0m\u001b[1;32m   2364\u001b[0m \u001b[0;34m\u001b[0m\u001b[0m\n\u001b[1;32m   2365\u001b[0m   \u001b[0;34m@\u001b[0m\u001b[0mproperty\u001b[0m\u001b[0;34m\u001b[0m\u001b[0;34m\u001b[0m\u001b[0m\n",
      "\u001b[0;32m~/anaconda3/lib/python3.7/site-packages/tensorflow_core/python/eager/function.py\u001b[0m in \u001b[0;36m_filtered_call\u001b[0;34m(self, args, kwargs)\u001b[0m\n\u001b[1;32m   1609\u001b[0m          if isinstance(t, (ops.Tensor,\n\u001b[1;32m   1610\u001b[0m                            resource_variable_ops.BaseResourceVariable))),\n\u001b[0;32m-> 1611\u001b[0;31m         self.captured_inputs)\n\u001b[0m\u001b[1;32m   1612\u001b[0m \u001b[0;34m\u001b[0m\u001b[0m\n\u001b[1;32m   1613\u001b[0m   \u001b[0;32mdef\u001b[0m \u001b[0m_call_flat\u001b[0m\u001b[0;34m(\u001b[0m\u001b[0mself\u001b[0m\u001b[0;34m,\u001b[0m \u001b[0margs\u001b[0m\u001b[0;34m,\u001b[0m \u001b[0mcaptured_inputs\u001b[0m\u001b[0;34m,\u001b[0m \u001b[0mcancellation_manager\u001b[0m\u001b[0;34m=\u001b[0m\u001b[0;32mNone\u001b[0m\u001b[0;34m)\u001b[0m\u001b[0;34m:\u001b[0m\u001b[0;34m\u001b[0m\u001b[0;34m\u001b[0m\u001b[0m\n",
      "\u001b[0;32m~/anaconda3/lib/python3.7/site-packages/tensorflow_core/python/eager/function.py\u001b[0m in \u001b[0;36m_call_flat\u001b[0;34m(self, args, captured_inputs, cancellation_manager)\u001b[0m\n\u001b[1;32m   1690\u001b[0m       \u001b[0;31m# No tape is watching; skip to running the function.\u001b[0m\u001b[0;34m\u001b[0m\u001b[0;34m\u001b[0m\u001b[0;34m\u001b[0m\u001b[0m\n\u001b[1;32m   1691\u001b[0m       return self._build_call_outputs(self._inference_function.call(\n\u001b[0;32m-> 1692\u001b[0;31m           ctx, args, cancellation_manager=cancellation_manager))\n\u001b[0m\u001b[1;32m   1693\u001b[0m     forward_backward = self._select_forward_and_backward_functions(\n\u001b[1;32m   1694\u001b[0m         \u001b[0margs\u001b[0m\u001b[0;34m,\u001b[0m\u001b[0;34m\u001b[0m\u001b[0;34m\u001b[0m\u001b[0m\n",
      "\u001b[0;32m~/anaconda3/lib/python3.7/site-packages/tensorflow_core/python/eager/function.py\u001b[0m in \u001b[0;36mcall\u001b[0;34m(self, ctx, args, cancellation_manager)\u001b[0m\n\u001b[1;32m    543\u001b[0m               \u001b[0minputs\u001b[0m\u001b[0;34m=\u001b[0m\u001b[0margs\u001b[0m\u001b[0;34m,\u001b[0m\u001b[0;34m\u001b[0m\u001b[0;34m\u001b[0m\u001b[0m\n\u001b[1;32m    544\u001b[0m               \u001b[0mattrs\u001b[0m\u001b[0;34m=\u001b[0m\u001b[0;34m(\u001b[0m\u001b[0;34m\"executor_type\"\u001b[0m\u001b[0;34m,\u001b[0m \u001b[0mexecutor_type\u001b[0m\u001b[0;34m,\u001b[0m \u001b[0;34m\"config_proto\"\u001b[0m\u001b[0;34m,\u001b[0m \u001b[0mconfig\u001b[0m\u001b[0;34m)\u001b[0m\u001b[0;34m,\u001b[0m\u001b[0;34m\u001b[0m\u001b[0;34m\u001b[0m\u001b[0m\n\u001b[0;32m--> 545\u001b[0;31m               ctx=ctx)\n\u001b[0m\u001b[1;32m    546\u001b[0m         \u001b[0;32melse\u001b[0m\u001b[0;34m:\u001b[0m\u001b[0;34m\u001b[0m\u001b[0;34m\u001b[0m\u001b[0m\n\u001b[1;32m    547\u001b[0m           outputs = execute.execute_with_cancellation(\n",
      "\u001b[0;32m~/anaconda3/lib/python3.7/site-packages/tensorflow_core/python/eager/execute.py\u001b[0m in \u001b[0;36mquick_execute\u001b[0;34m(op_name, num_outputs, inputs, attrs, ctx, name)\u001b[0m\n\u001b[1;32m     59\u001b[0m     tensors = pywrap_tensorflow.TFE_Py_Execute(ctx._handle, device_name,\n\u001b[1;32m     60\u001b[0m                                                \u001b[0mop_name\u001b[0m\u001b[0;34m,\u001b[0m \u001b[0minputs\u001b[0m\u001b[0;34m,\u001b[0m \u001b[0mattrs\u001b[0m\u001b[0;34m,\u001b[0m\u001b[0;34m\u001b[0m\u001b[0;34m\u001b[0m\u001b[0m\n\u001b[0;32m---> 61\u001b[0;31m                                                num_outputs)\n\u001b[0m\u001b[1;32m     62\u001b[0m   \u001b[0;32mexcept\u001b[0m \u001b[0mcore\u001b[0m\u001b[0;34m.\u001b[0m\u001b[0m_NotOkStatusException\u001b[0m \u001b[0;32mas\u001b[0m \u001b[0me\u001b[0m\u001b[0;34m:\u001b[0m\u001b[0;34m\u001b[0m\u001b[0;34m\u001b[0m\u001b[0m\n\u001b[1;32m     63\u001b[0m     \u001b[0;32mif\u001b[0m \u001b[0mname\u001b[0m \u001b[0;32mis\u001b[0m \u001b[0;32mnot\u001b[0m \u001b[0;32mNone\u001b[0m\u001b[0;34m:\u001b[0m\u001b[0;34m\u001b[0m\u001b[0;34m\u001b[0m\u001b[0m\n",
      "\u001b[0;31mKeyboardInterrupt\u001b[0m: "
     ]
    }
   ],
   "source": [
    "model.fit(X_train,Y_train,epochs=100)"
   ]
  },
  {
   "cell_type": "code",
   "execution_count": 116,
   "metadata": {},
   "outputs": [],
   "source": [
    "Y_pred = model.predict(X_test[:5])"
   ]
  },
  {
   "cell_type": "code",
   "execution_count": 117,
   "metadata": {
    "scrolled": true
   },
   "outputs": [
    {
     "data": {
      "text/plain": [
       "(5, 80)"
      ]
     },
     "execution_count": 117,
     "metadata": {},
     "output_type": "execute_result"
    }
   ],
   "source": [
    "Y_pred.shape"
   ]
  },
  {
   "cell_type": "code",
   "execution_count": 118,
   "metadata": {},
   "outputs": [
    {
     "data": {
      "text/plain": [
       "array([[190.0718  , 189.18588 , 168.85591 , 166.15862 , 136.59021 ,\n",
       "        134.03525 , 133.50255 , 126.307945, 119.34069 ,  89.85905 ,\n",
       "        118.02877 ,  79.56908 , 110.39867 ,  71.373   , 106.1097  ,\n",
       "         59.40292 , 125.759026,  95.50278 , 129.4871  ,  85.40651 ,\n",
       "        132.88689 ,  64.74645 , 128.78334 ,  57.455914,  66.767784,\n",
       "         43.888832,  69.30297 ,  45.656185,  70.27853 ,  37.792885,\n",
       "         71.60813 ,  43.121746,  76.91348 ,  57.174843,  80.36156 ,\n",
       "         46.80646 ,  83.7785  ,  50.391327,  90.27084 ,  50.100037,\n",
       "        175.64537 , 202.1279  , 135.25963 , 131.32924 , 131.96988 ,\n",
       "        110.716484, 142.52126 , 103.21745 , 185.40863 , 138.81712 ,\n",
       "        195.02809 , 119.93926 , 182.49107 , 108.4011  , 147.14185 ,\n",
       "         76.355316, 175.88245 , 144.82857 , 186.28761 , 121.22799 ,\n",
       "        179.63954 , 108.32012 , 141.95682 ,  79.83326 , 176.81633 ,\n",
       "        149.06538 , 256.77344 , 197.02347 , 192.18787 , 126.511826,\n",
       "        149.69254 , 100.99561 , 173.24565 , 155.00912 , 262.28748 ,\n",
       "        209.07793 , 188.89343 , 138.74962 , 149.09512 , 110.18728 ],\n",
       "       [190.0718  , 189.18588 , 168.85591 , 166.15862 , 136.59021 ,\n",
       "        134.03525 , 133.50255 , 126.307945, 119.34069 ,  89.85905 ,\n",
       "        118.02877 ,  79.56908 , 110.39867 ,  71.373   , 106.1097  ,\n",
       "         59.40292 , 125.759026,  95.50278 , 129.4871  ,  85.40651 ,\n",
       "        132.88689 ,  64.74645 , 128.78334 ,  57.455914,  66.767784,\n",
       "         43.888832,  69.30297 ,  45.656185,  70.27853 ,  37.792885,\n",
       "         71.60813 ,  43.121746,  76.91348 ,  57.174843,  80.36156 ,\n",
       "         46.80646 ,  83.7785  ,  50.391327,  90.27084 ,  50.100037,\n",
       "        175.64537 , 202.1279  , 135.25963 , 131.32924 , 131.96988 ,\n",
       "        110.716484, 142.52126 , 103.21745 , 185.40863 , 138.81712 ,\n",
       "        195.02809 , 119.93926 , 182.49107 , 108.4011  , 147.14185 ,\n",
       "         76.355316, 175.88245 , 144.82857 , 186.28761 , 121.22799 ,\n",
       "        179.63954 , 108.32012 , 141.95682 ,  79.83326 , 176.81633 ,\n",
       "        149.06538 , 256.77344 , 197.02347 , 192.18787 , 126.511826,\n",
       "        149.69254 , 100.99561 , 173.24565 , 155.00912 , 262.28748 ,\n",
       "        209.07793 , 188.89343 , 138.74962 , 149.09512 , 110.18728 ],\n",
       "       [190.0718  , 189.18588 , 168.85591 , 166.15862 , 136.59021 ,\n",
       "        134.03525 , 133.50255 , 126.307945, 119.34069 ,  89.85905 ,\n",
       "        118.02877 ,  79.56908 , 110.39867 ,  71.373   , 106.1097  ,\n",
       "         59.40292 , 125.759026,  95.50278 , 129.4871  ,  85.40651 ,\n",
       "        132.88689 ,  64.74645 , 128.78334 ,  57.455914,  66.767784,\n",
       "         43.888832,  69.30297 ,  45.656185,  70.27853 ,  37.792885,\n",
       "         71.60813 ,  43.121746,  76.91348 ,  57.174843,  80.36156 ,\n",
       "         46.80646 ,  83.7785  ,  50.391327,  90.27084 ,  50.100037,\n",
       "        175.64537 , 202.1279  , 135.25963 , 131.32924 , 131.96988 ,\n",
       "        110.716484, 142.52126 , 103.21745 , 185.40863 , 138.81712 ,\n",
       "        195.02809 , 119.93926 , 182.49107 , 108.4011  , 147.14185 ,\n",
       "         76.355316, 175.88245 , 144.82857 , 186.28761 , 121.22799 ,\n",
       "        179.63954 , 108.32012 , 141.95682 ,  79.83326 , 176.81633 ,\n",
       "        149.06538 , 256.77344 , 197.02347 , 192.18787 , 126.511826,\n",
       "        149.69254 , 100.99561 , 173.24565 , 155.00912 , 262.28748 ,\n",
       "        209.07793 , 188.89343 , 138.74962 , 149.09512 , 110.18728 ],\n",
       "       [190.0718  , 189.18588 , 168.85591 , 166.15862 , 136.59021 ,\n",
       "        134.03525 , 133.50255 , 126.307945, 119.34069 ,  89.85905 ,\n",
       "        118.02877 ,  79.56908 , 110.39867 ,  71.373   , 106.1097  ,\n",
       "         59.40292 , 125.759026,  95.50278 , 129.4871  ,  85.40651 ,\n",
       "        132.88689 ,  64.74645 , 128.78334 ,  57.455914,  66.767784,\n",
       "         43.888832,  69.30297 ,  45.656185,  70.27853 ,  37.792885,\n",
       "         71.60813 ,  43.121746,  76.91348 ,  57.174843,  80.36156 ,\n",
       "         46.80646 ,  83.7785  ,  50.391327,  90.27084 ,  50.100037,\n",
       "        175.64537 , 202.1279  , 135.25963 , 131.32924 , 131.96988 ,\n",
       "        110.716484, 142.52126 , 103.21745 , 185.40863 , 138.81712 ,\n",
       "        195.02809 , 119.93926 , 182.49107 , 108.4011  , 147.14185 ,\n",
       "         76.355316, 175.88245 , 144.82857 , 186.28761 , 121.22799 ,\n",
       "        179.63954 , 108.32012 , 141.95682 ,  79.83326 , 176.81633 ,\n",
       "        149.06538 , 256.77344 , 197.02347 , 192.18787 , 126.511826,\n",
       "        149.69254 , 100.99561 , 173.24565 , 155.00912 , 262.28748 ,\n",
       "        209.07793 , 188.89343 , 138.74962 , 149.09512 , 110.18728 ],\n",
       "       [190.0718  , 189.18588 , 168.85591 , 166.15862 , 136.59021 ,\n",
       "        134.03525 , 133.50255 , 126.307945, 119.34069 ,  89.85905 ,\n",
       "        118.02877 ,  79.56908 , 110.39867 ,  71.373   , 106.1097  ,\n",
       "         59.40292 , 125.759026,  95.50278 , 129.4871  ,  85.40651 ,\n",
       "        132.88689 ,  64.74645 , 128.78334 ,  57.455914,  66.767784,\n",
       "         43.888832,  69.30297 ,  45.656185,  70.27853 ,  37.792885,\n",
       "         71.60813 ,  43.121746,  76.91348 ,  57.174843,  80.36156 ,\n",
       "         46.80646 ,  83.7785  ,  50.391327,  90.27084 ,  50.100037,\n",
       "        175.64537 , 202.1279  , 135.25963 , 131.32924 , 131.96988 ,\n",
       "        110.716484, 142.52126 , 103.21745 , 185.40863 , 138.81712 ,\n",
       "        195.02809 , 119.93926 , 182.49107 , 108.4011  , 147.14185 ,\n",
       "         76.355316, 175.88245 , 144.82857 , 186.28761 , 121.22799 ,\n",
       "        179.63954 , 108.32012 , 141.95682 ,  79.83326 , 176.81633 ,\n",
       "        149.06538 , 256.77344 , 197.02347 , 192.18787 , 126.511826,\n",
       "        149.69254 , 100.99561 , 173.24565 , 155.00912 , 262.28748 ,\n",
       "        209.07793 , 188.89343 , 138.74962 , 149.09512 , 110.18728 ]],\n",
       "      dtype=float32)"
      ]
     },
     "execution_count": 118,
     "metadata": {},
     "output_type": "execute_result"
    }
   ],
   "source": [
    "Y_pred"
   ]
  },
  {
   "cell_type": "code",
   "execution_count": 102,
   "metadata": {},
   "outputs": [
    {
     "data": {
      "text/plain": [
       "<tf.Tensor: shape=(36, 80), dtype=float32, numpy=\n",
       "array([[382., 423., 322., ...,   0.,   0.,   0.],\n",
       "       [  0.,   0.,   0., ...,   0.,   0.,   0.],\n",
       "       [278., 371., 184., ...,   0.,   0.,   0.],\n",
       "       ...,\n",
       "       [500., 381., 440., ..., 323.,   0.,   0.],\n",
       "       [  0.,   0.,   0., ..., 266., 570., 246.],\n",
       "       [  0.,   0.,   0., ...,   0.,   0.,   0.]], dtype=float32)>"
      ]
     },
     "execution_count": 102,
     "metadata": {},
     "output_type": "execute_result"
    }
   ],
   "source": [
    "Y_test"
   ]
  },
  {
   "cell_type": "code",
   "execution_count": 33,
   "metadata": {},
   "outputs": [
    {
     "data": {
      "text/plain": [
       "{'_input_dataset': <TensorSliceDataset shapes: ((480, 640), (80,)), types: (tf.float32, tf.float32)>,\n",
       " '_batch_size': <tf.Tensor: shape=(), dtype=int64, numpy=4>,\n",
       " '_drop_remainder': <tf.Tensor: shape=(), dtype=bool, numpy=False>,\n",
       " '_structure': (TensorSpec(shape=(None, 480, 640), dtype=tf.float32, name=None),\n",
       "  TensorSpec(shape=(None, 80), dtype=tf.float32, name=None)),\n",
       " '_variant_tensor_attr': <tf.Tensor: shape=(), dtype=variant, numpy=<unprintable>>,\n",
       " '_self_setattr_tracking': True,\n",
       " '_self_unconditional_checkpoint_dependencies': [TrackableReference(name='_variant_tracker', ref=<tensorflow.python.data.ops.dataset_ops._VariantTracker object at 0x7fadfddf3b50>)],\n",
       " '_self_unconditional_dependency_names': {'_variant_tracker': <tensorflow.python.data.ops.dataset_ops._VariantTracker at 0x7fadfddf3b50>},\n",
       " '_self_unconditional_deferred_dependencies': {},\n",
       " '_self_update_uid': -1,\n",
       " '_self_name_based_restores': set(),\n",
       " '_variant_tracker': <tensorflow.python.data.ops.dataset_ops._VariantTracker at 0x7fadfddf3b50>,\n",
       " '_graph_attr': <tensorflow.python.framework.ops.Graph at 0x7fae20690a10>}"
      ]
     },
     "execution_count": 33,
     "metadata": {},
     "output_type": "execute_result"
    }
   ],
   "source": []
  },
  {
   "cell_type": "code",
   "execution_count": 22,
   "metadata": {},
   "outputs": [
    {
     "name": "stdout",
     "output_type": "stream",
     "text": [
      "(60, 480, 640)\n",
      "(60, 80)\n"
     ]
    }
   ],
   "source": [
    "print(X.shape)\n",
    "print(Y.shape)"
   ]
  },
  {
   "cell_type": "code",
   "execution_count": 34,
   "metadata": {},
   "outputs": [
    {
     "ename": "TypeError",
     "evalue": "fit() missing 1 required positional argument: 'y'",
     "output_type": "error",
     "traceback": [
      "\u001b[0;31m---------------------------------------------------------------------------\u001b[0m",
      "\u001b[0;31mTypeError\u001b[0m                                 Traceback (most recent call last)",
      "\u001b[0;32m<ipython-input-34-cd5754c91dcb>\u001b[0m in \u001b[0;36m<module>\u001b[0;34m\u001b[0m\n\u001b[0;32m----> 1\u001b[0;31m \u001b[0mmodel\u001b[0m\u001b[0;34m.\u001b[0m\u001b[0mfit\u001b[0m\u001b[0;34m(\u001b[0m\u001b[0mbatched_dataset\u001b[0m\u001b[0;34m)\u001b[0m\u001b[0;34m\u001b[0m\u001b[0;34m\u001b[0m\u001b[0m\n\u001b[0m",
      "\u001b[0;31mTypeError\u001b[0m: fit() missing 1 required positional argument: 'y'"
     ]
    }
   ],
   "source": [
    "model.fit(batched_dataset)"
   ]
  },
  {
   "cell_type": "code",
   "execution_count": null,
   "metadata": {},
   "outputs": [],
   "source": [
    "print(Y)"
   ]
  },
  {
   "cell_type": "code",
   "execution_count": null,
   "metadata": {},
   "outputs": [],
   "source": [
    "model.predict(np.array([X[0]]))"
   ]
  },
  {
   "cell_type": "code",
   "execution_count": null,
   "metadata": {},
   "outputs": [],
   "source": [
    "sk.model_selection.cross_val_score(model, X, Y, cv=5, scoring='neg_mean_squared_error')"
   ]
  },
  {
   "cell_type": "markdown",
   "metadata": {},
   "source": [
    "### Validate the model"
   ]
  },
  {
   "cell_type": "code",
   "execution_count": null,
   "metadata": {},
   "outputs": [],
   "source": [
    "model.metrics_squared_error(X_test,Y_test)"
   ]
  },
  {
   "cell_type": "code",
   "execution_count": null,
   "metadata": {},
   "outputs": [],
   "source": []
  }
 ],
 "metadata": {
  "kernelspec": {
   "display_name": "Python 3",
   "language": "python",
   "name": "python3"
  },
  "language_info": {
   "codemirror_mode": {
    "name": "ipython",
    "version": 3
   },
   "file_extension": ".py",
   "mimetype": "text/x-python",
   "name": "python",
   "nbconvert_exporter": "python",
   "pygments_lexer": "ipython3",
   "version": "3.7.7"
  }
 },
 "nbformat": 4,
 "nbformat_minor": 4
}
