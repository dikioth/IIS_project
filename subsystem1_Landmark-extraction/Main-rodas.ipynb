{
 "cells": [
  {
   "cell_type": "markdown",
   "metadata": {},
   "source": [
    "# Subsystem 1: Landmark extraction"
   ]
  },
  {
   "cell_type": "code",
   "execution_count": 7,
   "metadata": {},
   "outputs": [
    {
     "name": "stdout",
     "output_type": "stream",
     "text": [
      "Imported correctly ...\n"
     ]
    }
   ],
   "source": [
    "import tensorflow as tf\n",
    "import numpy as np\n",
    "# import sklearn as sk\n",
    "import pandas as pd\n",
    "import cv2\n",
    "import os \n",
    "from sklearn.ensemble import RandomForestClassifier\n",
    "from sklearn.preprocessing import LabelEncoder, OneHotEncoder\n",
    "from sklearn.model_selection import train_test_split\n",
    "import matplotlib.pyplot as plt             \n",
    "import random\n",
    "import ipywidgets as widgets\n",
    "from IPython.display import display\n",
    "from ipywidgets import interact, IntSlider\n",
    "import pickle\n",
    "import math\n",
    "\n",
    "from tensorflow.keras.models import Sequential\n",
    "from tensorflow.keras.layers import Conv2D, MaxPooling2D, Dropout, GlobalAveragePooling2D, Activation\n",
    "from tensorflow.keras.layers import Flatten, Dense\n",
    "from tensorflow.keras.layers import BatchNormalization\n",
    "from tensorflow.keras.callbacks import ModelCheckpoint, History\n",
    "from tqdm import tqdm\n",
    "import cv2\n",
    "from matplotlib import pyplot as plt\n",
    "import time\n",
    "# from utils import *\n",
    "# Load the saved model\n",
    "from tensorflow.keras.models import load_model\n",
    "from ipywebrtc import CameraStream, ImageRecorder, VideoRecorder\n",
    "print(\"Imported correctly ...\")\n"
   ]
  },
  {
   "cell_type": "code",
   "execution_count": 2,
   "metadata": {},
   "outputs": [],
   "source": [
    "PATH_DATASET_1 = '../../dataset/Dataset_Subsystem_1.csv'\n",
    "PATH_DATASET_2 = '../../dataset/Dataset_Subsystem_1.csv'\n",
    "PATH_VIDEOS    = '../../dataset/videos'"
   ]
  },
  {
   "cell_type": "code",
   "execution_count": 21,
   "metadata": {},
   "outputs": [],
   "source": [
    "###################\n",
    "# Usefull functions\n",
    "###################\n",
    "FRAME_WIDTH       = 640\n",
    "FRAME_HEIGHT      = 480\n",
    "\n",
    "\n",
    "def getFrames(path):\n",
    "    '''\n",
    "    Args: String.\n",
    "    Returns: arr: Numpy array containing all frames in video.\n",
    "    '''\n",
    "    arr = []\n",
    "    videocap = cv2.VideoCapture(path)\n",
    "\n",
    "    if '723/open_palm.webm' in path:\n",
    "        ret, frame = videocap.read()\n",
    "        ret, frame = videocap.read()\n",
    "    else:\n",
    "        ret, frame = videocap.read()\n",
    "    while ret:\n",
    "\n",
    "       #!TODO: Fix landmarks positions of croped videos.\n",
    "        ret, frame = videocap.read()\n",
    "        if not ret:\n",
    "            break\n",
    "\n",
    "        frame = frame[:FRAME_HEIGHT, :FRAME_WIDTH, :]  # Crop videos to 480x640\n",
    "        arr.append(frame)\n",
    "\n",
    "    videocap.release()\n",
    "    return np.array(arr)\n",
    "\n",
    "def displayFrame(frame):\n",
    "    disp = widgets.Image()\n",
    "    display_image = cv2.imencode('.png', frame)[1].tostring()\n",
    "    disp.value = display_image\n",
    "    display(disp)\n"
   ]
  },
  {
   "cell_type": "code",
   "execution_count": 5,
   "metadata": {},
   "outputs": [
    {
     "name": "stdout",
     "output_type": "stream",
     "text": [
      "Num samples found\t: 11996\n",
      "Num videos found\t: 60\n",
      "Done\n"
     ]
    }
   ],
   "source": [
    "##########################################\n",
    "# SUBSYSTEM I: Landmark Extraction dataset\n",
    "##########################################\n",
    "\n",
    "# Change below\n",
    "LOAD_SAVED_DATA = False # Create dataset or load from saved file.\n",
    "\n",
    "# X1 : dataset in shape (numvids * numframes, 480, 640 ,3 )\n",
    "LANDMARK_OFFSET_I = 5\n",
    "FRAME_WIDTH       = 640\n",
    "FRAME_HEIGHT      = 480\n",
    "\n",
    "if LOAD_SAVED_DATA:\n",
    "    X = np.load('data/X_orig_resized_factor_5.npy') # Gray color, scaled by 5 shape: (96, 128, 1)\n",
    "    Y = np.load('data/Y_orig_resized_factor_5.npy') \n",
    "\n",
    "    print(f\"Training datapoint shape: X_train.shape:{X.shape}. \\tType: {X.dtype}\")\n",
    "    print(f\"Training labels shape\\t: y_train.shape:{Y.shape}.  \\t\\tType: {Y.dtype}\")\n",
    "\n",
    "else:\n",
    "    # Importing dataset (dtype: string and uint32)\n",
    "    dset_1 = pd.read_csv(PATH_DATASET_1, sep=\",\", dtype={'ID': str, 'source': str, 'camera_facing_side': str, 'gesture': str})\n",
    "\n",
    "    # Extracting landmarks\n",
    "    Y1features = dset_1.columns[LANDMARK_OFFSET_I:]\n",
    "    Y1         = dset_1[Y1features].to_numpy()\n",
    "\n",
    "    # Ignore landmarks (set to 0) outside heigh 480 and width 640\n",
    "    index_outside_width = [Y1[:,::2] > FRAME_WIDTH]\n",
    "    Y1[:,::2][index_outside_width] = np.zeros(Y1[:,::2][index_outside_width].shape)\n",
    "\n",
    "    index_outside_width = [Y1[:,1::2] > FRAME_HEIGHT]\n",
    "    Y1[:,1::2][index_outside_width] = np.zeros(Y1[:,1::2][index_outside_width].shape)\n",
    "    \n",
    "\n",
    "    # Construct path to every video base on ID + source.\n",
    "    num_samples  = dset_1[\"ID\"].size                          # Num of samples (# videos * frames).\n",
    "    paths_arr    = dset_1[\"source\"].drop_duplicates() # Retrieve ID and source columns.\n",
    "    paths_full   = [os.path.join(PATH_VIDEOS, p) for p in paths_arr.values]\n",
    "\n",
    "    # Compute number of frames per video. (cv2.CAP_PROP_FRAME_COUNT does not work)\n",
    "    idx_frames   = np.append(paths_arr.index.to_numpy(), num_samples) # Contains comulative number of frames.\n",
    "    num_frames   = idx_frames[1:] - idx_frames[0:-1]                  # Contains number of frames of each video. \n",
    "    num_videos   = len(num_frames)                                    # Expecting 10 videos.\n",
    "\n",
    "    # Print debugging info\n",
    "    print(f\"Num samples found\\t: {num_samples}\")\n",
    "    print(f\"Num videos found\\t: {num_videos}\")\n",
    "\n",
    "    X1arr = [getFrames(path) for path in paths_full]\n",
    "    \n",
    "    print(\"Done\")\n",
    "    #!TODO: Fixed landmark positions of croped videos."
   ]
  },
  {
   "cell_type": "code",
   "execution_count": null,
   "metadata": {},
   "outputs": [],
   "source": [
    "## Preprocessing data: Load data, resize, split into train test sets. save"
   ]
  },
  {
   "cell_type": "code",
   "execution_count": 29,
   "metadata": {},
   "outputs": [
    {
     "name": "stdout",
     "output_type": "stream",
     "text": [
      "(11996, 480, 640, 3)\n"
     ]
    }
   ],
   "source": []
  },
  {
   "cell_type": "code",
   "execution_count": null,
   "metadata": {},
   "outputs": [],
   "source": [
    "# Resize frames and landmarks by factor 5\n",
    "frames_resized = []\n",
    "for frame in tqdm(X_orig):\n",
    "    resized = cv2.resize(frame, (96,128), interpolation = cv2.INTER_AREA) \n",
    "    arr.append(resized)\n",
    "    \n",
    "frames_resized = np.array(frames_resized).astype(np.float32)\n",
    "landmarks_resized = Y_orig.astype(np.float32)/5.0 # Scaled landmarks by factor 5.\n",
    "\n",
    "\n",
    "np.save('data/original_frames_resized.npy', frames_resized)\n",
    "np.save('data/original_landmarks_resized.npy', landmarks_resized)\n",
    "print(\"saved.\")\n",
    "\n",
    "print(arr.shape)"
   ]
  },
  {
   "cell_type": "code",
   "execution_count": null,
   "metadata": {},
   "outputs": [],
   "source": [
    "# Save resized frames\n",
    "np.save('data/frames_resized.npy', frames_resized)"
   ]
  },
  {
   "cell_type": "code",
   "execution_count": 23,
   "metadata": {},
   "outputs": [
    {
     "name": "stdout",
     "output_type": "stream",
     "text": [
      "(9596, 128, 96, 3)\n"
     ]
    }
   ],
   "source": [
    "X = np.load('data/original_frames_resized.npy')\n",
    "y = np.load('data/original_landmarks_resized.npy')\n",
    "X_train, X_test, y_train, y_test = train_test_split(X, y, test_size=0.20, random_state=42)\n",
    "print(X_train.shape)"
   ]
  },
  {
   "cell_type": "code",
   "execution_count": 24,
   "metadata": {},
   "outputs": [],
   "source": []
  },
  {
   "cell_type": "markdown",
   "metadata": {},
   "source": [
    "# PART 2: TRAIN MODEL"
   ]
  },
  {
   "cell_type": "code",
   "execution_count": 26,
   "metadata": {},
   "outputs": [
    {
     "name": "stdout",
     "output_type": "stream",
     "text": [
      "(9596, 128, 96, 3)\n",
      "(2400, 128, 96, 3)\n"
     ]
    },
    {
     "name": "stderr",
     "output_type": "stream",
     "text": [
      "Clipping input data to the valid range for imshow with RGB data ([0..1] for floats or [0..255] for integers).\n"
     ]
    },
    {
     "data": {
      "image/png": "[encoded data removed]",
      "text/plain": [
       "<Figure size 432x288 with 1 Axes>"
      ]
     },
     "metadata": {
      "needs_background": "light"
     },
     "output_type": "display_data"
    }
   ],
   "source": [
    "# Load frames: Croped frames showing only hands. Shape: (384, 384, 3)\n",
    "import numpy as np\n",
    "Xtrain = np.load('data/Xtrain.npy')\n",
    "Xtest  = np.load('data/Xtest.npy')\n",
    "Ytrain = np.load('data/Ytrain.npy')\n",
    "Ytest  = np.load('data/Ytest.npy')\n",
    "\n",
    "print(Xtrain.shape)\n",
    "print(Xtest.shape)\n",
    "\n",
    "displayFrame(Xtrain[0])"
   ]
  },
  {
   "cell_type": "code",
   "execution_count": 30,
   "metadata": {},
   "outputs": [
    {
     "data": {
      "text/plain": [
       "(9596, 128, 96, 3)"
      ]
     },
     "execution_count": 30,
     "metadata": {},
     "output_type": "execute_result"
    }
   ],
   "source": [
    "Xtrain_norm = []\n",
    "\n",
    "for frame in Xtrain:\n",
    "    shaped = cv2.resize(frame, (96,128), interpolation =cv2.INTER_AREA)\n",
    "    Xtrain_norm.append(shaped)\n",
    "\n",
    "Xtrain_norm = np.array(Xtrain_norm)\n",
    "Xtrain_norm.shape"
   ]
  },
  {
   "cell_type": "code",
   "execution_count": 31,
   "metadata": {},
   "outputs": [
    {
     "data": {
      "text/plain": [
       "(2400, 128, 96, 3)"
      ]
     },
     "execution_count": 31,
     "metadata": {},
     "output_type": "execute_result"
    }
   ],
   "source": [
    "Xtest_norm = []\n",
    "\n",
    "for frame in Xtest:\n",
    "    shaped = cv2.resize(frame, (96,128), interpolation =cv2.INTER_AREA)\n",
    "    Xtest_norm.append(shaped)\n",
    "\n",
    "Xtest_norm = np.array(Xtest_norm)\n",
    "Xtest_norm.shape"
   ]
  },
  {
   "cell_type": "markdown",
   "metadata": {},
   "source": [
    "# TEST TRAINED MODEL"
   ]
  },
  {
   "cell_type": "code",
   "execution_count": 25,
   "metadata": {},
   "outputs": [],
   "source": [
    "def displayFrame(frame, landmarks = None):\n",
    "    frame = frame.reshape(128,96,3)\n",
    "    if landmarks is not None:  \n",
    "        frame = frame.reshape(128,96,3)\n",
    "        landmarks = landmarks.reshape(2,5,4,2) # (2 hand sides, 5 fingers, 4 landmarks, 2 coordinates)\n",
    "        for side in landmarks:\n",
    "            root = side[0][0]\n",
    "            for finger in side:\n",
    "                for lmarks in finger:\n",
    "                    cv2.circle(frame, (lmarks[0], lmarks[1]), 1, color=(0,255,0))\n",
    "\n",
    "    plt.imshow(frame)\n",
    "    plt.show()\n"
   ]
  },
  {
   "cell_type": "code",
   "execution_count": 5,
   "metadata": {},
   "outputs": [
    {
     "name": "stdout",
     "output_type": "stream",
     "text": [
      "(9596, 128, 96, 3)\n"
     ]
    }
   ],
   "source": [
    "# Load train test datasets\n",
    "import numpy as np\n",
    "\n",
    "X_train = np.load('data/original_Xtrain_resized.npy')\n",
    "X_test = np.load('data/original_Xtest_resized.npy')\n",
    "Y_train = np.load('data/original_Ytrain.npy')\n",
    "Y_test = np.load('data/original_Ytest.npy')\n",
    "\n",
    "\n",
    "X_train = X_train.astype(np.float32)/255.0\n",
    "X_test = X_test.astype(np.float32)/255.0\n",
    "Y_train = Y_train.astype(np.float32)/5\n",
    "Y_test = Y_test.astype(np.float32)/5\n",
    "\n",
    "print(X_train.shape)"
   ]
  },
  {
   "cell_type": "code",
   "execution_count": 10,
   "metadata": {},
   "outputs": [
    {
     "data": {
      "image/png": "[encoded data removed]",
      "image/svg+xml": [
       "<?xml version=\"1.0\" encoding=\"utf-8\" standalone=\"no\"?>\r\n",
       "<!DOCTYPE svg PUBLIC \"-//W3C//DTD SVG 1.1//EN\"\r\n",
       "  \"http://www.w3.org/Graphics/SVG/1.1/DTD/svg11.dtd\">\r\n",
       "<!-- Created with matplotlib (https://matplotlib.org/) -->\r\n",
       "<svg height=\"251.467969pt\" version=\"1.1\" viewBox=\"0 0 203.5675 251.467969\" width=\"203.5675pt\" xmlns=\"http://www.w3.org/2000/svg\" xmlns:xlink=\"http://www.w3.org/1999/xlink\">\r\n",
       " <defs>\r\n",
       "  <style type=\"text/css\">\r\n",
       "*{stroke-linecap:butt;stroke-linejoin:round;}\r\n",
       "  </style>\r\n",
       " </defs>\r\n",
       " <g id=\"figure_1\">\r\n",
       "  <g id=\"patch_1\">\r\n",
       "   <path d=\"M 0 251.467969 \r\n",
       "L 203.5675 251.467969 \r\n",
       "L 203.5675 0 \r\n",
       "L 0 0 \r\n",
       "z\r\n",
       "\" style=\"fill:none;\"/>\r\n",
       "  </g>\r\n",
       "  <g id=\"axes_1\">\r\n",
       "   <g id=\"patch_2\">\r\n",
       "    <path d=\"M 33.2875 227.589844 \r\n",
       "L 196.3675 227.589844 \r\n",
       "L 196.3675 10.149844 \r\n",
       "L 33.2875 10.149844 \r\n",
       "z\r\n",
       "\" style=\"fill:#ffffff;\"/>\r\n",
       "   </g>\r\n",
       "   <g clip-path=\"url(#p1f7fe4f03e)\">\r\n",
       "    <image height=\"218\" id=\"image5e166f24cf\" transform=\"scale(1 -1)translate(0 -218)\" width=\"164\" x=\"33.2875\" xlink:href=\"data:image/png;base64,\r\n",
       "iVBORw0KGgoAAAANSUhEUgAAAKQAAADaCAYAAAAonenwAAAABHNCSVQICAgIfAhkiAAAIABJREFUeJzUvW2TJDmSHvY4gIjMquq3mZ7Zvd0l75Y8UUaRomSiyfRBJpOZvvGXykym/yOZ/oBoJM/Iu93prsqMAFwf3B1wICKysnpm7k5oy86seAEcgMPf4aD3cWIAICKEEEBEsBJjRGHGmjPWdUUpBQWMQAEpxvrclBIoTKDpCZkjVg4oKEgp4be/+xHzacL5PIEAtOoZAPC3/+Vv8ec//QnXywIuBYGAaYqYpwn/+T//Da7XF5zPZwRKCJRwvT5jWS5AyVYFwAxGwaK1JgCJCBMR5piQQkAgErhDQAgEItb3pBQG1lLAzBU2IkJAQAwBMRKmKSHGiNNpRkoJKaU6ZjFG/PGv/xr/27/7d3j36Tuc370DgUBEoEAI+tkrgaiOi3xLnePTRNTNj10bf+9dk56y9I+B55cLLpcr/uN//Bu8vLzgy5cv+Cd/+AP++Mc/4nSaEGJwsyQ/Li8v+D//9/8DX778hA+fPiCmCSGm3T6xzYu2BwIYBWCrkYZvKYmZN53sOlOKv+AqHBpHQckLMmcUJhQwSigAl9136rsKdM5ZEDKF2raBVQoDVAAyhLE2GcTtL99FAhRZ4K4avD087K8RAKb6eEWq4eNhb5P+9nI09r/ku3fDRaSI4xGxjRbbI0q8blbl6mDwAMQx3Ena1Ol1g+sHuZQC6BwFyMq1Z0MIABFyKVjWLyjMyLUTM8A/grC/igCACyOvBZfrC5gZMZ7b2IQACgE5ZxQqIBSUkutA+U76/tq7gpCN2lS4HcIxgMKMwlyRkYLNjfwLQahkoKDU7HhAWcd7S9/8E1tK9msWYlljIxjMbe5toYUQUdyzWyodEEJESgmMUOu6gWNjDdsrRBWOY0yRJ7VBo0TtWikFUdm2NVFKRlGqwQQwF4AzmAsYbNPQAWbsTMh7o6bknhRKBHBZZVFQQNY12P61dyIRwtj1uvIZWQluAMk1Fi5AipNgQjBKgIaEI4UspSCEWFsmIqQpIYSow9Q/fzQhIKrwMxyi3oGwt1i4b5LQt+EXsBGX+tHBqovKczjfn32uu9e9OsZtUu0PrtUTOdK16Yj/2wFk2Nx3SrrLKChchMUGArgoIKXCsFlxEKSsS7arWQaG9V4p3ORct6pYWxAKLogWyOgb6oSD7Dmu/1duwjoG3BB7ZNf+DkBVPrKJIwqIKamMutfT24XhkED7uCnGwXbe35MhewgIbcSayGHv1A9Tg0NntvWhcU4bW6trt02bp93h6Ek3MwtCjh3pBGrHzgGRyxT1FEkKUvRjJ3dRCFwYXAq49DLeprAoMyChOmzCikN5GxSTYRrqtuEKIEQiUUKIugHzk2tsvLAT9NGz2RBCjxy+KvccGfIRIcSINJ8QnMJnz38bc34TL3xj1dbvHiG3EPRzsK4L1rwKwfkVSrq5qvzqYe5WxeEQe7mOGZuFMypZO4XAVX9qci2hyg1O/vPVB9qhbsfNjOCCwQgI1snaT8It6kOgEBBjlE9KIAr13nEfqf/epWpbVt+xdkfFvPLmNeO9qkz8ZmWXe7SNh9+9+FRVyp2ne2pZfx9oVqaNW9mVIf1q2VBN/Y4UK3C2igJIZbuerRUHU89whJRTIGHtJYNQKvSlFOSc1bwi9VXtzqib1hQg5pNI1GQ+D3cTVIbBYoACjHeLYC8TbKaibgxUE5VLojjFGPHw8ICHxwecH85OrjxA4AEZN6VbtHtUy5DSlt5YjheCoVJhsV5kMAoYCEE/tFWAIGaxXERsKgVg7hfBHsY1ZdnDNDw3/HlbqbHmdgRnIhLtG05O6GDTFW345TTb3dLJM9amXCul1DaNYnpp0xSY8dPBfNw7mIwLSGXV5ET94qzyK4uKRtSQfD6dMc0zqoJCDIKZsPYAcNRN+2+XeYNkA3mDDadRzSYd6oWbveY9FA4NwZyEbQwdhcvA8ajHJVu0hya+RtdvlQ4h9+xs1hgNzxml6oRZGn9Qo6LMVfNsI8ZNJqwKUENKKx4hK2KiX1y7DO+GBloRe4DfDNnyZzMXWZ9DCPKuAsn6fTqfMc2nQxg8e0X3W3Csglap4xFlfH2p9QR2mEv0i9nGIUZRBIrrW62PG2G4DcvtcsMcXWvslJqxVPucB9AhRSBRcIxq5Jy14wWAKj/KdvO6CDsIYuuqU6ITbVTCyyht2Hr4mllJ/g4QU8+kCBMo4Mhsu0FCiBmJ4CkzIQQ34O4668AGpVAMBgXCp++/x9OH968RgNqrgyHf9PWuCtGo5B71654zC8kw1rbY7BkojPKTkXPBuor57q4+3sa+AfY21ukIGQFBSKMAVjrZ0pF4BlcbpINKr4lBmygglIAOW460uz2P0OAZ8TCFukiM9dy/eglwcqejXmRS6s6CYMeyiHB6OGOe5/uQbQc+ZhtXf5F2n7UrYzvsYW8VD8+0704h3HheeoWUS0HJeXjrW0s/puQu78uQSkU8iZbLvaAe1d95zSvWnEXOGKrKJYt3hQu4AIUY0TXbWKRHeid37UyusUwvlfTKzGDy2XSv7wcplQ+k1JsIFFpPKAiMhQuoUGVtYIhXihmnp0fMD2ffygCzUpzdux10r/ztr79CDdELSCNAvTi1Rxjam+u6YlkWmZvbXkOBbocT9bDvX973ZQ+2R5Oh4L4b1khQwrqDjL5TfRte396nkPXajhzcQCAQC8s1haODda/PbuCrsuKuG9vu2lAkb+OrYj8DXERjnaYZMU1QsjrgSzOsv41uv/70LQ5nkO5dG80tpC7gIyQupYj9kVqbeyoK3/ndYcNo9hl92SZjeFPJOJGeAi05YzUfcweckX1SU0hPnuVvcc9V/GOVKCjsTp9Na6jaLCEGMYZ7v/WtMlKDzggOj5RUYQGFNn+m2jOQc0EpBafTCfM0C5LawhgW294vD9N+UZ27cvs3oPQtKjXIkBY3wCqJeksJAKw5Y1lWmfMQOqPJURtHyGi/aefdDcuW4ANBRpt0A40gg20IuuYVuRTkIpE6O0OC5g5syOSsJTppLdSpPd4oxEZmRBsMH+wQgENlZtPHPao8IJCwWXLr0slorL5sjiAQYkyd/fEXL69bTL6xXuNghoz7ZVlXXK9XwUdnEtg6PrhS3xEBR+q419auL9v7N7sWK/uSkkvBkleUMgZ0+WZd/W6pmOLRdCPXfteDLTJafQRInGFl1Ts9PCp+gnW5V0WNmsy3Zf7U16HXQgjVXLRht6PIcQOsjqJuFuJ9HdyrY5eKeSpJA8xDyRoTa3PWNGPjrr7aXuTb/B5aqvMN7Puyc96yX1gljiIt64rLcj3Wu1gigEZgvPwpmBCc+U3Ztco01hkvtwBc5b4EQrSpOqAi/nKvSTfWfCuszBQvm7ygmGp+7GAwY1gYDaNvltfkwF+lqERWw75idAHEWylyXTKu1ytCiAhBo7+qmLVT/Q6CDs3vDs3G7EM7SLB7H2rq2al0bNh/0/Ab1M+bIZzvwqgQMcvz1UPjqduN0hQUa380+Pe/W73cPxMUGWv0OXV2vB7m+5ByD9Zfp3DHTmtQII3iSj9TpRTkNVcRi0x520Fee9fXYfbMVqj7Noh2zT63jJqi9LCEmd1U63sRwHt96so6aNv8rNZeaxtqbpEwJUFIrrLfsRI0XvM+aWoP6ndTaoKjjKVq8iEGpRQRISTEqNsZhigf3/gtEfBW1P63lNfETU9MTE5OISDsjJSVdV1xvS6QAN3WCA9IWZHRlCPUWxt07Odf2joMrmhyhUBdFYcQkNUEcJcxXtkCq/uvavCV+lD9PhgLmNxS+QyMMhJa7GEvdvSyEfogW4eQY789qTZjf70fLJhiQkqzuAoJoJQwn0+Ypmm3/5UVHJRjx4D16fDV/fpu3VTNsaMPjsMczemqSk0uYlkQjfu4NbOwFJ0z0vFksMr8+8vmMEC3+7tSkeZHbhuibpe6yYf3fB4mGBtto3HZ+B4qIjkEMThvzZgiZceSfNdA+wgB4dSGFyJHavj+dMJ8OuP88IQ1r0jzCdPphDQiJKNGzhxNQIXjJtbZIvNdbaKT78s9xaKceFhsNret9lbWVcw+suEvI1yvjd2rWCL4KeMpXj4nehUAZAiJbtZ9i7tmH4+ANhJV5iCgcMG6rkqYfURxrQVeGqyR1RWQNgHGAqUteY8AUVSMminobVsCq92xv7pXKps1w7lRacjeGiJGNN+6CfrQ+FP1u0dFxPPpEY/v3uOf/at/g3cfPuLDp08IlDHPEZ9/+BHzeYZpq9Z7m7BvZ8h7b5L7eI3XFRO0h1LnsWrYBaAAik2J3CvrsuL5yzP+7//r/8FPP/2EwoTqL2MLyAggBMQwoeiWhfnhARQigBkPjwmnc8R6+RNyXrEsWZXCgPP5LDs5gV6g7Xb1dXItVVZecf8mgezra54Q33HHsnde33AEb95xyOUf6Va9F9KxnR+3vrvnrC3ohqYpzZimGd99/g3effwOn3/zOzy9e4+nD++RQsY8BUzzXCNm6jxZGz1pu7M4AfSV600qoO7KocG60gtubtgbVgZAPTXrii9fn/GnP3/FshqFIXC2vVAEQkSkSSL/iXB6WkEhAXTCBz6hYMblyzPyesXLda3k5uFxbQgJwCFbvbAZBkBMQiX3SGuxNbYq2tMyK4ECpml2Wmgv89Von7FUatPLU7aJazPQ2Ma6yLgzSs5g7aO5GoPu17b5YTj2HiekEHFKZ7z/+D3ef/wO/+P/8r/i4+cfMD28w1oylmXBNBdMM4HibdHhNUXjbcUjHPXIb8UTk90aek9N4zj75boueL5ekOOEnE54WRfZAAfCslxQckZZCwgRARoZVBjxeQVCAocLwvQJ88MJl5eM5bri68uCJResS8b54YqU4pZlEzRcdWdVEyRquAncIrjGKKFmcOZLceONobMAPIXkvfVubMgLAgmAUNdAGYGKIrciT61nOwOdkd++qyRSULht5QUJiw4UMKUZT0/v8Re//6f4/Nvf4bsffoMPn3/E6fEJYZqBvAoShKVJGztjad90J0a+RtV3GzgkwB2L629VFigUKoboPDDDYwBKLsi5YP7wCed4QvlyqQv7wyeRdZYlY7lmXJ4X5C8X5LwimOzIBSWvyOuCtWSsOeO6ZGQGCgiUJoQpbQN0pXXbFupkFL1XimieFEJ9zjZ+iUFdO6kIafYqLgwm81kbO28R5228BK0smka0gknlyYBIQAo+ssfGvbNDaP0OS7yWraarXJT+Uov0iUGyU5znMz599z3++r/5b/H7P/5z/Pj732PNTjutwRwSklVdosOcfitVZF2pNzmH4tuw5GER5/1Ye8QU+Y8dUoY6XyMgMj7iIi44f/898sMVOD0jUEQMEd+/nxFDwNeXBT/9+Sv+9j//CculANdSORQ4I5cV63rFmlcsueByLSKnx4A4zUjnWQzjI6n2UT7dIBCpPS7ilCYAF02x0tOzKsyrpvDy8oy/+U//Act6lVA0omoOKiWjlIJlXcTm55QgKQHABOaAXAgcCkCyIEwR2bNVbJBR5btNQAHJbsEQE2Kc8PT+I57evce/+e//LT59/xk//v4vMT88YrlmpGmu7sEazJovAO17trpyAzNHT5mZsQ45rkN8Ini7/WtNHbYf4z6FNNK7rhnXZcXKAZkiOCYgJhnXaQYCoawMmibE6YSYJuSwomTZZRXTBDCBC+H8+A4xLfjT1z+jBEKJAddpBk+nGwhJzVPZsxGGbG6KbgOURyATbptpYV0XlJJxuXxFXq9og2273nTfjL1u5hao35QlbKKw6eA7g867Pze8rDMiwNh0QEoT5tMjPnz8Dh+/+x6//6d/hXcfv8O7T9+BWaiJsSij4MIlqG+i/6O10zFw/3iPhJWq3cPe7f87RYE9H3MHt5/nOlDyrOR4KsgQFssQ0a4wsKpds5Dcg3IzooCC3M8NAzFOKBMhpEnqISCHCAqxuQ4ZzRTQ1HhFSjWME0SWQETdLir2OW2p8yMyoJHikkAAWJYLluW61WqrobxXVRrqyfvMAWvRzXGlbQ227Qx+mM3LopsTVLpghCBidwgBMQnLmaYHfPf5R/zuD3+Ff/mv/zv8+Lvf4eHDJ0zTCefTo8qzpS4GGSMCEEAxgsj4g4bSOUTc4kpDzGZdCxgRtrHhG9h2IDseG9rbOIlHjJuBLgxmn6GOnDMW5YY5Z1yen5UOEV6+igs1TAnX5xdcvnxFyQWBYlNIa0PAUkR2fHz6KPEQ6xWZJbwvNbucA9ILJQPlYQAojLzmiqiBSBIHbJ40cocNu9wbXC9Hei+Of6UwYy0FKZIgBbWtuJ2oQb5arpTeAjeimnPm+Ywff/t7/PCbv8Af/vKf4dPnz3h4eoeYJrGfkSFOEDm4aqeeqmlShNBiF2lAsN4uuE8tfRkDQLb3Xy+eKvriCY8+uMl8V5/Vb9kXlcXEUxgpRLDFiaJgLQy+LLi+XLG8XIR0gsAUhZOEGUwTCpLuYCxKgAs4L1henoG89kpNZm6mm8bXusExpM1F8/UQxLA9RlnUVzyPbNT4aECrnA23y680QXwtBYVWpECIFNSb0m+3MGoeGJWuBd2GEGNEihEpRDzMT3j/4RP+5b/5H/Db3/0e/+SP/0zSy4UIaOa0wqWGt5kIIn52ZwwOQfcr24LoZcLXyjeZKd2IeW/TvfWM3PAIIa2sa8b1ckW5ZlBmnE8PIJUjXy7PyMuCr1+/YP3yjOuXr5jKhEARBQEhTMD0AI5nFDohZ+i2lhUlr1ivz1j+bkEJEakU1YSo7aPpIqh1idhznhoxlJrmHbmEGZbrx1ikVRe6x5pZRn56BUkVqQqGhVMA15wRkIVtsxl4NfJG3y5ouRdDCIgklPF8fofHxyf883/xr/Dd5x/x+7/8azy9fwemCFama8ETre+SFUiCC8TEcb1eMU1FxZoC5tDEm3FyiXQv5nj5tkF6r3QBJx0y3qaqUhgqjDuL0JZCNuYov/K6YrkuQAkoa8Hz12cgCPUTWZJrxHlR6kgUMJ9OQEpIpxMu14z1v3zBcv0K5oIYA5ZcwJAUNEgJqdKVumKc7NMJoy46WCkpd/d6hDRPjsksez7nUcgWPzW3970uABGURR4hrCyIEBUhwfq7G2cV+EnMGjEmzOmEx8d3eP/xe/zuL/+I73/8LT59/gHJ9sMoG/YZK2r2trpdVicpZ0yJq5w9bpqqMBhMN/Buly0P124h3N2IbVYJgxWofdqNX9C5yblgXVagTODCuFwWgGRLQ5wnKJmtSGkuQUozMEVQDLheryjrguvlBQDj4Zxkk1yIkvx0mnRPjU2hI+EjcMWQ0CGmUAVsdidax1k9JJU6liLbKesjDYkrUxxkG3E1Km3hCNvyZttQq5Yv5tWaYs+CIaL6oqf5jA8fvsN/9S/+NX74iz/g829/h8f375GmGUsuAGWkFMW2FiNyYQTIKg4hAiRapiyelj4l4CuA9dhE0zrY9fOXCjf71nqcOiNIFePNJKTXZcHz5YJMIlefz2csy4JlWRDnCIoR88MjIgfEK5CuABXCGhjMK/L1ivVSsC4FBQGMjC8vXzGdJpzePQFpBkKQXYeAyFpVV/SrQzVAi3+s9OtIOXEdtvAtkzXH9zxCMjXKtqFwbuCMRdVFsaMgmPISQkCaZsxpxufPv8HH7z7j829+j4/f/4DH9x8xzTNCbOn9NvGdNVTHjPAikbZF2RIHNBCPEMRp1btI2dkIDuo4qPkOpNyYfbw9FrpPZoeLGWQWcihZkbvRhu3DijGCo5hvQpQ6c4idImihh6J4cxUDjcslAB31M1POaCQtaqk3pcYAPSrMFsSbwRzlac0VufeeAVwMNm1DfM2WYsUGzSJEAUYAkVPESNPihYgpTHj3+BFP7z/i3/5P/zM+fv8DPv3wF6AQQSS2xxijJBklqgmVKDQhn4v3fQuAaxZjfrHkWDQoVLe04l2Nbrx4S+37GdTV4r4ATZXoAiuGeIJxjpZ1xct1wTovyIVQ1kUQMQbRvsGYU0AOEl0e04SEhIwZAMQKQ88AVvUeS1wpmHH5+oL4EBAmUsO4ao6mnRqABhirVp1LqRTvaBd2VyrpGOXBg8eB7qEqd5KXbamaVvQhNf8EEEVNbD/h8fEJ33/3GT/+9g/49P0P+PD5R5wf3wEhiGcmRBHAq/wqbJhC6OBghva7dLCBxY0aVEa1hXxUyP4/fGTgTgdIuafA7P09Xjd5kdEykngFzMZ6nFVzWkhKnBV5vaIgABGIFESeX1+QC3D56QuWLy9YXi6gh0mUlucXZArg6QRWg3HJBcCKcr0gnWbMDw/gEMScpFALW7Xs/26VVzMPF6yc3dC9VmRAx+CG46e3JuAGi+KcM5A2GzopK1dfbIhI8YSnxw/48Td/wD/941/j+x9/i6ePn2RFqkYZY3RsRMag5XZsYgCRZXljxJhQ3XqKkBSsp6PIcINKvrH8fHmT+19eCb3Bqu2Foludc8nIeUGhAIqTyJwlYLlklLKCfypYv16wXq+gB0aMGglECXF6aBWqw6RcXpCmhGmesUAWSqo8XDveq/8iO64lu0T2dZhcF9uqbQoRASEghoRAEUcb/2tt1AIyVMBQzTgiEINrsmZfB8EfoTGdHnA+P+KP//y/xqeP3+E3v/0LPHz8BKRZonqUyopZItdTGtacEVNUttV7p2KMIJaFtepuTBP+xVh8RQwZ9O786skEr5dfAvH26hDFz8uOJlLVwwGOaiwFeV2RFzH7fP1yAU0nvPv+B+TVsndk5OuCy5evwCJevBRnzOkE4r/DNCV8+PSAn/72GV+vhNO7J5Sy4qfLVyyZcbmuKEGoczJ7ImALRSmQIlSKAXGeEfI8aNPWyTYGHcvXMDPZf5JaiNdBEXkuIcUkWdWcF8h8zo3xOUWGqD6XphNO50e8//g9nj58xOnpHeIk2pspIN00uTpNbiUdiC4Iw7Fag6sa45lB9HM3aXnFjPfR6rZYOdRzXER3aFqYp+ZHLseS7TADcR2HWOq4N9ueeanE9GNmM8mDyirnS7txShqtH2ExCoZbqThd14R3hQ4pTfju+8/4/ocfceW25VU2bbHmA3fsgBvCCnuzzUEXPD9/2Y8m0YH44fvfYprOWNeMGNvEhxDlb0SU4gdNqSXFeojR+4+f8f79R7z78D1Oj49iuI0JIaQqyjZORZUjhBhQSsHz8wumlGRLgxNZZKqbZ3pdV+S8qklLxg20z6bvL05M2MO+n0s8a+lNbdHyIh1Q91IKlutVOGRMmJ/OoJCQrxkM8WiBGSEGPP7wA/iZUf4uAyEil4yHxwlLKfjbv/lPWK4XMBWkaQLRhPP5CWGeQDGhrBeUkpvZxzIvGNUIIeLd03s8Pb3H49N7TFxqpi9xk2WUrMK+2RzNWM5ASrF2P+SlKSgHhSwuDkJx4Km2jJ5kW6MgPtSqyKgyE/Q4DsteZtTPaexSX6gf8cYEpBQrlRURoR3r0SVLVagqIoeo9rvidKxfBnMat/rlizfBdBaVAwqZcxZlcEpA1kifIgEvhRkUI2IMiNMEvmaAhM2vBUhTQcmM6wWIUTgmo6j8HeonaqKCipAx6kQqe0ppwqdP3+HDh494enqvERoFWaM9lnWp2hdnlUf06DkANQqGOOvquz24FMSFLEmdzPmuSEWCsCmSmBxkp75SLEFICqntnFN8DtWIrlzAzEIuSX2IQUQKvW4ig7Bt2UdSkwAoUsYYUUrCNGUEWhHjjYX2TUg1UOdfGjEZVSSxhAc7jwAQX/6yLEAMCKcJ+LpUcSUrsoaUQFGUwhKBwgvWdQFTRnyXkVYAFzkyME4BS1k1GqgFu0xBvD2p7cqLFQFO8wmPT4/47vNnTKeTnj0j+R/zskrOxzXL/prClVLmnKt0ksMKgFGyNG4IfzA+GqAb9CwayWgGMz8JMURKEbxElCwICQoIMYlxO8jg5bJ/lJ2YOwCTJZmVWiKg5CKUNYjKzJAFQNB6NQuwmYQsU3CMcv5ijLlS0J9f3lbLW33hMj9NdglVTkflAL7kwrhcriCKmKez2JIpIM2z5MqMgBhfGHlZURYRZQqxEIA1ARTw+DBLtAsxFuj+phQRUkKICaWIpacG6HoBP00TpvmE0/kEClGN20Vdf5rpTKmYlyVLLp3HBVBhlV9Z5SzanFFc0bQd6yWLKiJQppo0tFoFQvPeNCP6vnFqtHUKjIygYdesMkdVZEwcKY0tdzspAzkLwn2U8j4E2jEb3RJ5iDaKz61dhzZCNxGaVIZcVuE4IYIQAIoI04SSgZAZBUnsi5plV3YcAhyAUoSDxTihYJWAXTWnUUrKSQNAopckOx6ual+B8PjuA86PT/jpctHMEEqRhg4ECoL1MOt82wZqp4nmVWY15+PwJlL5cEpRvTp16ECkyBALKBRln7PYTetiUqe+xkbmIjJKc4u3UDZD4pRSQzSSPSN8vVbFLsKoR/PaWBKuaZqwrivWZQEltoynv6Di8Y3lnvbZvgQl+814rirF75wLXp5f8Px8xeVlxfTwBEoTpqdHYCngJYOuBBSLc1hkV0CcQAi4/pRV/l+wlgWZV5w+PSGdI/AoW2hLLuAi3rcEaOBEzqoDMNI0Ic1zzVcjdir1aeeMUATLc86qgMjhnOwONjJtvZjgSvdSEE+pPMUSKhZiQOSIXDSVhyJCF11kJ4h1ysyWEvSnxRrF81E+vX+fPVBmIkJjCQbOP6riqSZ3X0ohHaHQZ1v0p3CudVEFFhCFUg8voEgIJeC6ruBcEJP4WURZkrqhkeBrsZTfjKAHTCnmAFmPHmQgFdbQonVFgVCg6XTCw8MjHh6fBDmT2I3AwLIsWNcV8XpV80fGghWZVZ4wJUkVmRKK2Jso3Jwsm8ycy4A8DBSjjqwa8YT1urqhRR2IyvrNjuhcg6Ph2uTaUkrddWgKjjB+iwzv2yg5KwszQ/o+a/xHUTzs+s+toaawCXZWi4aVkguul6tsfwbB9pUWABQC0kT488sL8nXFuw8f7K12uhkIQWxpAAAgAElEQVQYKxdcy9LmcI6IU0LW06tBIhLCPDUVWJ2/ZVlwWa6aMZWQ0jYnVaUicCvOzQu754KmXL5FIaV9UR5MC66mD80JU4qdtbeA1Y1Z8iraPBilrCisypaev91gEwTdi4yugRQA8rqiECHNs5ghQqOW3iAeoxy0CWZQyC1a5v8HxcdtBrU2HCqcRMgIoPmM6fEdGBGUtO8F4MxIp1kWfJoAuohiCVEMuQAxRTw9zIiBESKrErsiL7qwY0SCjG2qTnc2/Yux5hXrsmJdV6RpgkVjezrQIaIzrnvPDdBY5cged7reyXT2riUHNdlQkh0tsAjuUjIoSyCLRBcNFHKA2GdBq22EUJ8tLKFURLJ5PqXQTCRKTS2qPqaEnK+QiJ/e5fhrlV+kZjaxiKtRXCijzjGzyyFOyBwQphPi+QETA4hB8/XI3Fuyf9lqHJSr6LHTgRBSwOlhRowFMQBfs517syCQpjWMQqVTgeylyTrBESROdM4KkSoKyBL5Aq4HfFcZwCaXA1rsm9Mqv3E4qxYL8T8/f72COVeBHAAQhawzM9QHhVzWetA7GYIx64kNAoP3MvlEVLGamnZO+QqEqJ4h01SXRdk4Mwr2U7zc6t/e9+6zaKNndsPXLBf713W81DwW6qL3MBjrFq65rHpeJQXkkkGlIJq3LrMoswAyy8JM04zpJBnh5iVgLSu+/N2fQbEgREZ8+CDmtnUFU5EYS6j+AsgGqBgjwKKxNj9uT7XaxiBsqKV1htCzbr3hhOc9a9fOwKp2bCutZJEvgQIm2xnMYluoO+Xbyu8iz19vrV4nzffj3aRmATI5SwzjLfi4Gt7fIEqOyLSHlHu/j96z8lrg9Phsxy2AeoJE9aizemXqUdMahlfEAyO7T+1tfYUh2xliQMhBIsevGZQYgRm0ijen2kMVkQEgid82YZ7PYtZQLbWokduMwrUT5WDLwjBIXrGzqBlz77U79Q2ACcxUFQWrx9xzXIKkMsEK0AJjvzFKKr0YUFkmc6N+owzZ2RCdNl1ZVikoRLpP2fojMNoBT5LlrKCstgme34SM41i95RljqXvv3o+MzjIQemVvhCYXy9mzYLlcJRNFEPdtvq64LoscG8hAnCcsKLjmRWLrQ0CIBF6By9eC6RRAHHHNX4BAIMun6TTH9OnTp9qZr8/PWJalaWPcU0jC/j7fziQCrjSwIhbUnBIsMplh2wNYEUNCHVX+oq0SUXRjvmjSKwDJGMCcwHUDhilGpe6SbPLSFmbbzhpCBadKw5E0DpMB2CkTKiAvywrz6QtSCFxFNdjXykiZ7imDaP52OdUroV6poT7Zll9ZZrVY8yoR4qukz+PMuL5cwIyaE4jB4CxsXLjTCuZFHSMFkRr8eV2E00yT4IbhDxHSx4+fqna7lhVrWevEwgEuWqjJbsdISY23NWXIKTZBo0Oq6WvQTm2gbfssoJ6gEkEU1TMkCMkI6kWS52qcX8mVSsoEQOFpVIRIticU2AAOrLBS3NK9J9+6ua2KFUG3gDS2dU95qwJkSNkh84ipvg/+GZsz7YstvE7J6xBS5tmS04pbcAGiKLnLsspOQQ0tFC+NeO5kwDOgCMkaWS87KBh5WYAAJH6SoJoQ1JlRkP7ff//vYerJdVlkq0IumnqksbQmRzpqc6elQzhg67QxiI7aqmzaG6BhuxcAEttmLq5BG1wn8wKo+0VqvTb4NapEPTY+dk+3NpiUa65CjwDm3VlrShHL/mYuxLfrwN+ilXsT1mjR2A3IGMR20wPAENZ5o/1cCp4vF8nPlLP4nPXxkkV+XK+LUEtNKAVuc154RS5XrPkCLgGBCSEId8s5IymhWvKKnAvS8/MzAHXR2b4RnURTQmwRSj88pej7KwNCDWOrINl85X2ofy+CsV40hKgPQS3/3dt1dDFS7apk2B036d53b0hUP9gSm1GxaB/u5nkXtg7MHvG+hW2/Vd48gKSTX4xl7tQk81NsASrHVGwLUdXK6jIEar4jSqoTqByZIuKcQAmoyTy7dtRGTUBiXmFuN0DjLdH2HzM0G4FlyVWJTVJIqQwYAqhz1dHQoCCqBU2gBkDos2SHwtnGssZOQIRIjEIZIS6gnAHN4FvdibBD0WQHIFOVKBUmcnA0CpI02ZRthfVonYJ4bFJstkdDoHk+qds047peURhvppC/tr1yr5h91tq3bBN+C0MvjImP/+XlqvEEYsSmFJFOJ1F0rgtCCqLsrgURMx7Pn7CsBeVlxbtPH4AQ8JEYzy9f8PLyjJc/rUAhTGFCDJJyZZpnRC4tHpJhcl2bACaTRN+wio2iUuuiohdOp0e8e6f2QdgkCrt8OD+AQtDjy7jVYQgUgJQK1hW6l2NnQvXxUtpOuSPrTzVfOc27VrNjWukVN4E7BEmYLxbIt5XXTDq/GrIOfRbxxVtPTe50y5PkmOl1XZEenkApiXE8RlAsiEEUnbKwuAI5ISVCmtVaMRy5R0EoqCRgEDk9oICIkWDsjUwRkcRCR8fLVbC9KOcVBT+5jmUDwNO795jnc1NwogbEhiAbhXLGT1//DBR3aoJWIT7QgrioV6YXntyzotTUbF0bbGwDXaPdM3fRQLVPuhi9N0dkt1ivSbSUUmffBO383il7rPvXpZzcUcEYQj333AHV/UlEcizIdcHpLClPGARi2djPpYAD4/K8SGIwnjCdZsxPEUsQR4YQCACFEOMMmPkMLKmfY0EMahg3+bANoh7poD5KMKnt2QZeJ1XlgQ0iHpTT6YQpTTWG0SPBcr2CIZvyi4oMVIVvYcmyMPU9Haj+aGGF0VK2mD9bV7t9N+rpTVrQjGf9uYdb6hkwTZOajFbkTC25AUSGgtn57tCE98oe9b+FsLerV0KjP4WDuJ1UwVLq1cbR7F1AXjNenl8QYsT58aFmEDZZn5mRrws4M6ZTwroWLM8rFlqBUrBCOB6xCIAxEJBUeSxXtSUT3p0T5ikgEQsB61isAiMYTEqGm5wpyOg7fKDheWJJjBQj2LRZlT1tm8EaVmXhWrWza1a7qLZrhlyhLKG+0yklnebdNHETwDtzlnEJHvMajUhhGSxEDrbE+zCBnr1qMyDlL1AOvTjjgx2GOkXKydVGgJq5p1bsWwQXFjmRJC2N2YlN3SVmSH49RppOwASUE4Eiq0dN8kAGInAkUIriXANXGT3FiHenhDlRnx/S5Kq85qrSq3Jc1YZRu7493IagSlvZztVuTn2rwORXk3EMIRnNW/TnP/1ZlKM0ialG3xsnp12juiHNquRCsMPXfSml4FoKzrpQolLv5PbL2JnYZjoKIeByeVaFDbf17B0y9ksoNrvUkQ5u1HHlOlAhBndw1d5rsg0lRsJpSsIpi6i5hQuy1kUBmM4F4RRBHxJCksielBIiyZaUGJ4kvDHJ+E2qTAUifP3pb7EuV0VIB4UZxXsBviFiRyi73utfe3LkMPmG5DIGtl1AALDEn6XIahA/exLBt2ZspVrx3pZRo4xCQQHXOdiWm0Z/W8AFoWWkaIlknMlKtyp4TtBOgc21Qu8bHua2+2neLxvXDqlrt3pq3d+n5sbfK+wkxuokaH5+4wa3qG0IhPMc8b5MSCmATnIiRgChJIBPAXQSxIrnSc6uYQIFUVJi1FgJk7lVZg0kIYlmBVovEeCwf/hmNXOAGj5RpXcOdEUKpyXekiWJqDrdSRNGjba561Wik8EsaVFSxOPjg7jpzAzFJEfbqdekUtlaTzuuRNIy62Z0Ft9sNDck2jSb3ChbH7LsoCNo7GPsFJ5Sigw8BUxx0nC1F8OBOzjHgLCHQuC+6PAthSFuwJbBToptBd59h4HTFPDDpzM+5ElSaack/WNU70sgkQmzQ35Nia99465SVQuaIl8YpxRBpR4tZ/02st1ch9hZPW04G1LulxY5UupMkZGCAbcZQADyGWV9Ri4XXQhUKV0gSV7PcO91A8hb6oyeEln/CrfUzBLvoaYcPR5DbLP94qv7j7LKspqRFxop1Xe9af1tbPcQ6wjZqCFq/aYD/nxUXAXGFZidMXuI9hkICms66/NpQspik/T6gf20SNlQkV1JF5Nua2nv9GuPqz0UJPuwUruFDijvivPdHgN1N8NzoJ2aFF3npcPuJh6gTCjlgnXNFVB5rwVe+IU4mp+YC3pU8OSz7dnuFR1T7DSBQGwGeq74RJWS5GwHmdu1iArYMEkOOnTI0yk8I5veeW3Dwu2aG7vuxk5hU/FaMcVw93EW2/ScImIQW6Rdt2/mVjERHNkzqAauaeOpfwphyFXulwy6w0AYyy4s8Wt+1vcMyW8qDGFx6Fc7ESFEYH5XkL9mvFxXPD+/YF1lO0WKCQ8PZ6yL7QHKwtbdgBbdL26HMdWoH0O6bhBY72vWN1DdE1SKmifY/i4gamIMgLotQ0xAhJxp7OaAWz+f7X57UcP+YG0AoAkTDhDSzGe6QQvYITT2bP3/PtxoSC1ZLizDXC9DcmPXNX0z+LCNI4Nup4lTr0Ts5q2pdQEhMiiIDJJ1v0wprNmcowjLhZQ6mvtPD3JHa79+dobNTEKSlAD1Oe+12srKRjFakIiIxOLyzNnxDnJDNsi3P7/0JKbtfbwDEeyRRvY7K8WIbB3yck8Zt5U6aDQixo6+8/Vt3uf+78HsI662dV0r1toBRBW4KkPcSyWpUVhuUz1OEFUTBCyLNHKWMLO6R4agH1k0MQZ8+PABAINLBmnub6PwUq/+R9wNftu7o8pKRdJST7clEg2/U2oI1V4Kh5DivZER3nDZX6TssWa7/lorXIkLe2REIwS7b1mEuLHlV9ro8O9AtdggvQlWagHsKaQDElBtMvLuEPh3bhUyI+TO+462wpI/TfOMaZ4xz3Kc8ZYJsHZDrqaUcDrNOM0Tvn59RimAlyFbW24ZkMuDuUtJG/Xvo4TaUXr2d4wyoTkH9EEjr5dqmMdeutad5ztyY3BpTw+xyokrqtqymXxe2S9fCQG243NUjCMe36fNeFsEkZiT9JJh+GiGOZQZnGzpn9t7/p7Bbgh5wjyfcDqdnDlC26k5sYWagxhpSnj37h1+/PFHPD48YErTAKh+FCGZLWd4RLM7DmkFoRkdOo+Q/1jyA6HIlv9yVzlgAEyHk3SvPG66ghk/BtWk9XP8DBpuNbfAsp4dzA5zDZq9p/Ti2z6S1/sex3xPwoEdkrlpP8wtG0E/aW0wPUUdG/cLsIkwDBC7ASEsC2HNhGVJCPGEh8cnPD8/oyxXfUdO8tpQTBY72BRPeDg/IoQFXKlfL7/Ctc+FEVLU4NpmYwxquDX/tjd+16PlSlPKLNCC/D6Ifhr2hngA6L7H/PPMKtrsmoJ26meTlZu5p4kh2woYQFnNs9Y48N0K7Y3H2H3bjgFWyhnGp4whVlZ243Nf2Rkth6X2fymEkgnMEYSoSS3NTGMYTWC/+jTnuCFESglTmsQDoPuDAc9CGhVncEf1zD5ar216QbUub9nw/vRuIA+oxFjqOHbjf1SG+vzMbmxp+tmsRhMVsOnnKKbY9oPdeoZ39jt32JGBZbeySyEBoZB5zYixQJJbcd18b4NYhN854LQBYynDnAiloUqB+o5NMkhYAJLk85a3VK4b6jYXHkG0a9keIfuDJwCn6RGn06ywsLKfjJADODat0bb/dvkiNdBWQtNcFIzCEIgkF2L1wyvtuEvwv11k6n+uKrRD7TqrQxtUcQAcLByWhBHV9vgzINqr2//2FpFDhASg59I4+WqHKrJHLJ0bE9TbRehoN4rWviHsOxTEKH5kBvq9M7UxkaFKZthhzXWXW22kDW/TKFFZrDfdVCTvKEPLH2mLsJj2TSJpBzRly8xihvh6QO2bcaoGWlRK+cYNYHuyu1PItFKBsbDCeJvdl1GG5OEbOHi/jXvFB28KHGCsS4KrHVLeZL0IrWBd15qn5fVyi9k49sFeW20lpRUxAIFWLNeiafx6Nlk0U0LJDKy6mSLrp2qDze1ZlaCOlTW5sENK2ELS0VDttDoJSI7hJbItuyIm5CL7kWwr7lsInA9/qzIvjhXmn1OISELFimnZusntCFhuye5FizQp0j9/g266hckDUnpRIUC2HFttVcseFQVAPB/e72mAYvNbZbPSXHHgAOLwmlBUGyQuAGcQS1aKPkG+sRkgUsKEWc9sFXeWwEbgQoKwpT+u2C1BBdtRztCQk4EqAgS3R4aBmkrOBtc+zFwz6v5S5Zesy+obLSEUCHTgoQGkz9mSj/Jdk/gNgPXEAbjFsl9RXg7NPB522m6bHd/3L5LyZO91cHQPAGoImqUhtpNaW9vUJZsa9JmBdeg/p2lWylGRWJd47UMPd1GxpjZBjcIaTZGheP0QqUop7/z7tVJ1HfTzZeLAuI12LIUZfZ5N48EH7Q1zyjfuWXUdtyI6QkhhQbms3WDbucgeUSVky5Cu7riGoRJ10bAMkJwr7akPoLsZOWPNV8mUUFbYQSRe1KGYQHHCdDojRBUvFLbTwxlpKni+KKu13ZO6SLgI5+ECcGnGePm00wiY0SJ7mGEJALpJLQW8Fm1bEsCDWHvbssV5efYtyFRn4gYS2zwcho/ZNwEcCBK/jXaO+Gb7R1f5rsgm/XqdWo4mwqPig1YAINQOD10RN1renpDa4D1oqKdo3uRy2zog76yrpAFclkXDw3ybVUeUmMrQwmgZXG2IGxOVstp2rQ1GE6q3hp7eTGBYjar9923g9siP/Rg4zGtsulsMOyx487z+v8dsq9lHI7b39GzGqNS0J+4zaN1fvOmoixjvsJoZ6yIZcsegzqbUNiOrvcN1DQ4T6Ro/KsyMy+WCy+WCl5cXoOS24coULTsyJMkRuGQ+akie8gySxKWlTVrRY0sCh07e621ovcDeBY34X43kgVnTHB8i030azrdST3u3QjdwHSEao/0YKrvZgUnH4kNNEHBnGcWS9huHC3YjQ3rnQjMPiOBXDaM1LYk9B5iRekPAaW/NWb3UPjq5Uperg6gqGmmS9bKsC7wXhEi2wdpgo8prlk0BmgOI6yIxEw65CRL50fptMOk2iWq/gSK1xOGSwgfTtlm7ZEeVcKkGBR87+lZ0ewuS3vss2yLS9HeyWa3Jz/qQfKEpNaPZ5lb97Y/GdWxZ3mL1RhyCDezmUQY4FzUTVBx1FewMclUCrMIRKXfYIA/BG9SAm6cZp/kE0sM7W53kXm/Asa4dsR3Caf36KT2r8215pCTbFqq7CFnrdC/VT3UicZAPGpi7nsQ3lI2S8IqieU99XTcOqKM+vLVD3tUIKsFpvPE+mAelxgGrmayyI9mCa5q7R0X514Rbb2e7Bxhpuuj5iFfMSQ7jfDw/1pai7pPJSx9wqj1o8qL1IVvO8QKC5HPMOdeE/ebLtj4yN5MRkdrIWAN6KWvfU0Pkn4kgr1G21zTz7lnsU2Lrk0doAnZMa/3bRiHfVLxpQet9bXg8UUj7OGXI0YB3uol8qVDQyZZbaHZXuXthaLVRI4v4JvhTslgJlNu26di9UEG7RRuqaAqO5SHncjxYjYq2lV6Rf5Cd93CljRs5ftD+6tmYIH3v4bIRMfmLKwfq2R/VheRHf8OgGmTaN6Pyra2xM+PRKn0te2U7/0dlrLcz+1jKO0vuRIQW3VJaFxlNBhsB8APR3R0UJSle6ZFvOfDSsq/Js1+enxEoYNaD1S2DrUyCwFrY9rcx1lU+dgAnWwL8UvQsRokqKd3WBgmzippnxuCsAbwszEfmSWXrnGVDE0OzgAVg2YaYNaTrEbAiZZU8mjTefEeoz/hpHqfcjEuMnbjVSjwGpQZQWd32Au2XdZVj4vbKIepttBeJM3iNStpJEMnWpOoWdf1yMQ9EPbGldm5s8qitkQlsV5tHSlMDHD1hzbRWCkIAIkd9wk4Wcxo+JP/MunKloM3kw5qq2bzQqJ4Z+y14vg3KbRTDU8YmRoagCLlR5LZdreNMm1sb6int15HYDGj/bLN7dkW5x0as4X63oUf22luTIXcwaYsBO50FKkSsyuORmcrgCSG07GeG2YZ6hSUJkJchWG0G3yoz7QEjK4ja90bh0+NxIYdySgkgyGmzVgczsCwFy1r0nlN8SjutliWN62DW0X/uXtX6qA0ucxsDQ0ZBSHnChnFU0vyNIzlvHJ83e2TagO3WV38zKrx7BnVfw2sy5F5fbjH4WwpZ07I9j/U18oEdqqMa+xVv73N/X37tvh+gqX+VRdrhRw0RCCkGxCAHswcEcJbE7M/PFzx/vSrLNp/J/nomFU1I+wrIsY2W8J9M8NdTGSQ6XMLnFj3FDMw188IexdmUV9bxz1noN+v1/4zK6/nk2NO0TZTRA6islvZtPrQbbap4YBz8vq4x0qgpt0BU08z6fSJ79Y5dcmJxuzaQDaczdBPR16WSkQrhntVIrnJBupwZy2XBsmTI+LXAB2PbqO352J/WV0NAryQ12JVKqutXjpbTlUxKYalFtHd7443iDbLh30/Zo45GgV+hwk4zr8U4UhvOzXzVtoBu3A+Vo+667ctGGzSrpJSCvC4STYN9RGzEdOvO2n+y9rXJR15b9Q8UOYaoN1wbtKK4QFnon//8jC9fVpxOT0jTyWWEFWpn1Awk3pxqf9OOSX5Dx76UOkQA0EwWgsgSajZNsW7uatswIphD9Zd/i+PlW9j1XfUqYekPi5K9QLtt6bVFTWPAq8Qd9aEdbvsWyq/5IWmLlEDbm31HhXtc30tp+0/0TwGox1SEEGveRWOv9q7FOTOAtRSQboE9n0PV1qpZCI1KGguWSXAwcOMp7Y6ndubRMQhcjsxKDQlg0vTOjUV5uKuYPyDekT1yzzQy3vNiwj4ac/dlYPdu0/23fB5NB3Zlw5UiOpj8728p1TBuYVfWArMItVxuV8yAJ3fVTvcthaErN05Ieia1bOYf9qyo4FYKI6+rIBpFhJgwzXO3aUsFUBh7rTJhg76TsaQ7frdjo85ymcFrqUngZYFQPS238IFY9pZx+AZKec+TVXxBm+/d90yG9DrEQE9Gm4Iho4kG31raxhU4igiZpGwpNIwYbDS2SpMbMnaFME5qT9fJvw47hn5KM949vUeapppKWaFtK9sOHqeAmCbM8xkpTXUXIDBOkhqM6skLAgtzS6DUeTMc3CLgGxICKUbxGLmxMC18XbcZxrrhcKUzx9y5iN/uOmwxqV6mliHcR2NzTIwUsps6Hj6AS71ybFDfo8z+yY3ezxX7XPApc/daZ4u8c3A6IKiB0diWseeAlCY8PDwgxVS9F5WhVtZJykoDYkxI81w3bPmOk2+/mpeaMuXZZT+Q1MlA5vUBc6Wy3VBqn8p2uLb9/xXKVobvjdHNy9RgozaYW2rHLThl29iouHIlWHtw7ME5XKzXhWWrRwI2gYbFDNlUxVw3c+0B+BpKen+26Ct2TLDd11RsiXBOmhoFBT99/QmX61W2QhjFUltNDHae9hnz6QGPj4+Y5lkytqaW6TYm+U7DudCeApjpp2QJa3MOO+tB/ZvZHapEhFjkEKAQA6hYiue/f316WzzMjpjotaBJDvYgtfzshzM7Do+refvG7sOHJZnHovoJvELAHqOPReZKU4Ts3BCwDbjdYajfor3GzsRDYomu75pnI8YJKU1Ik+XgERtkS6pviNifsLBdzc0u2UcAVQmysjtm1MxwDK7Z3OT5sNOnX74YZe9MZjtEw4sEnXx3Q6kZqanMmpFFvW4JpTAKYerGHNnyANMIl8mqyamOYHW5GWJ2NjnFo6PonZGe7JXGRkeRGBWo69evsuF/0kPBQ0B0ydYRNAw/S9DF6XTGPJ8xTSfENCHGBGga6DhNmGZRkOrhSA72rHXkXBAj1fQqBGriAg9JqpghJ8oVFBJqQtH6JXJts0j+uuVIO/f39xBBZGlJztqsEW1GikZIkcnGrYbhe5D/lLi9hugmGlmwNHNzwiQYgkQbUO/KE4AlsNUq3e98XZ1KJbtrNwT3Rp1URGDgel1wuVzleM0popD5OkkRIgMkCDTPJ0zTjCnNysaFOsYouRtD9dr0bfbhWK0Pu+YQ/VNYNYOD4x7w7wYZM+SKyDbRryHP/rgMY/vGOsa6xjrJ2V59rbmU6q7tbrJ/mjtUbXA2F2vdbKeRWzLW/kAr3iBpRUgLgrXJE4DlmmmRh4x4oDx+Emwg9thI64R1VmZwuS54uVzAVBCmgDUDgSRoonABKWWLMWCeZkzTjJTmmi+bNCPFVJNA1YY7eDq4XFBxo4zUBhlNQw2FwRRqSug6XmSmM9n2YQLGOB6bvrviTT4jWx5/v6W0frakYvWMn1oVVVm65NLo4YCI/toRkbFD37Mmj12XtQ/7655vICRAqGCIqWpdgZrMxiQrhtAEYG883+00jiVFe247oGr74oJVV1R6mpEicL1IYG0QHgnGivP5vVDG04yUJjmz0FK1qCIT9YAlsGjIHPoVWQctZ9HWHaVse7XF1BMImlCKkcsiPm/KmOYTQmhG9xQjGKskEJDTne6yER6VNyHgrUEHYAdiAS2tDYZ6GcCyZlwX25fUV2Gad2cW0nFc81rjT+tzyvUKWxYUcWVprzYgJttDIuxZrXU1K5ascdv6OkbIjEh5y0a2J+TWa2SCcSPdhRkJQu1SgiSaNxstQ9PgTV0yUb/yg6NuMqo6uBsY912eRvHMZqcXtT7SpKmuz2SuxICsHpu3Fj8mu1zktfLKY6zjYPL4NtBF2uxOOlM2a/CY3OcR0j52MkZ7T5TlJt40GbTtPOhLiuGkWQycy40apYSyJi9r7Y31ESIeDcw+u5I0zjlnOfD1wgiZ8PB4Ql4Zl2UBOCBQrDkk5+mEGEU3o2AInBBTlMy/QB0cK2PLpTTt0wZ7UqM8SE+v1aObCQFIUVif7CaTVU9U3Z45txxcPz951C9XzGBvuS1tEY00Mpcsfuw1Y1mudbvHeCTfkdJ0XF4fhzRNJyCQHIcRQ2U7QdPbPZzPKmuIZ6JwmzxjRoX7QT+agj35yMA0El7Dvkw5Koy8FEIKyRcAACAASURBVJTM4KKUMSTRok2JQTOCE5xS5QAyK5m1NRp/q3wjAA79kJptrEMIkicHcDGUjtXnZp5y9pB/sNLMOF7ePXqasOaMZV0EGZdVsqA5jXhXBsegM9RrR3qHk00dDqf5/CgDmQQBU4w4n0+IMQoFmk8uKqTVwqaEuBp3TUI7C6ZDRqpoBDNIE0lUDhhAZiwvK2w8Y4iixChCVnm3YoU26si5TYYX7G2Vh2AHdbptDYBzBMDVI9XLRjNhzybeEMk7skgiiIPkKfoHJo4VcXzaxGDUcQROxn9dFlwvV1wuF1yv15o/6Rb121Ngbfn3iOfEPho5KyH95V/9lQBXB1jOpWsmEG8K2gfCLKO7Gte+qDA+VQFlAAhAYHLBHXLsGCEgxVkWyZQQUvO8eBPOKCMCQw6eQbHZW+22p0ZckW5EdRAJQIsDYEgUu6dAlnP8H0FhDyc28zlytJo5pJP7xioPKKN9tGazNdwr0qWPnz7JL9MvxD6xO0nWmSMTTn1mXBlvKPUVB4edHkeQSPGkh2AGZ180odnn4anUzpkq2uod+9gPvh9kZdjoLCRugru+O0Xt7j47VvqWdzYmofEZD6ljGpWjwKh+/6bZIdt7+7iwJz8y/Bi3XTU3qav7leI0ucpNPtSch9wE2LFhK/0QGpXjXdLIOgI+dUZ7s3kFKnowA7mgrBkxRsynM+b5hHk+V/lRqwTQNqXlHBCCyodFDdlWs+VyZDmdthQCUwGTxDhSYAkf4wI7NtaQMaoXpp7z5dlTNy6Edm42342cb0XMTiv3Y+x+i9TDyMxYwSgioFfLhle6DJnyWroNfvfAwdpGDwfDlMFXaqi/gpflqlOvUkvqvq1skck+1EZhLCrFvqaFVc+Kn0cW7TalGTG2ELPmh99fvc3U0DMlv+JbEHJ7hP3CdH0cu2N1dbJnBwQO4btV3vLs0NzutfrRfu6dFmHEAtDdAhq2tCuGHSzEKqvfAuiVEoC3sYrd1G9qJnrLyt5l9USY0gkxTNDgRzGnICLFGaf5EdN0QkoTWrCEp9ZUo4jIlJsOROrMFpbVwjTIdi6OaaVtsSngTgyRRiwLxhgD2CDjb5qYX7I0u6AAsseh/LM5r8jL+urC2CAjvq2rHpZkETre1NGRC2f4aNKYA0qf5+7pATCjjg7wvcKA7kcRZaJAqGWYTkjTCfM8q82xZbyFwVthVlpdXXliTw2VAwj15eFT4dQS7LSuprFpvdJL1vOxi8TndelYhFPxOIT/wOU+hATgzjc81iW+CQK/YA+4bjB7Wq+B+JGk4ddOQ+hXy95zr1FPHpoV0UEM0zGdEKe588zUBdSxZmvL2QQVGZvnRpHQ3q1t9xTeU1lWhDSxpPXSs/1Sn2kIfL/8+KsX01DANVHp7jxBPTW5tG58c3lb54ks2dQuUlqVvQ72mkzxcwsRSdaMtSAX2c33cH7EfD4jzbOGTKFjvUYJDbHsfEL/IepNRKJciQ881ghwt/CIaoi/IXy3A8WGDBZKJQsgUkKkgBI06sfJoX/fZbS7snLC0Ck125LXBeu63D2n3hDeC1FHLbRSOZlS7f7wTQVeKu6Z9Fj1PcCObPye4lkecQSpVybVQzCFbfqEpB6+0X4q2c18HCZXtjsORiC0La+3gGbUoHBrU8ZEb1LPEV6flvuK16oPHtiKVJtrtifpAD5Gla/32vfv+I9UTRV/PHpUxrfDpkebaLIbhwimKO81xVHD2sQ99t1QEZUgZ/4dDygBiChAKchrQUwzUjxjmiQAd0oRxiarw9/gVopmaZ0l4DY4CtlGJuiWgxgDUgyYpqR7rQNikmthgKsGnbRegZl1kbRhl4OGuLoU/76QsUOM7csVMcXf7rgFRqpGWBYxjKve1iGXN/XvIuVB8Yntj2yazGwHuO8Jrj3y+Rd92UPmPeCq3HYDaGHBmqIEQbfDztWlGWOs9jGfKk7SE1M9jNzOJmwypP1NFRlDCMKuo/juU0pyiKZuDe0N3OTkw9pz7asY4y23OYAaIdOJkL8C377bqmGQqgwZ6ECCZOlnyRlZkyuM9HXEkM18UjMdGvGp3HbAs73IpnSP/Odvj8rLKF8e1fTq4BEAFHBedSITUpowzzOmaZKNWzHK2Tnc7IeW3cIonkfKyuLr/prgqGisz09TwpTk45UfT1VbP3ZHqK7+FrZVJL7yF0RETyXbgrlBNW2uzFxlpqxun7vAr5UBgEZcLR0yHhETs3Z4tszeIlEtGftUcZdle7NMA2sEwmnQt1i8B1b/JxJ2J/taTOFrFLjaE4lAYQZFICZCmk5ydvb5jJTaFtfqPWIgpnZEcEoRKTWjORG144NjqDvtbBfiNE3yMQrc2Vj9MMtIsMtrqY7Kakqy8BCxZV6Rc0aafjmF5hZuvzoTzC3TL6FFirPDZ24EJueC1fIX+cqJOsSDcb1iR8c4bLH9/Nud1q66re262iG3zHorE5Ihz6BIjAMyrpJOeHXGbENG+dY2bbdhCIhJFZqUEFN/BIg1WpE9NLbsO1uv26kD1TaplLJj725wDjGJh29qnx1WeCdXfbWM1ey5DXdLx96kphrto9d83QRBJjuSxaa7a99RZ0s10yk8HSK3pXTEJbcUcq8f7vNa6dyPXnszu5fJFa/WR1hLAihhmmacz484Pzzg4fEMBmNZLyiQbBqmOVflJLXI8Yacse5gbIesU0clfXIB359eAyT48H+zkzKjigAeMQNF2f2I6x2jd395i0dtr1TDeGxmruEJoZAlo5SMGFPlRsVYv6tHEE+3eQxt3DHZuyUdIV5dGQTZD82A7MVtQa4tqmcrC3RaoU5qb3o5iMcjNfWQ5Ok5nSbERG1DFUPfRzXrxCo/hh4ZbT82gBDC5uO1PgW6rn5P6eyKpzZKGNCWmgPPFWcE2JRRuP9VSgWtQTYeKeeJGTPrkSpl46nxyNheOeKTdnnkGLc3qqXx4doQo5ozuGIt67zoJnmWqJmgjVgensqKN5IPNa21Xqm8uiFbTIjhhIeHMx4ez0hTwJoLcDVAVFGhhowpxfptGvM02WHucr51PRt7j007RY08bHurvHLrxqbNBunjle63+fA+xu49uWP+uUWMTMQRLsowG2nnenVPmw2yuIM3N+dGDm1bO/UatQXq1/Ge3bF7HpoogIgQBhvjaH9iBNTs+GD0YUWvMeLtAFY2X/8OQBAlZZ5mnE9PeHw64/xwAgUGcntZ8KBp0qYxp9S0ZVNUagoV3WEXDgbF+mHwbEVxL3Q0oYpZEu7bys92FEkpiHQnPt5ZjmyRh7NgBz/BkFLnNoT+nHNXvwUtZ4+Me3X7xt3NrRmwORnu4QTJy39e4zXuxdwM20YFAGhCgOO12SOzCyY1XgePlBYIIXtm5mnC48MZ80lMPrlcHQFRqtQZwUP/27kM/Q5EryFuBmdPn9m1JLg+U6OJZt5oR/puo8W9GvRzi1/Qvu5tUXuA71+oEZ1dXcKubbvqsQlvY2GpootXVO26h/I2UhIRUgtyLRj91r6bnSxhBuDd7svH+5qN5JciZO40JUWqlqvRbIQP5xM+fPiA77/7jPPDhBAJLy8ZmXKnsEwaaDHNE+Z5wukk+2xCTNVuSY6CmpbtO9993KAdIU4nsNdrtuB6Yd/OwPHHevyKkuJuaaIxV9PMLttU4HIpuPpDTwdx5p5ihKceUMDHZh973pdUmXwnfI7s21NJN+jV8GrIJx0vajaw0w/qPZSqnVbe64Aiki2s8zzjfD5jniMoAMv12ikh3tQzemZaBt5mZvKJpg5lNRoGx0SWQWGr1N7ky6G6ce42yuJ+63eTz7cqQM0w7uzMuxpWY9nHtLG9/5pCVhf4HfD2MiTftwBMpgwhbIJc7fRVSepp2wi2vm9Aouclc5jWG5xRmQLSSZSZp3cPmCZZXdfrFWvOYuoJzX5oMmJKTVYU26VkQUNFXo1wGQepioP+Xvu5Jx+Ru8j1cTvmrlXr8bWXqP4ei4r6pfRR7S2DcF9sPkdGIFLWfqa1vdKUmh15d08G7pWaNiF1NQEqoOdK3XzakSb8Zr1n2yShRtWsvxUur3mTn3G9ZzCoGUf2hEc9RJ2dvTAihIxC7FyCLjrHCc/G3ltnHcXcGZDgkFS0UUEnOd0MHdVgLlVJiG4LttyTSo48WfvIeT+aNiTXw5Ju2ZUqTL2718eTds9p9omOQul4vRbc4UtFXsIGKfd0lq1hfFjGEtql2lY9wLKly2inhHq50jq/TZJug2Lupm6gYCtQMZjQ2RYZ0CQG8pHsFC0G0n8rvjWEhPtbu+nv2wsecavepkodAnUdaTY5rlTQBHiuz7g+2kS8NotD6Twxjj1uIw/dM06sGGprSEktHG+vTX+euLHFt1DH7pkK3lap8YjYIeTL9SqynsvLsuZFSXyjkAbQmMFAOrIFaERGQFgCQqjsnZa1YkDJBaCAdFnx8PhYE0ABqAmM6iAFAkVCiISUAkKUOvQWZGegYhVbGhQ7lbMZhQWZXaIBQLJ+MTQVC+rmQQBCkUHgQpqHO2sOH0WeAFAMcqaipnb2Z9bIk/K5LervjCdGEaCmmK1lo4RVg09fogs/8yUX8WGzrUaHjF2u91dLE38IvSLpv7s39Fpa11UUkdUlj8xrpZAABuQbkbFnTyOrHksNjKgI0xAdIBQOWJYFa84SHV7lM66yWTPuwlE6OLbN7qN/U5tOgpcHW11NSTsYXxtQbxeVG/VBMzhv0eDbpUdfk7FCs4jQeK97Sym5p25olKlzYLCnkNatPiXg2xQqqu11V0cN310HgPT165fGdxSQ4vbjtsjs0iGh7/Re6ZG0DQoz43q9wOydYQBwzYyXl2d8/fpFtehUT4MoipGSJIBqcilvujG5qnQw7gyXQ+gYI0CMXFYYUg2irsI+GrqaGcpfq9oq71WyvXRvMXFi4IJHTzZZ32nZo2zt5ynnrBkrbmfcaF0wo3czfkud7f4eux5/+7+Tuf+aMGTJo/Q3mqyHaguxjvTU0q731/ZlFVlx/UHF8nSpA5NzFq8CCKUA65ol6ZQKbf6f77w3dfiahUVbggExB9VQLIe45Guv5qLiRAiXJ4doM7nNPLUz+PRzaKUrN4VT7Y/jVJWYjPC4uqpuwPvUsY27tFE5lEO/sY97e8CxA4ONWbLVUMd4kAsZ4hrrO6BXB9a96XzVEPwK4poimhmdbGLsY82rJDnKEnFSWLIvrGtuBl5DRJYPuSOCR65rXL3ZKPuooMZw26jagZtyg2s9tUeE+q6nEvW3k6N8CdtL31CGxYc9uay/z+73qGFXXsLc7aUZWfXWnNOLPX3Lt2VG7DxDRBYxbuyAK6UU+keNVatsZhKSPd51+lDo9Xyqp0a9Nil313XF88sz3ucVE8+YpxOuF8tRKIGjhScUMLiy7iFQYoClGcnb4JgXx1a0mZ9qauthII01W8J9b3CX322xSKX3KgG/RqlOzZZUy6wKB3KccKbrAWWUYua5PVZ8iyUfPTf+nTqkqmzbraqqfGgnPekEb5DSwD7UDHZkurbKm9yzrotSQ91IFSMIQTR/TZqOwxr3YOpXbrNVOtbKjgUb26GB2mKHCuq1zsBuf3WylSlmPTWp5phuLIbtx4djti8S2ZxtiIRjp1tlVJUaOBh2lJkNLbS+j8KtIaB/9xXkbZ4ahotBNWe8V1q4rbmKhYZ4zYPRS2JV8tzviCF4N0Fyxt7l5YKcRcKcpoTz6Yx3797hp59+wsuyau5qYdfMlh3W4O1XMCDJs/wxeqQKSaOspCJEU5Z69k01SSmMSnjKThEgUby4UpHtUjlKvUQ7vzfXdKzu0XiNmHiZvp5ANrJskyGzJKc3GbLd3yJ1+6LdDtWR6uTnhqBH8KexrUobuf1mf8dRyB7/efh9IFcMz3SyuVYhJieziwIBEiQxzyfE+IxAYmWUyXcLZSivTdo4N0eUgBzcnvrAqNiO8lTNPzuiwy3q5obh8Npd5hdmbPDogFW3V7haWF4z9XSXyf84Zse3WLWVug22A2yQ8ep6a8TyVypiXsqcsZbVaXxi/nl4eMDz16+4xotSxYLMXE9POKzVcQFb0JVlk8p6ThKpiwPoxreNhTzQ0hQ2jdPv2/ExiL68zZ7XvfiqnNaX3qHQKWo7pXDLC2n1H3mM9AmYH79p26/LliPadiy7y/1Y/6c6i57x0PDkPmaOp1jxztdoLnXUkmQr6bIuWEtG5ozIYq+cUpIj5FLSrGOytaELtYdDtmGXIpH6DYLsxQkxbGIDqwhTR80Wo9piFUajhHYmoMe7aqxnBlPf424yDrTee8o9LLt2ycxsZrc9OAXWDh0AbynkLVkyVAVwW+8+Usrbwcmczg458ux+66ZJiFAZrSLohqr6X73seEzAaIvkzHry04pSMnLhugKTC7wtnGtUszdt9I31chBzq8ubf7yZyhSrbRWNIlI9pVaULCffNFvdt1JBB28FYZDn7mH7AnHrtyHZLdlQFu7W7DOWXhQjR7mP2Pt2PORxU/wa1T7cddgabJ2rP342y6bhZ1/hWjIu1wvWvLbzuoGKlFNKuK6iaedc9NhgVCuLHwD7bZvEYpRFFWNLVm+ignwsp7hgJ7k/TQGruwzZI3qjxIb0o8Hduruv7rxe3u7Ga3I/89YrNhY7DmSsf5c6Um/7vUd2tG8j0M0y4Sjkfhd8Rbb6WakkbZ7riwppzJtnPOtvv7c1NQpZqumn1d4PqrgU296PHg5LFN2M5dUXPMiGja1LkEdTIgRa8yxBZcXCGmfoFqjJtZ57jMLJOBa1hY7i9WpNZwo6QMotp0O3YLQCt/55Iyowox2N4uEjN+eDmEGgapEZqeQhUlKLJzA51GA7oJCOBeqvLsnQzSXu0L+y0n74myNyXwbNJYOvF6zLgryuYD13z3zUhbmS+WVZkVKSRO2FdccudSgMUDW3lAoPw4wwrOxYDvUMCBDjO9tOSJYRqEfFhQDOegRekSj4wu2sm1ts5D4G84p8+ArbHr0znQxp87JDKdmUmh1i0kDzq5kq/RlBHq0XI8cih9D+hT4dn5Ol9oZuN3HZAeT9gt2iXo2J4UFGAgAuKIWwLFcs1yv4sVnv7ECnorJbYXe8R7GtEtZCYynmv27tcP2zTlr5/4q7tmbJbdz8QVKf23hdrr08pSovyf//T5vKpsrZtbO251y6JRJ5AEECvEjqGdvLqTPdLfECkiBuBMEInpQTpFwxCjqToc5EABcXM0Xogiid8aHy8+ukS5+GSFnNHyOdc3H5PHB6Hrsobokq+y7klJ1ZqIVBNxcyBYRFRlObsu0hy7YKQgd002KNdaaOArKts65vNDESDjliXVfc1quw7STM6dFX2oR65WOboXi1FHiLfJMHo2YpRICNNcmckUxYXoRerklU2Iz+qSkoxHRB6ERys8Ogb/3xGl215yd6T3bsvWPLshkZGYrg1VJW3csWnDlzMR45CplhMGNVI6TLl9rRZztKjRYYrQ/bk12I25pzVa08qloqg/HL559ARPjuuz9hmQXUOcVzvK2THJWAOpZu4kM5zbLjZB0AKIU3UWROiBRDEPktBOPBI9qRmomYCzLKxlA6D0QQqksTxJBvFh6pU/D96bzCYsqgMzvGZqpIOTeucr6SGCPCFhwBqevN2KCLm5G1lPyMCsL1HHR7Sd8MEJKga0PkkFgVK+DlObClK3NBK+/EtiZH2WRFX69XvC9v2LY1ra4Ueo8y3QMIWSGJiWXrlbgF08mUL9uF2bZoJ0//DPxqLiq9hkN4AFm5yXe7kAOgGbdCXfsyYE9hqZWa9HAoE1qlhmEQJkNQjT1zuoj0eFFQWqFZCbNIaOVFM0Z1X3t2zUOzz14aXTGbgekMqn5GHk1WSb98/hm32w2vr//E8/MLnp5eQAhCP1kX5yTmn02u55hoQtg2hGnOk6c2R73S+LJccLksADS4u3E+jiwBrSjmE44MQgCL88XEdmMnTbougIjIK0AbaAo7TOXrpMgGYQe1up0i5nxcQ5CxZe8xMMIWFL9c3Q5yw5YTpmddp97F6SGjt2NK0kN23a1DBVDphQPO9F6Olk7G6UDL9n8rJTqBi5IvBoRww48//gPPz894efkGt9smF4zf5MzNcplz3UULN0jiqGNBTrnxVuDR4xvCtctUESjt5Hg2UDTXIqvGuEGC3AcxHRl93tc6Hh9gn63tD5fXpLgA5yisODxLHqulKrfI3uKJ8joVqKZucodLVlm78iF83xsqWl6coJBOOfHANUpCRQHdDkolz5Q6XSMtm0fAtjG+//5veHx8wqdP32aWTPMzluWCx+dHqGgRmZ2mndlUjg1ZwvEtywJAzg4xQrFlRgKxhgJRJwkv6+Yr65RVsvhwEm2geQMhQK6w82zxzM4HqvyHybDrBtHht1Sn2R/uyjtvidLEZC2wlM/BWQD2cGfNuU/9bD9rlu0QU5Wa3kBlKpFidNNUIZwOhu0095GrAgsWCY+SmFQC1u2G9/fXjJDLQ7plFMiB05jFuz3LQqk9XTjeY1xYscQ3NMdLExWBMRNlaquzx6GYfDhRRawABRCtotTckXoy4vnxQSNDWs3aPFSemktazyvdhGAYs09vDi0ysntUZVNCNaCaFXJqWnoKCMzKV7lDTQbZGYPLdtkIGR2LdxTxBFKa+iIk+MC23ZI2C9Cse9nIA6jtmd6k0Sr2Q2e2qfIykO6iKfn0vSBvkTOL3MgAolBHBBAiCk29L92/NViVb373nE40JxkRpMRickg4gEHxQcabmqwt6x5vWdbPF6C45hestgMvGmYMJVqDZFHp6SDdRxB3kky8Gr1kEOV890Ql3F6mduSDlDa1JZmRGeA4J+04AphBmKGnX6KZI4acyV7XgAnJmRcrCCvm+QYiK3N/neJyb7LigX1o99k1tHVbWExgak2xds9RyhQuK7bcvFeCUCtQI+oIAIt10bIamdI4Tmqk88g2bXP9O3fCUMwhUvY6UQYxg8xlYdTbgjFRK7idGEsNTUts29A+KxRKGVXWlGdlAZbTRBzlml9iFvZMZbvQKqBNbwcTPKKKPcO4zZ9+5DEyJcfik2micDLOO10WpqNEhspaiusVlrFCUz9nJIRUZFR3rrqDbJFR21bWfgLRvirVA6tnndNKD1sAz0LRKCEUzCEtq1RYxGMgbztqJqG0dWRdgsaZYCRHDlMLUQDRhhKc8LenjEcsvUxhYdmRrQdSlSIjrMkhmkhubIBH/H2qSUCzfaiiEarn40RIDrpqWO4JsT2KZ58LEpRn0ok2/yidMXn0DMhzCqViZUN1h5LLj6b0W13FZICmac5BqmIUJSeEmOtRtp+f5f3f2vwjJpKZIkCFMn5J6rLbk+meciNWGZklhEpyFOG0kL2uVGRFb18UZLQ7ND2zT1dXSZ/WN3XRvctCQfaSzVHxJvasZ7T9dNTGiK1ZFqX2wWma0rXaiphedsl0jIsAXgYsXYEczahbFh9ZzWzQzX/lESVbOn+ie4ngbv+bNDKnmAd+v7kz7tW47C0ILb0nu+WbFoiy4b/NmsQa/W44kMr2gx65dnvIqNGOnWHc4FYn1QOzv67VLNB4KRLBhiTZ0yq1ZIyxKCbMYERclnQD18OC+ULAxNmcg2TSiZAAA8QsSs8EUL4ZNsWQBDBFdW9LGiciYthScKkZSmhzWBkQYEw9Gkphj1plZN4bVeJyNtw8u59+Jlc4ex8ksxdFbG5mrNtmds9snlHb5nmWGdvdmRLMqyCiXtGyLEsRKVJsyq5hvEa9/htnf8/PC3WQZxXFb9jAoTzUe8IEmuSWCImgm8SGyqyTHXMzPGXAxGKAMlCJKmR5maOwfS5G8GwaIYIYvwUZTUWpjzteOfBTnH9T+W4XMcH4jx6OU1FS8nNjyhlRyJ77nN3zToAgGS8cbPk7jZ5TpoT1Myvj6t/Jvew9RqvuRyM2NaKsX6H4EIMoYpqBy2VKV3+ovXQSCgi5W0eN5HJWesZEC5ghV6chZmTVSQwxJv2EMDEwLRO2bUWIq7wjpBsfNszTmkw9qsV/mf3QDg3j+PiAtueecoUtprzOyzyVm87qPCFFvAOQkfKgxZS3+zgjne6MPTw85HfbJlFIbrebywfkc9lGHhwgVSPPmK9lFZErX1NCBRSGOvU6ArRiBMFSX8jgcQCxuOFOBCzThGWacUn3FkosRyASQ+8jVNYMParD4lQQE/KyNTxCTDrTtAFYwSxbgiLvRNDkj1co3EdI2W6Rcned9sxAao468rh0lAcJ0RsH3ZKKL2kr32b1lQom1Emf66VVc7VNuW1baSt6e6ft78LVKDQyTrYRKQt2tDl1OHbLWsKvlv1mi3JAWdWsZBdgZm0McCxaIQGYCZhJ7rrWP13pMehAT1lOmgBRdpgQgpqAfOwiSpg7TWLaCXwDwJjnRS6VOhG751C2ZBlTTppErRjWphdFyrplHV+q6nbbiCOlhlWpKQjolJBOW20nlTWXi6uIKMuG67rmsj02rmkpTe4PrpcI3TIWmc4itQ6c6YxH+ZPsuqKWJTFu1w8QEULYkudOCa1nDa0ZjhRXO4QIJHNRZNGm12SDCzHKdSOThpFmABto2kAU8DgnKpAjExR2fUL0P5W6VopKNh1RYTJ11Nu5Ws9IqQkpcC0SFTziYPpdlZP6DPz1enVw7mn4Ni2ZZZxEyvLNsFRCQkpkj6ZKJC6cnlSx2VcA3E4DlBKXFGJI9zpviPFioNN6RStWZYcTBYlRzpYonFp3jGl7dBYyIcH3ASRXMqIoLIusdN/QKQNzxcptniwadRZ4J+lbQgdhifLzXpmh+c2Nr1HYUBCol2hKimFCXCJykecYkIjMRkmyyNiIIbZvSBSy1/ShLS1XVCGzkRuL2ccNRcOG8ptOe4JEsZgkktbIYcO23vD2+hkTTXh6epa9bRI3fGAC04rLwwOW5GTLSFQxkW71EgqR0zGIiAeSqBaXhxni16imHfZ96yKRUsxKtDGjzKMWsAAAFVRJREFUVQ6PQ1fmaGhNjYaVAsVeOCijrnQ2ci4Ticmrt6+vwWBNFJMG8oRUl4eLcKJ5RgxBlJNtLchn8o6QsB4S28+leu7Y5Nh0YViWzlNeIQYFrbBD1veuj4j721MWAAY4guOG28cHwuMT4rYhUgCT3BgBCqBZQj8vendNCp3CkPPTazpmu+abJRQObSiCsUFOHSZksxzgTn7cIGqmsscV9XjYLl/LygyKLG7MLW78HYUsyQZ2zcpkZITke1fk0w4ElQLUxSWiRh5eSsYkXO8ih2HTRyw+EQPOmneSQtNMnqG++ymCw4br2yvWxyfwpw1xWhFokvg0RJg5YppnLJdLjgkkCBkQYsD1+oFtXXG7igZYPGEoTWgE0w1WetZxkB6NEanbvx35ryosH1RGeq+dERsEsws/PVvWassx5zjuNuV7xZcln+5c1xWqxpYdMmoImu+2k+P8M5CLNbScQi7bTcd968YFqT1nM6wuB4EvJ/pGySpG+rs2pkZEEDZcb2/4+fM/8d23C6Zpxrrd5HqOibA8zHh4umC5CLXkGPD5lx/w+vojvv/v/0HYAv70l3/Dw8MTHp+esIWIOQRMcxDvb4o4RovjdLj8ThDKUZYeUub7JW3bI6UmUch5mvH0+JTqTMpOYsvK+jWuxTl7q1d+i5SZ8C3vvkElPCx613U26+yxzWzmoOqzNO7Yd0ZGyo3m04yNxuh3Tg53cJSKQLzJPz7esH1ascSQ7o9Jh7TybbEyIHFb8fH+ip9/+gF///5vCGvAyzffAQRcHh8kJF2MiIiYeBN4dfFYUdnKwWbQ7WjcjcKmUK3I5DbN89541NUV5cfnbQgCAwQJe6h5thTnJ/s7ZJmwrctr3z1IaqCpyUxoztTsUcqjNe4Rumr2VA2j5Aa28+56/cC63fD8+AcgzliWFwDJdJN2cOTM8Q2//Px3vL39A7ftZ7x9/l/crjf88MMzvt3+iOWy4eWZMU3PcrpwKvf0qLAzMOM1CPJ19NTUfYbFd8pYs099DUi94FkGGNu24Xq97io3wLnF1sO9MymrXD2v3vwpEnHOp4w3q/35WYuM7Xa7r9/mdppZfp5F874ti0SiEQPsii3U21EiR4Vtxbp+4OPjF6zbB5gDtu2Kbf1A3D4Qtjds6ytAN8xLAFFAcbzVBdF6zPcSd/5sGWesZlUEVR0cp55t8Uz+etw8HIU1R2OusW2pnCg/fB2n4DCfXD2zyhbRbuQKz5ZQIZbTF8+IoITs+OnqT5p6lbWtVsek/oOevQbW7Q3rOss9icucKCNjWzds6wc+rp/x0y/fA7yCecXt9o7r9QMc37GtMz4+CDR/g4ckR5UO6gSeEyd6ySKlVSR75INxVkbbaU9lSA3U2ph7ipgWY0zXsGy9qnbT2BJje2Z3kajWNFzKpw61ExblSnWez2dcJ6CyhHdBS3TKsLtB1Aa76rJSQ9B7tud5whZM+6muiShd0s4AAm7Xz5gmYFkuuL6/CQzTFYwrmFeAA/w60PpikhlVNryfVWpte/bFrKypkZ3b/J6lmrkY2HBd+x1K6heBmxXZRAjlCMNoFyjLsDRGRCpNSBsZPRIFOSBezanDpgGHMKW1Fm1H0FU/6sHMSleFjPlxEYhH/nxElMIKM5gD1usrCIRpvuD6IfLl8vCO5QI8v8xCqRUJyE+RTeXQQ4eKVTsgR0h4OhXN7kRWj6j1u322ymBW8lK7n/WRuTaqjGyLLVIk9mbEKAOGwxPHsjVQu3Ropy+moVK/OdvsczgAaiUnDwB5hM2dA0BMmKcZD8uCbV1RM5YQIyhseH19xfv7Oz6/vmLbAq4fwoaIgP/4z3/Hp29e8PTyDVQWfHh4ACVtHGRlu4H2MkgjzXeUejL1vW3ek+obywoUqeko7njd8DbUZL8PzK6pyegnVWpjjJ9rpfvTUhLP/oGi+nt641alrkR5YeoXxFcK2RPQYxbM5bz2elvx9vaGsK2YiNKZ7kfACPJ6K0FRy6zYaOA5KTM6+bjzvm8DLPnJtEn1GKRxGLbdYddOMZmc4J2JSGavenqzgc5i4njRub45xfRg3Ko+TSPSPp6ARqvYTTX1qEs2+52VLc+VItmPneYZTJSNvhrOWcM7M0dMM+Hx8YJpnkR/ZQk2EEIAh5hjQlpW/TX06d5lbaXgfob7CYVzmDCacj6bXotQXPKGULYO/dzvw9HYIO3nCEVIFkiv5sVjdqFyebFykaUa+SAL/x4ca+y2ldugVD1grAabqaQRCbIcMk1ACLtsjkj2sCciBJj5VWUmfar1ZQRTnZyRekfZOHIeaaD+jdh1aW+nfjbUNM2bPTqh53oIVocduJMZDkjm2SkYicq5bAObqaMWQNmR7ZF6066wfZacheZkwkHSQqOvNp0soMMOqmw6Xy6geQJSYFMVD3PP0mLL1Iqse26Bsctqd9h4T0M+y/Lb0SyprqEWikbJU7FezVz2sXvzbp7n16buEaQNd+zKk76OxQ0cdXzrHGwe0K9a0wnxbGUEKlQRKc5OalI34DVgVM3qmRkxwW9cJLAslyw/ldMJ6YLPsGHbROYMzAjcn64vSXfZKrtiipcpu8UG7br9/hidA21pR+qW4F2yVRqT5z8b01fFhAet/nppqQeNK0pn8MN86SGlpwhwz/thQtoJMyw6s3zK3Fpvgc2OFoNO5bpJ9rJBSwIvCfvRnJ8GcL3dcFkf3S6F9v9MOkMpj9K9mvrZ1Nup0YY4ydvRBGy141TkzLT4zyJll5PT7m9Ni82guyb1RrmyQOmgwqt7NR4tyFC+cl6nwwJ2OySNalRVHbzb9SaOD8kfb3dYUtnlchEuP0n/QhBX/bgFPH/6BBDhv/76V/z5L3/Gy8vz4T5u28xvSDG+sO566w+AeHV38ua7gJx8Wx29PTV1xwJEo8B2ktup0TprLxDbmMgQRh7pihrZpwdwSLknU5kOFcKoPQFYvJoZZqAzJW2pkfwWRJwIWNcb5mUWv78tIKxb8hRnfHxcsd7WA2Nyj/Kfp4L3bjcKoTLKZFXPPVScktms5meMcotFqj0jo3ckPiO99uHwfgX7SNnuZau85gga58Epx7ZU62pN4Z5CdgBsoahslnrc0idmyDneyUqI2kinAMQcNE9yPubt7Q3MjD9884Lb9Ybbxw3XbcN12/Dx/oHbbd21tLAdDyNO7O2W7CUnK95Val+DH5nwJKKHr4pQELLsStUCmS/kUHqgpPh2j48yOKWmfZkG3wiOpKCcIN3M1q7nD5Bl6lohbL3iM9p3Bnd3uyy3i+Y5M+N2W/F/P/6EsAXENSIyYVouuDw+Yl4u8Cp21SezSmsq9SVU67dItUKjSo3CpN49lMJNM8sedozRUcSe00slAZY2m3dflxar7Bqm3ELRU/iMvOkRpQesPuxrjnkVpQqGncxaVpEv94ZF38TE8l9f38UoHhlYJmCaMV8uYmzvtZXgKcg2Auw4HTk8jCmuIn5ZFPW498SNbPjPLFvqstnkOryaXieWXfW1Nyunh0Onyw6gMQMSLMvO/SSbLxdST528z+u0rTJAKrfZOu7ZcKD6k6gZZE/CGBJBqpRrBogJHEm8WUhO4kmgvgkEORL79PwJlxTq49B5Savtr6s7kpLjatUDACa/OPK4snlEMO6sFWyiPUuomChDNBH0bkepifIOjb2SOGEGin6Q0UWXRa7jTPcpy1/lPFV60c2/gJAM8VYesTUW0u20L1CWKHzd/cgKRVNpaOZxhzJcbOTcVmEaNalfc+cod1pW5eUirvsHAO2x4pExfI/i6XdnjqV+n3oL4EhRUsO/rtS+gd8cMa5NaZne1ESorWtXlnT5qvarB0vOVQ1KGchKzNULpFljk8tKz/YuaQbt0P9KkkYaG84DVWDup74NTsGZQHh+esLl4bIL4pdo0l+q8Pwaibl4oBO10ceU2QWVISfK944fKQtHikz9/Yycqe+XLBckcuoF86SSZGNkYjODFjLL1pV2p6kjt8t6hruVifaM0GeVCqe7ULouZC4BkthQDKBe4Qd1d2A8NwatGFQjBrPNhyJGVe334OkvFGHt7p7HGqauCFO4i8vd0aYPNeyqfMOnGrYjD1FkCp9219KecrJbjDIy78uQ41N4Jxpp2pxTgCRtpVfnvVTvPDLW+Y7pyogiOzut1t7wyvQRa2WoHtG+UG3lfPd8gIxnEBIYScXdEr1Bq7L+DmyJUWTc3mK41/gsk5Ui7+61e4d2VruBnSiBIzZpcx61reYeNfMMW2RxzNVjrmdb2lNp7ul7b676e9lZgKbyTH+qDFfBbM02tcHcGsurXnmTU0fmd0UzqOPoOT2WOc5dgXSKHZcONAOeiYlV/opC4pUXtQnaTmvUsfFRgt7u1xBeQ+1a81z5vY84LQy+u/xFnHDEyl0oFadQdcQJtTv6jfj0pR68ThWuSAasQkr9YhCWTGV5kBtk8Ibq0llGG2GjtK1Wiftp+2gSdevN563lP4XPL6Cyj76vQZ9j5wriNJX4PLWfQoyhMZ43Peo2ZZG9wHMYz2eQNO8y2gbrmsc674qXkqWQx0Pm6EKTsZLTGGC670zyqMVG5tH2T45d0XdGy41HM4ha/v3dkq48wBETZm5kyJ5BvK2uISuuy0dI2dvXLgip0BEALgfjLYl3lMs2aYxjRQROLB9jGoKDd20P7i2QiiVM052Khk0YRMyIaWHc26bs4V2HNzeiSyeN2qmU/Yrlt2XbOtuoZ5m9pmLNTk0F4pDKJYpTcL1l2z3E672z3ycru6m9yssJ9t+UYdYJVJb3Zem8ML+nqe3llxsaOqsUPbh1EZ5u5qvSPsVvEdOXbetq/5Sg+Pghtmisd2oOkh/LVCc3R+T2TV8G3zoypIAY60Klq6YjSTmoBeMaqfaWtKt38KqDKve4b7WD1lSWPnU1md8GKb/IaHASTuuQ0WOBNewFnnHd1r7oP9OYdKag8Zvcgb28K/Kid9rdQcKmsj7l7No6RhP6O0o9p1LdIb0Ryq485jZWjSb1rXRRdX4n6iiwfV1jvfIaeNWafKZ0lV7Nj5gZW9gGZp9R6mHBvhDeyu07oVREPGuFNDJULumuBZz8rkMdjdGjp7UxUBj/HoaTPd+jzh2lab2xNSOflXnJmKVIe1jea7zxTPszlbR/pT9FS+5TzZrCjKj5yNtnTP3PKEE9pC5HfBVoO5+2FEd2QU1HqSx+gaVgQ+EyKrP7grkCo4JY9l2xbH02pUb6trWEsNy3CVEGkF2xEVI29XZSdx1SeTcvKdwwlRDNieYhclqDNO3UBg/xMAu7hXDEJ+4RLXZq6bRzZLfwi8lSyHxkNXUkzyJzjqW5l/qasl3M+6AxGTuwLsJKGda0WAxVilPczLRgMRVA7WnMaXEIQhBbxifQ2mtuXWcKqENBrVCaQgXnHLlCms9nZLRSIhGwMwGvPJzrgRo+jd039QL6NZSfWpbktOhbsxJ15VqBwSIUZzElc7Wk2Pmi8k7vyW4N56nVPP+tvCcI6fUEqkfVfOUGBkWngpzFY3wkV6slQ2rUpeUyNXSO2mftKhtQxp6JYEKKcFausZWwKVw0xOTNUgiBH0gd6HJwjDIUXgWwv1qYC+s+ppRn8mlez+rrXZyzycrJpX0ycNRIybGE7LNw++TnZNdgn5DFiXkDFt2MMBEWTMamaDIpd/brwVCHFl7z5ctIhwKuwdbz9WQkLlLbuuYww068qAazpjhKYetJmchQU1W08Wux3fvSuTbtFLaatK3LL4gx+w9pp0bL/Kr9Jv+9X7NHy6VMWqIsifUKoie2zJ0qMhLYxsnzsQ6JbmA2yFL/Sf3eWSCawXYCemcwPRu00LNjLcT6W/7qcmcUlDP57p3sHvus+3KkZEnBBlKX915t/5D6myAD/vRiDyn9E+OgyyB373OtuOzTPSteniGQlNrVQEiXyyWbbWKM2LZNorrGAOaQwBwMQCVcHa/0hHwtGyiU8l9AJY+S72Z/kHv7+Xu9iHrOXZHoYO5G4zJGzsE7ch85LaASBIqdMF2onT+2UAbFer9k0xGbCe5RESDfTTgvxQyqxzGFJcdyXnh3FZxHmCNPHaPH/UvTWco7yt83dFMnf7liRY8w9GhJLf+R+d5wQKfwUOXT4lmzlfJsLYtroOqYE7QNrgn8JkpZapDYd6kGVn8vyyLXt10uGflut1u+ObSlzhWtr7V25jNEGW41ub6eKDqwIY7y7rHv2v442rW5l0r3fBHVKtHrA0PMZRLKmRyHy806K4yRwY1SaH/38vvvrUJscXDxj+05DDEfWFOEVqjyJsxTygy/AKCmGr0NSpEyhACOjLfXN2jsMXWXKvDYQdrHmCzed5SaNl+RHiMnI73cspk9X84aur802fosi23NP8BIFSjJE4F6V4ryPY8eFRhyv6ME2orOcLTX1RoZe5B42jE409RULA+XQn2SqcFIkH6AyOktVEXHUq8guRm0yC4qI9rrawG01LBgtrcspYe9Vb7n6TJCIAZg3PdaylorcAfUDkCDXEcK0ajevhIGaCxwIQS9Po/ZtlMOFTZYxO3XWSPWHpZq3qZMlVwVpCqPFQOqyBWZ8mW+bpBtIrPEWodTiaEzY1lmLLNQRQAIm+yVvr295Vtdp+GKYfd5khHvptMaJJk/4BChfqvERnPRhbkPQqGwFhGz3TVFzq25SAgxnzjMqSdEnkr3jZEQq36Z7O3j0NuibJU4/4dsqPYua7I3uiYfuxhCutiR3aDk/GQqzDX49dZnEL2ear4isPeokO5lk10AlvIiLU4pUJMK83+pE2hlwzQarlyuhYqA1NSY20x+AUo5uzSoQ90s9R68k/GJTX47KqOWinhJnVzYXUFdFg5ktrVIIACrLdvBlcK6ispWnOwTL4vIho8PDznf7XbD7XbDuoXk+GlkRMADQwmQRl6iLG+W0SCA/KWdftKV9ZdSFimJTWwhzZ3GkxFzHWxqK5K1qb7Tjm2PbP32HSqFxb3bm8PCLZzSWA2jpZC53xMheby28DCjH3qwzIXdQKXqLQCBR6l5Jec328VEfWSkMjZUs+wRe7O3H1weljyxnIzV7+/v2fNYb5NXILpmDNtDlyrhjqp3R0JKJxViTx4ZuXaa0GYY4AjYU4iMYmFAQYCRbOmep7JH6YzilIlFWjGckM3iQk3tsswIP3Qiw3fmiXAO4AIUekpnjwCdEYMyQo4Yot2/FAP2kpFzWzds24Z1W7N8WCoq5YZIqe32eEMX5nNCTn3K8B4cbimbh/WM8N7Ud7LALlKaxrkUgGWxdVLlcq+9krcmBHf1sK2n01ZPpKnT/wNvWboGyWUy6wAAAABJRU5ErkJggg==\" y=\"-9.589844\"/>\r\n",
       "   </g>\r\n",
       "   <g id=\"matplotlib.axis_1\">\r\n",
       "    <g id=\"xtick_1\">\r\n",
       "     <g id=\"line2d_1\">\r\n",
       "      <defs>\r\n",
       "       <path d=\"M 0 0 \r\n",
       "L 0 3.5 \r\n",
       "\" id=\"mab1620012d\" style=\"stroke:#000000;stroke-width:0.8;\"/>\r\n",
       "      </defs>\r\n",
       "      <g>\r\n",
       "       <use style=\"stroke:#000000;stroke-width:0.8;\" x=\"34.136875\" xlink:href=\"#mab1620012d\" y=\"227.589844\"/>\r\n",
       "      </g>\r\n",
       "     </g>\r\n",
       "     <g id=\"text_1\">\r\n",
       "      <!-- 0 -->\r\n",
       "      <defs>\r\n",
       "       <path d=\"M 31.78125 66.40625 \r\n",
       "Q 24.171875 66.40625 20.328125 58.90625 \r\n",
       "Q 16.5 51.421875 16.5 36.375 \r\n",
       "Q 16.5 21.390625 20.328125 13.890625 \r\n",
       "Q 24.171875 6.390625 31.78125 6.390625 \r\n",
       "Q 39.453125 6.390625 43.28125 13.890625 \r\n",
       "Q 47.125 21.390625 47.125 36.375 \r\n",
       "Q 47.125 51.421875 43.28125 58.90625 \r\n",
       "Q 39.453125 66.40625 31.78125 66.40625 \r\n",
       "z\r\n",
       "M 31.78125 74.21875 \r\n",
       "Q 44.046875 74.21875 50.515625 64.515625 \r\n",
       "Q 56.984375 54.828125 56.984375 36.375 \r\n",
       "Q 56.984375 17.96875 50.515625 8.265625 \r\n",
       "Q 44.046875 -1.421875 31.78125 -1.421875 \r\n",
       "Q 19.53125 -1.421875 13.0625 8.265625 \r\n",
       "Q 6.59375 17.96875 6.59375 36.375 \r\n",
       "Q 6.59375 54.828125 13.0625 64.515625 \r\n",
       "Q 19.53125 74.21875 31.78125 74.21875 \r\n",
       "z\r\n",
       "\" id=\"DejaVuSans-48\"/>\r\n",
       "      </defs>\r\n",
       "      <g transform=\"translate(30.955625 242.188281)scale(0.1 -0.1)\">\r\n",
       "       <use xlink:href=\"#DejaVuSans-48\"/>\r\n",
       "      </g>\r\n",
       "     </g>\r\n",
       "    </g>\r\n",
       "    <g id=\"xtick_2\">\r\n",
       "     <g id=\"line2d_2\">\r\n",
       "      <g>\r\n",
       "       <use style=\"stroke:#000000;stroke-width:0.8;\" x=\"68.111875\" xlink:href=\"#mab1620012d\" y=\"227.589844\"/>\r\n",
       "      </g>\r\n",
       "     </g>\r\n",
       "     <g id=\"text_2\">\r\n",
       "      <!-- 20 -->\r\n",
       "      <defs>\r\n",
       "       <path d=\"M 19.1875 8.296875 \r\n",
       "L 53.609375 8.296875 \r\n",
       "L 53.609375 0 \r\n",
       "L 7.328125 0 \r\n",
       "L 7.328125 8.296875 \r\n",
       "Q 12.9375 14.109375 22.625 23.890625 \r\n",
       "Q 32.328125 33.6875 34.8125 36.53125 \r\n",
       "Q 39.546875 41.84375 41.421875 45.53125 \r\n",
       "Q 43.3125 49.21875 43.3125 52.78125 \r\n",
       "Q 43.3125 58.59375 39.234375 62.25 \r\n",
       "Q 35.15625 65.921875 28.609375 65.921875 \r\n",
       "Q 23.96875 65.921875 18.8125 64.3125 \r\n",
       "Q 13.671875 62.703125 7.8125 59.421875 \r\n",
       "L 7.8125 69.390625 \r\n",
       "Q 13.765625 71.78125 18.9375 73 \r\n",
       "Q 24.125 74.21875 28.421875 74.21875 \r\n",
       "Q 39.75 74.21875 46.484375 68.546875 \r\n",
       "Q 53.21875 62.890625 53.21875 53.421875 \r\n",
       "Q 53.21875 48.921875 51.53125 44.890625 \r\n",
       "Q 49.859375 40.875 45.40625 35.40625 \r\n",
       "Q 44.1875 33.984375 37.640625 27.21875 \r\n",
       "Q 31.109375 20.453125 19.1875 8.296875 \r\n",
       "z\r\n",
       "\" id=\"DejaVuSans-50\"/>\r\n",
       "      </defs>\r\n",
       "      <g transform=\"translate(61.749375 242.188281)scale(0.1 -0.1)\">\r\n",
       "       <use xlink:href=\"#DejaVuSans-50\"/>\r\n",
       "       <use x=\"63.623047\" xlink:href=\"#DejaVuSans-48\"/>\r\n",
       "      </g>\r\n",
       "     </g>\r\n",
       "    </g>\r\n",
       "    <g id=\"xtick_3\">\r\n",
       "     <g id=\"line2d_3\">\r\n",
       "      <g>\r\n",
       "       <use style=\"stroke:#000000;stroke-width:0.8;\" x=\"102.086875\" xlink:href=\"#mab1620012d\" y=\"227.589844\"/>\r\n",
       "      </g>\r\n",
       "     </g>\r\n",
       "     <g id=\"text_3\">\r\n",
       "      <!-- 40 -->\r\n",
       "      <defs>\r\n",
       "       <path d=\"M 37.796875 64.3125 \r\n",
       "L 12.890625 25.390625 \r\n",
       "L 37.796875 25.390625 \r\n",
       "z\r\n",
       "M 35.203125 72.90625 \r\n",
       "L 47.609375 72.90625 \r\n",
       "L 47.609375 25.390625 \r\n",
       "L 58.015625 25.390625 \r\n",
       "L 58.015625 17.1875 \r\n",
       "L 47.609375 17.1875 \r\n",
       "L 47.609375 0 \r\n",
       "L 37.796875 0 \r\n",
       "L 37.796875 17.1875 \r\n",
       "L 4.890625 17.1875 \r\n",
       "L 4.890625 26.703125 \r\n",
       "z\r\n",
       "\" id=\"DejaVuSans-52\"/>\r\n",
       "      </defs>\r\n",
       "      <g transform=\"translate(95.724375 242.188281)scale(0.1 -0.1)\">\r\n",
       "       <use xlink:href=\"#DejaVuSans-52\"/>\r\n",
       "       <use x=\"63.623047\" xlink:href=\"#DejaVuSans-48\"/>\r\n",
       "      </g>\r\n",
       "     </g>\r\n",
       "    </g>\r\n",
       "    <g id=\"xtick_4\">\r\n",
       "     <g id=\"line2d_4\">\r\n",
       "      <g>\r\n",
       "       <use style=\"stroke:#000000;stroke-width:0.8;\" x=\"136.061875\" xlink:href=\"#mab1620012d\" y=\"227.589844\"/>\r\n",
       "      </g>\r\n",
       "     </g>\r\n",
       "     <g id=\"text_4\">\r\n",
       "      <!-- 60 -->\r\n",
       "      <defs>\r\n",
       "       <path d=\"M 33.015625 40.375 \r\n",
       "Q 26.375 40.375 22.484375 35.828125 \r\n",
       "Q 18.609375 31.296875 18.609375 23.390625 \r\n",
       "Q 18.609375 15.53125 22.484375 10.953125 \r\n",
       "Q 26.375 6.390625 33.015625 6.390625 \r\n",
       "Q 39.65625 6.390625 43.53125 10.953125 \r\n",
       "Q 47.40625 15.53125 47.40625 23.390625 \r\n",
       "Q 47.40625 31.296875 43.53125 35.828125 \r\n",
       "Q 39.65625 40.375 33.015625 40.375 \r\n",
       "z\r\n",
       "M 52.59375 71.296875 \r\n",
       "L 52.59375 62.3125 \r\n",
       "Q 48.875 64.0625 45.09375 64.984375 \r\n",
       "Q 41.3125 65.921875 37.59375 65.921875 \r\n",
       "Q 27.828125 65.921875 22.671875 59.328125 \r\n",
       "Q 17.53125 52.734375 16.796875 39.40625 \r\n",
       "Q 19.671875 43.65625 24.015625 45.921875 \r\n",
       "Q 28.375 48.1875 33.59375 48.1875 \r\n",
       "Q 44.578125 48.1875 50.953125 41.515625 \r\n",
       "Q 57.328125 34.859375 57.328125 23.390625 \r\n",
       "Q 57.328125 12.15625 50.6875 5.359375 \r\n",
       "Q 44.046875 -1.421875 33.015625 -1.421875 \r\n",
       "Q 20.359375 -1.421875 13.671875 8.265625 \r\n",
       "Q 6.984375 17.96875 6.984375 36.375 \r\n",
       "Q 6.984375 53.65625 15.1875 63.9375 \r\n",
       "Q 23.390625 74.21875 37.203125 74.21875 \r\n",
       "Q 40.921875 74.21875 44.703125 73.484375 \r\n",
       "Q 48.484375 72.75 52.59375 71.296875 \r\n",
       "z\r\n",
       "\" id=\"DejaVuSans-54\"/>\r\n",
       "      </defs>\r\n",
       "      <g transform=\"translate(129.699375 242.188281)scale(0.1 -0.1)\">\r\n",
       "       <use xlink:href=\"#DejaVuSans-54\"/>\r\n",
       "       <use x=\"63.623047\" xlink:href=\"#DejaVuSans-48\"/>\r\n",
       "      </g>\r\n",
       "     </g>\r\n",
       "    </g>\r\n",
       "    <g id=\"xtick_5\">\r\n",
       "     <g id=\"line2d_5\">\r\n",
       "      <g>\r\n",
       "       <use style=\"stroke:#000000;stroke-width:0.8;\" x=\"170.036875\" xlink:href=\"#mab1620012d\" y=\"227.589844\"/>\r\n",
       "      </g>\r\n",
       "     </g>\r\n",
       "     <g id=\"text_5\">\r\n",
       "      <!-- 80 -->\r\n",
       "      <defs>\r\n",
       "       <path d=\"M 31.78125 34.625 \r\n",
       "Q 24.75 34.625 20.71875 30.859375 \r\n",
       "Q 16.703125 27.09375 16.703125 20.515625 \r\n",
       "Q 16.703125 13.921875 20.71875 10.15625 \r\n",
       "Q 24.75 6.390625 31.78125 6.390625 \r\n",
       "Q 38.8125 6.390625 42.859375 10.171875 \r\n",
       "Q 46.921875 13.96875 46.921875 20.515625 \r\n",
       "Q 46.921875 27.09375 42.890625 30.859375 \r\n",
       "Q 38.875 34.625 31.78125 34.625 \r\n",
       "z\r\n",
       "M 21.921875 38.8125 \r\n",
       "Q 15.578125 40.375 12.03125 44.71875 \r\n",
       "Q 8.5 49.078125 8.5 55.328125 \r\n",
       "Q 8.5 64.0625 14.71875 69.140625 \r\n",
       "Q 20.953125 74.21875 31.78125 74.21875 \r\n",
       "Q 42.671875 74.21875 48.875 69.140625 \r\n",
       "Q 55.078125 64.0625 55.078125 55.328125 \r\n",
       "Q 55.078125 49.078125 51.53125 44.71875 \r\n",
       "Q 48 40.375 41.703125 38.8125 \r\n",
       "Q 48.828125 37.15625 52.796875 32.3125 \r\n",
       "Q 56.78125 27.484375 56.78125 20.515625 \r\n",
       "Q 56.78125 9.90625 50.3125 4.234375 \r\n",
       "Q 43.84375 -1.421875 31.78125 -1.421875 \r\n",
       "Q 19.734375 -1.421875 13.25 4.234375 \r\n",
       "Q 6.78125 9.90625 6.78125 20.515625 \r\n",
       "Q 6.78125 27.484375 10.78125 32.3125 \r\n",
       "Q 14.796875 37.15625 21.921875 38.8125 \r\n",
       "z\r\n",
       "M 18.3125 54.390625 \r\n",
       "Q 18.3125 48.734375 21.84375 45.5625 \r\n",
       "Q 25.390625 42.390625 31.78125 42.390625 \r\n",
       "Q 38.140625 42.390625 41.71875 45.5625 \r\n",
       "Q 45.3125 48.734375 45.3125 54.390625 \r\n",
       "Q 45.3125 60.0625 41.71875 63.234375 \r\n",
       "Q 38.140625 66.40625 31.78125 66.40625 \r\n",
       "Q 25.390625 66.40625 21.84375 63.234375 \r\n",
       "Q 18.3125 60.0625 18.3125 54.390625 \r\n",
       "z\r\n",
       "\" id=\"DejaVuSans-56\"/>\r\n",
       "      </defs>\r\n",
       "      <g transform=\"translate(163.674375 242.188281)scale(0.1 -0.1)\">\r\n",
       "       <use xlink:href=\"#DejaVuSans-56\"/>\r\n",
       "       <use x=\"63.623047\" xlink:href=\"#DejaVuSans-48\"/>\r\n",
       "      </g>\r\n",
       "     </g>\r\n",
       "    </g>\r\n",
       "   </g>\r\n",
       "   <g id=\"matplotlib.axis_2\">\r\n",
       "    <g id=\"ytick_1\">\r\n",
       "     <g id=\"line2d_6\">\r\n",
       "      <defs>\r\n",
       "       <path d=\"M 0 0 \r\n",
       "L -3.5 0 \r\n",
       "\" id=\"m92a71b2fda\" style=\"stroke:#000000;stroke-width:0.8;\"/>\r\n",
       "      </defs>\r\n",
       "      <g>\r\n",
       "       <use style=\"stroke:#000000;stroke-width:0.8;\" x=\"33.2875\" xlink:href=\"#m92a71b2fda\" y=\"10.999219\"/>\r\n",
       "      </g>\r\n",
       "     </g>\r\n",
       "     <g id=\"text_6\">\r\n",
       "      <!-- 0 -->\r\n",
       "      <g transform=\"translate(19.925 14.798438)scale(0.1 -0.1)\">\r\n",
       "       <use xlink:href=\"#DejaVuSans-48\"/>\r\n",
       "      </g>\r\n",
       "     </g>\r\n",
       "    </g>\r\n",
       "    <g id=\"ytick_2\">\r\n",
       "     <g id=\"line2d_7\">\r\n",
       "      <g>\r\n",
       "       <use style=\"stroke:#000000;stroke-width:0.8;\" x=\"33.2875\" xlink:href=\"#m92a71b2fda\" y=\"44.974219\"/>\r\n",
       "      </g>\r\n",
       "     </g>\r\n",
       "     <g id=\"text_7\">\r\n",
       "      <!-- 20 -->\r\n",
       "      <g transform=\"translate(13.5625 48.773438)scale(0.1 -0.1)\">\r\n",
       "       <use xlink:href=\"#DejaVuSans-50\"/>\r\n",
       "       <use x=\"63.623047\" xlink:href=\"#DejaVuSans-48\"/>\r\n",
       "      </g>\r\n",
       "     </g>\r\n",
       "    </g>\r\n",
       "    <g id=\"ytick_3\">\r\n",
       "     <g id=\"line2d_8\">\r\n",
       "      <g>\r\n",
       "       <use style=\"stroke:#000000;stroke-width:0.8;\" x=\"33.2875\" xlink:href=\"#m92a71b2fda\" y=\"78.949219\"/>\r\n",
       "      </g>\r\n",
       "     </g>\r\n",
       "     <g id=\"text_8\">\r\n",
       "      <!-- 40 -->\r\n",
       "      <g transform=\"translate(13.5625 82.748437)scale(0.1 -0.1)\">\r\n",
       "       <use xlink:href=\"#DejaVuSans-52\"/>\r\n",
       "       <use x=\"63.623047\" xlink:href=\"#DejaVuSans-48\"/>\r\n",
       "      </g>\r\n",
       "     </g>\r\n",
       "    </g>\r\n",
       "    <g id=\"ytick_4\">\r\n",
       "     <g id=\"line2d_9\">\r\n",
       "      <g>\r\n",
       "       <use style=\"stroke:#000000;stroke-width:0.8;\" x=\"33.2875\" xlink:href=\"#m92a71b2fda\" y=\"112.924219\"/>\r\n",
       "      </g>\r\n",
       "     </g>\r\n",
       "     <g id=\"text_9\">\r\n",
       "      <!-- 60 -->\r\n",
       "      <g transform=\"translate(13.5625 116.723438)scale(0.1 -0.1)\">\r\n",
       "       <use xlink:href=\"#DejaVuSans-54\"/>\r\n",
       "       <use x=\"63.623047\" xlink:href=\"#DejaVuSans-48\"/>\r\n",
       "      </g>\r\n",
       "     </g>\r\n",
       "    </g>\r\n",
       "    <g id=\"ytick_5\">\r\n",
       "     <g id=\"line2d_10\">\r\n",
       "      <g>\r\n",
       "       <use style=\"stroke:#000000;stroke-width:0.8;\" x=\"33.2875\" xlink:href=\"#m92a71b2fda\" y=\"146.899219\"/>\r\n",
       "      </g>\r\n",
       "     </g>\r\n",
       "     <g id=\"text_10\">\r\n",
       "      <!-- 80 -->\r\n",
       "      <g transform=\"translate(13.5625 150.698438)scale(0.1 -0.1)\">\r\n",
       "       <use xlink:href=\"#DejaVuSans-56\"/>\r\n",
       "       <use x=\"63.623047\" xlink:href=\"#DejaVuSans-48\"/>\r\n",
       "      </g>\r\n",
       "     </g>\r\n",
       "    </g>\r\n",
       "    <g id=\"ytick_6\">\r\n",
       "     <g id=\"line2d_11\">\r\n",
       "      <g>\r\n",
       "       <use style=\"stroke:#000000;stroke-width:0.8;\" x=\"33.2875\" xlink:href=\"#m92a71b2fda\" y=\"180.874219\"/>\r\n",
       "      </g>\r\n",
       "     </g>\r\n",
       "     <g id=\"text_11\">\r\n",
       "      <!-- 100 -->\r\n",
       "      <defs>\r\n",
       "       <path d=\"M 12.40625 8.296875 \r\n",
       "L 28.515625 8.296875 \r\n",
       "L 28.515625 63.921875 \r\n",
       "L 10.984375 60.40625 \r\n",
       "L 10.984375 69.390625 \r\n",
       "L 28.421875 72.90625 \r\n",
       "L 38.28125 72.90625 \r\n",
       "L 38.28125 8.296875 \r\n",
       "L 54.390625 8.296875 \r\n",
       "L 54.390625 0 \r\n",
       "L 12.40625 0 \r\n",
       "z\r\n",
       "\" id=\"DejaVuSans-49\"/>\r\n",
       "      </defs>\r\n",
       "      <g transform=\"translate(7.2 184.673438)scale(0.1 -0.1)\">\r\n",
       "       <use xlink:href=\"#DejaVuSans-49\"/>\r\n",
       "       <use x=\"63.623047\" xlink:href=\"#DejaVuSans-48\"/>\r\n",
       "       <use x=\"127.246094\" xlink:href=\"#DejaVuSans-48\"/>\r\n",
       "      </g>\r\n",
       "     </g>\r\n",
       "    </g>\r\n",
       "    <g id=\"ytick_7\">\r\n",
       "     <g id=\"line2d_12\">\r\n",
       "      <g>\r\n",
       "       <use style=\"stroke:#000000;stroke-width:0.8;\" x=\"33.2875\" xlink:href=\"#m92a71b2fda\" y=\"214.849219\"/>\r\n",
       "      </g>\r\n",
       "     </g>\r\n",
       "     <g id=\"text_12\">\r\n",
       "      <!-- 120 -->\r\n",
       "      <g transform=\"translate(7.2 218.648438)scale(0.1 -0.1)\">\r\n",
       "       <use xlink:href=\"#DejaVuSans-49\"/>\r\n",
       "       <use x=\"63.623047\" xlink:href=\"#DejaVuSans-50\"/>\r\n",
       "       <use x=\"127.246094\" xlink:href=\"#DejaVuSans-48\"/>\r\n",
       "      </g>\r\n",
       "     </g>\r\n",
       "    </g>\r\n",
       "   </g>\r\n",
       "   <g id=\"patch_3\">\r\n",
       "    <path d=\"M 33.2875 227.589844 \r\n",
       "L 33.2875 10.149844 \r\n",
       "\" style=\"fill:none;stroke:#000000;stroke-linecap:square;stroke-linejoin:miter;stroke-width:0.8;\"/>\r\n",
       "   </g>\r\n",
       "   <g id=\"patch_4\">\r\n",
       "    <path d=\"M 196.3675 227.589844 \r\n",
       "L 196.3675 10.149844 \r\n",
       "\" style=\"fill:none;stroke:#000000;stroke-linecap:square;stroke-linejoin:miter;stroke-width:0.8;\"/>\r\n",
       "   </g>\r\n",
       "   <g id=\"patch_5\">\r\n",
       "    <path d=\"M 33.2875 227.589844 \r\n",
       "L 196.3675 227.589844 \r\n",
       "\" style=\"fill:none;stroke:#000000;stroke-linecap:square;stroke-linejoin:miter;stroke-width:0.8;\"/>\r\n",
       "   </g>\r\n",
       "   <g id=\"patch_6\">\r\n",
       "    <path d=\"M 33.2875 10.149844 \r\n",
       "L 196.3675 10.149844 \r\n",
       "\" style=\"fill:none;stroke:#000000;stroke-linecap:square;stroke-linejoin:miter;stroke-width:0.8;\"/>\r\n",
       "   </g>\r\n",
       "  </g>\r\n",
       " </g>\r\n",
       " <defs>\r\n",
       "  <clipPath id=\"p1f7fe4f03e\">\r\n",
       "   <rect height=\"217.44\" width=\"163.08\" x=\"33.2875\" y=\"10.149844\"/>\r\n",
       "  </clipPath>\r\n",
       " </defs>\r\n",
       "</svg>\r\n"
      ],
      "text/plain": [
       "<Figure size 432x288 with 1 Axes>"
      ]
     },
     "metadata": {
      "needs_background": "light"
     },
     "output_type": "display_data"
    }
   ],
   "source": [
    "displayFrame(X_train[0])"
   ]
  },
  {
   "cell_type": "code",
   "execution_count": 6,
   "metadata": {},
   "outputs": [
    {
     "name": "stdout",
     "output_type": "stream",
     "text": [
      "75/75 [==============================] - 13s 171ms/step - loss: 2.4209 - accuracy: 0.9025\n"
     ]
    },
    {
     "data": {
      "text/plain": [
       "[2.420933246612549, 0.9024999737739563]"
      ]
     },
     "execution_count": 6,
     "metadata": {},
     "output_type": "execute_result"
    }
   ],
   "source": [
    "from tensorflow.keras.models import load_model\n",
    "\n",
    "model = load_model('checkpoint_2.hdf5')\n",
    "\n",
    "model.evaluate(X_test, Y_test)"
   ]
  },
  {
   "cell_type": "code",
   "execution_count": 10,
   "metadata": {},
   "outputs": [],
   "source": [
    "predict = model.predict(X_test[0:1])"
   ]
  },
  {
   "cell_type": "code",
   "execution_count": 19,
   "metadata": {},
   "outputs": [
    {
     "data": {
      "text/plain": [
       "(9596, 128, 96, 3)"
      ]
     },
     "execution_count": 19,
     "metadata": {},
     "output_type": "execute_result"
    }
   ],
   "source": [
    "X_train.shape"
   ]
  },
  {
   "cell_type": "code",
   "execution_count": 9,
   "metadata": {},
   "outputs": [
    {
     "data": {
      "text/plain": [
       "array([[ 93.4,  88.6,  74.8,  67.4,  70. ,  57.6,  63.6,  47. ,  84.4,\n",
       "         50. ,  83. ,  38.6,  80.8,  26. ,  81.6,  15.2,  97.4,  50.6,\n",
       "        101.4,  37.6, 103. ,  25.8, 106.6,  11. ,   0. ,   0. ,   0. ,\n",
       "          0. ,   0. ,   0. ,   0. ,   0. ,   0. ,   0. ,   0. ,   0. ,\n",
       "          0. ,   0. ,   0. ,   0. ,   0. ,   0. ,   0. ,   0. ,   0. ,\n",
       "          0. ,   0. ,   0. ,   0. ,   0. ,   0. ,   0. ,   0. ,   0. ,\n",
       "          0. ,   0. ,   0. ,   0. ,   0. ,   0. ,   0. ,   0. ,   0. ,\n",
       "          0. ,   0. ,   0. , 107. ,  57.2, 102.8,  71.4,  98.8,  81. ,\n",
       "        120.2,  72.6, 114.8,  69. , 110.4,  77.2, 104.8,  87.4]],\n",
       "      dtype=float32)"
      ]
     },
     "execution_count": 9,
     "metadata": {},
     "output_type": "execute_result"
    }
   ],
   "source": [
    "Y_test[0:1]"
   ]
  },
  {
   "cell_type": "code",
   "execution_count": null,
   "metadata": {},
   "outputs": [],
   "source": [
    "import cv2\n",
    " \n",
    "capture = cv2.VideoCapture(0)\n",
    " \n",
    "while(True):\n",
    "    ret, frame = capture.read()\n",
    "    # cv2.imshow('video', frame)\n",
    "    displayFrame(frame)\n",
    "    \n",
    "    if cv2.waitKey(1) == 27:\n",
    "        break\n",
    " \n",
    "capture.release()\n",
    "cv2.destroyAllWindows()"
   ]
  },
  {
   "cell_type": "code",
   "execution_count": 18,
   "metadata": {},
   "outputs": [
    {
     "name": "stderr",
     "output_type": "stream",
     "text": [
      "Clipping input data to the valid range for imshow with RGB data ([0..1] for floats or [0..255] for integers).\n"
     ]
    },
    {
     "data": {
      "image/png": "[encoded data removed]",
      "image/svg+xml": [
       "<?xml version=\"1.0\" encoding=\"utf-8\" standalone=\"no\"?>\r\n",
       "<!DOCTYPE svg PUBLIC \"-//W3C//DTD SVG 1.1//EN\"\r\n",
       "  \"http://www.w3.org/Graphics/SVG/1.1/DTD/svg11.dtd\">\r\n",
       "<!-- Created with matplotlib (https://matplotlib.org/) -->\r\n",
       "<svg height=\"251.467969pt\" version=\"1.1\" viewBox=\"0 0 203.5675 251.467969\" width=\"203.5675pt\" xmlns=\"http://www.w3.org/2000/svg\" xmlns:xlink=\"http://www.w3.org/1999/xlink\">\r\n",
       " <defs>\r\n",
       "  <style type=\"text/css\">\r\n",
       "*{stroke-linecap:butt;stroke-linejoin:round;}\r\n",
       "  </style>\r\n",
       " </defs>\r\n",
       " <g id=\"figure_1\">\r\n",
       "  <g id=\"patch_1\">\r\n",
       "   <path d=\"M 0 251.467969 \r\n",
       "L 203.5675 251.467969 \r\n",
       "L 203.5675 0 \r\n",
       "L 0 0 \r\n",
       "z\r\n",
       "\" style=\"fill:none;\"/>\r\n",
       "  </g>\r\n",
       "  <g id=\"axes_1\">\r\n",
       "   <g id=\"patch_2\">\r\n",
       "    <path d=\"M 33.2875 227.589844 \r\n",
       "L 196.3675 227.589844 \r\n",
       "L 196.3675 10.149844 \r\n",
       "L 33.2875 10.149844 \r\n",
       "z\r\n",
       "\" style=\"fill:#ffffff;\"/>\r\n",
       "   </g>\r\n",
       "   <g clip-path=\"url(#p42253493f1)\">\r\n",
       "    <image height=\"218\" id=\"image69831a9ce7\" transform=\"scale(1 -1)translate(0 -218)\" width=\"164\" x=\"33.2875\" xlink:href=\"data:image/png;base64,\r\n",
       "iVBORw0KGgoAAAANSUhEUgAAAKQAAADaCAYAAAAonenwAAAABHNCSVQICAgIfAhkiAAAIABJREFUeJztvVnQZUedJ/b75zn3fkvtJalU2heEJEA0WhEtEKKZpqGXcc+4x8yE7QhHP3giHI6Y8JMj/ODXeRrbE17DHdF+sMft7o7u6aZ7BAPN0ioJISQQQgKmGWCQkJAEUqlKVar6lntPph/yv2Xm+b7SgE3fh/N/+M79zpInM0/mf1/oncevTgCQEBAIAIDAP3Z3dwEABGBtvQMAbM7WAACLYUAXIwDg6GY+d2BjDQdCbqPv848+5GMaEl7b2gIAXH54EwCw3s+w3s3yO/idO9zmudBhu98AAERwG0RIKQEABnBfKT9HlAB+V8/3hwRQx7+7fF8XAqjLY5nN8rvX1ub5PSnhxZdfAQC89MKLPI4egdvtuK2+s//X19YBAG+e38nn5nNsznJ7773jPQCADz30YQDArbfchhuuvRYAcOjY8dyvAx24u3miAWAJYBclRD5s72B3dzvfxnO3HAg7W/mB3WEJADhz9jQA4K2t87h48SIA4PjxywEABw9u4vzZNwAAn334T/N9b54FACzigMWQXxZj4mPUeY/8fVJKWA78Fdw5ABhS0vsg54YBMea+JW53MeTjxa1tXNxZ5PnABBOsEPQdY4uYCJF3l2xVwQxxGBB4NWNO+nDX52cFCw4xIjL2AGOu0PG9XcChRQ8A2N5mzDsHZox5A3Eb/PySZtpGBL87WceJrB9AxpiyuxLfGCko1uH9iuju66vJICJtl0Iozo+9kyhoa8T976jDjDHkiRMnAABHDh0GABw/ehwHNg/l8c54YgiGGf1gUnVO/o9RH0gDH2PSvglmkq76Mcm37roO6xuZ+hw7fhkA4OK5N7U7+4F/j3aRsWByx9FrqePfy+Z+gR7EJ2PEcshoc8ariOSbxIghMelj0tp3wRYs39YB6Lhx4okJmPFzHQ4dzO3uLHlBErCri47ZhJCXyUA9BlnUQjr8xKTqi5FfkPyh3OzaNXs2VW0k2EKUd4WU3H08NpJFSMpqdDxnAR0OHDgAADh59TUAgBMnrgQAHDtyGN1GXqw8LSWNktf4BakdzyeWaYkk76T8zt3lwlgXvk/7QwF932t/5TibZzbrxJVXAwBe/tHz+TWDvkqBiHShKymGzR/ZCe2ykniZ6/xf2TB/oCG6+cYEE6wQ9ILaY4pIyeM6D4SBsZTuxK6zXcB3rfcdIrchm0ywSeg6FZoiCxgDddgNGVUseG/s8K5fOAEmeFKZpEfyr+zKSxGbS0OmnlS0CwqGWSpWxoOMbTbrcc01WXC57trrAAAnLs8YcuPQAdAmPzuGCkRSS7AJrI5d14OYWi35iGQsjyfLAoIhvWASunzuypPXcL+zcLazXCi5F0zpKYlvI9kNxTBSQVXc8GqsKeshAhAK3Dw1wQR/i9DLrqSY0ImKJopgwtinJ8TI2IEEgxAWLMZvLTJWXMyAvs/XZ7rLZEcNSPzskrHidljDwDs1arvu1bzro2wlisYXKuaQbRaQRN3j5Cq9rcY4/qShc8cPWRuCMQQLJ8XSZJiZMXvfdbjt1tsBAFdewULNARZk1mfjKEDev3D/1whf+LVEEEImx546nYaBVTHDUKpd8lhEIEn6HQ8fOpb7eDQfL2y9BU9/7PWpOOOnseIMEZ1Qo8/FqF2JVf8pkSy1CUNOsFrQK9fY97piB1bxUBCJjZBYatsRZWiKiIMoQvO58zs9DrM6Q9pd8nYYCFgy6tplrLgVOsO4FUagZNgqwrCy7D2H1ABkJbicNInN7eNUYrf8u+RzCKZF8JiSKh1MFMRKBKjiPZ87cuQormSp+vDBIwCA+WZWsSjZqGGojh5DVig+RUC0c7tLeQCKWhbLfHFwUnE3wvMK9ZnPM+944uRVAIBXXn0JqMbr1TiqfXJ8ovKEogT3knghlaO4LzkknngN9fKG0AXQsmZSZVaCLpgt1qj3gdCL7pBJ97ntLQRmjmktk2VWlWEZE2idLQskDDe5gVZfgNyioHo6rGuyWCnZQrRWjRQUclGyBe5bpeoV9sDIffy8sBNimTp27CiOshXm8OGsf+w2WcezFz2qh+d1k7L/k/0r1FgWX+iAjhsXki1WFgqdqod6FlYp2v2JrT1XXJEX5KzrsbvI7YqmMesQq7Uxck4WX16saK/FcuEuuf3dtJzUPhOsJvSyE7OtUU4Lt8lCRQwY+NySL3WzDklIei82D8KF7YxBdxV97/D/wOUbh/gu1tg7oWCMmBnCkJ1lpN2QCu+yQEoRBf+mlBw6s91ZP1sgptoqQ6SqK1TXCFAqIXNx1TVX4bLLs81YrCE034NUCwjlldt6GLo3DgkAEFNQxbg+QAkD0/Fdxpqi4O/7OcKIRGeCWZ6tI0dynw8dPIqLOz/he0aEmljQ2aIxT4JjdY18G2rzFnbOrE8ThpxgpaBfLDNGy4pvUWoz5lNBIJp9mHfngISZ7EJWdPcU0M/Zc4bVP+I5Mt/YVMEIjndLFWfmcUmqfiWnxlE1gSiMKWWPH9cGuftKJGcY1/9IRK4/cinpbp+zd5Dy3UQIPKYZz8G7b78DBw9lYQb9JXhHIHv2LEbONwyr8b0kpt2ObcLDEjEy78jzHVjYmocOkQUGMyJ0iuVFyb/JNvYrT16P02dOc9fyc4sRoSYVHkB8LO6qzg12vxhZBpZZKFrDvUjIi5hUqpbBLLmBHvDW+twYoi6wXpws+hl6tuPSLJNxMQV1Xad2Xw8mXctiKgWO/DvpqymVVhOVxMmkan+Pdls+Rmv0ceTLxmcSvvuQ6mwiDgxBpfJjR7Mgc+3V1yPwQpxt9igaKwbOxwWMZHfVNUAXs4qXIUAVHeLqV1DPalMGQlqWm6zrgtq6I79zYyO7BF597fX43vf/DQBgi90PPQn2Sy46Ica/Oz9QXvNjGnSN8rymoPdNJHuClYLeFnDSXSPuU4o5ltHUJkKmAwEizKxlzxGazQDGjEmcWvkYKKgKyBAGAah2hugl3Y5SC0xCo0/0eFT+U1XQiNBkxGR8N4pNOLkdK9h6dzeTSLETUyB12r39tncDAA4cPIQjRzL5m2109tKys5lUy5FGrouAwNhQsUqConny1q1QzothKzIbvPNS0m8s7At/p8uOX47LL8sCzvmL5+091XeJDmsa9rT/RRfpcbPopIWMC3WONKigNmHICVYKesEmCEDX510TOhZMmFFGB1UdqNqlC+jWM2YMgiHnc4Cxh/Bb6p3fBbVle4GEbCMXkIrfgrVKzFk+YNrkpJjD42Kx4zpbN0pMw//k+5wKSRTpYsHqOhMIOvbffM8d7wUAHDhwCEeOHrSHaxDMKCEKEeYpbNozw5BiABDMHc2eLzxzpKQqO1Ga94M1JaodUZATgoZvdCLtsXHjyOGjOHHFSQDAj378gp8S7q5hQ+UnSYQbvieZNUutWol0HqUNbYsiwP4TvaBbooAoWn5a2mhya2WvAMzW1tCzCVAWHxHp11ZHV23fTIEmHyXUDL/pvkrCnjvuHhatf+0uVj7qyEj+vwukQk+qSA1gDre+WyqpywKWzRY6HD9+BQDg5ptuAZC9wvv5HoQnwvSKsjCTaQCK2BpenEFUwiyJBwqNNNaFDksW1cUU22skgAl0cq6jTtmz9Tl/w5gX6NaBg7ic3eVmLJxt72yXGII7Was3dR5TQkiGAPIp767G0yG7Z6CCRZpggpWBXhn8LMfnf9RRl0lVMte0np0nZvMZqJNtzC7yCCW2BIw+gpTsi6oEqSSrgAlBoNqlgTGk6LzEz1VUU4mUaY9qaTLMrqQPhmR7ITXSL8cTmLoICKHsiWChjfkG7r33fgDAFZdnMre5sV4TE4MFjGQLSe0wLtToy+SdPAcpma0+2U0iREiojuhFF4kUo3ca+kCKLWf8gAhP89kajh3LcTabrFPe2grmyBHtoIa9Wn+WkoZSeGFS2UMVhlh9BhvThCEnWCnoVZEagkYPdqJiYJ4y9B2C7qiMDbu+Q80UUgitG5lz/6+5wkTeLyeD/1/bGqJ7clwxnq0yJSZLzrQjDkZE3pVe7jPFrmJ2p1fSn6KaYEz8ztveg/vufwAAcPgge/aEEUlGkMvWyDg7mPDjDVmpOifRCslwkxIhCur5IyqpOceaY7nQhzvK327Wz7HGmLFb53aZR53P5zh+jJ12j2SL05nzb9pYCodfHpfMj02oUwnJKePU5Von8dlkFrcJQ06wUtB775aed7fsniVrsncTMGN/vzVW8YQQUAuHCSjswgAQRJyH8X1Rd0NSnlP33QgD5rGK8RqiQhLsnO3r/HJ7QjySROWREpLqVMr9mOAwOrcRUtBn5e45Z+946KGP4ioO6JLsF40/vxtcCG7sHvPVmSv8y2p/yAgEPhlYBO/mnYaA9GK2FDs6bLxiEu5nM/Rr/LI1frWYEJdzHOVwhhNXZGn7Ry+95IihMeONhdv0QO6K+Gc60URs2WLbBiEyP98Lg96FDsSLjtg2rYLMYKodSQ6Q38tCj9EOdLrAeQB6d3BOmEJyqCFhaNdSEf+t7SVRL4luK462JeR1czPbare3ty2KcS+dpoOUkurLxJnkuutuAgDc/I7bcOQAk2qW75ZjjhIyZXNnSyd37W3QKVmQXRd07EHmgAJkJ8zm8p3EdbDT79Sz8DmfBRCTan03r99ujbCxkfWoN1x/MwDgG88+0yZJGJk8JcmwGClZfOR4uURsxSHZbaZCmkj2BCsFvZCjGXVKsjX1xpy39pAwr2yfCEHtuF2w7W67RAQX4XhNWaqWlBHVjiq8gxN4BDvApURRE4+ogUgNvpI9Izhm+fDBvOt3t3cwsBlG4sNTYR8X7CmsRFI3PHE1e8ctt3GbR7G+1rlnM7fQ2Nnlx5ob516qofzS5j4NvAyEjrXmltDJnIhnPLczRtnUR1Wticqu68JIHhk+rAHztXzxKs68sbm5ifNbF7hr5TfMYy/VZ4M7RxKtmiJiFGuTYE/B9Ek7MGHICVYKeslqEMhyPwxsw15fz1hxvtGp7VMEh37Wq4qDasEEWUmeT5K7JgrrvdFDazhsVSX5d206NOyptl4yf8idnR19bsw8qW2qVwv32GXQECx08qosyKyvb9qWdsJMcnbkAvbDivV9laAj9oIOxssulxLhaTyY+Kbq46HDjFVBiiHn+/SlM+Hn2GU5rvyqk9fgtTdOl2NIQBiMiuRrZVo+f3+h9qsFhpT0pISEIKWIqMxyvnHOkhqtrbn0GsKQkr3MIunVkF/rCVNK5jbF55ZoKYclTXJhJSOTp25QzrHXMpbZgpPFef5CJjlDjJqKZCx7gEjBqquMEQses1DcyzjPYt/PjBnngfQyMH+sB/l2QMYsXXX/ynSLztFbb4J5jvD/pIt0JulW9rK1y3Ps7T9fyzFBN930TvzN974LANhmF7whJWXHTF4Rsmvytwi8JhpWCxZ5/Uy27AlWEjQ/ZIjJLBFi1dDMsZZYSu2hXQclxBoDbA0rjtI4FyOHqs6h1Niy/fNyZUy1J1d9WERjCUrGaO+wJQPJEJYKItGwvty/5Ci+QAExZBosloijh7MFI6ZkKh1Gn6EHFhe4F+I09bNgyGpQijA7hyFZtbPcGdQNrhNhhsnurOv0u6jC7hLqrjCXd+YHr776OhzgiNG3tnI2XiJymLEUMEMySiMQ6ZKvzc++jXsmmOAXBv1M+LrO9BUS1ZZ4lw0pmbmVnXeJOuMPQ8XwwPF4TkNep7qLhX1bwCmta+GnsIfabeBbLQzCP8LvHMwipUlaVU3RKm+Xi4wVuxARJeEnj3ODlezRp+MVw0gPbJ/JqHGdsdVMlNA/A4iNWXlVp/sSE3+eC+b/FUNyt0IAiU9Cgcn2kbAk6zGvgwMHDuPklTmzxWtnfsI3kfo81A4MAyXFriIqL928G7TiqnghIXQdImcBqHMMDkQac+FxqjqpaTyH65i4dpnNqUlrEkb6aFFzYXS5Gp3lPrjQ186Raj2pfbKjvrJ2xnC/Nf4kUBNdp1nhfHo1hrhMePaZ7wMA7rrnVgDA7OcgRAufEU2OlWS/HEi96l3aYwA5RHng7xoPM1nfvER/KpZgbW0DJ6+6HgDw3e9/BwCws7vUkGiS1NIuxmeczSoRQVKvDLtjItkTrBT0GobQBewqWSgxZASp6kVt1TAdoDepUIWQPBkkJdUteKddgC0elVYywTCuJgozdOfiFOQp0gbHhScJs7AxacZf7Y+pJKQ/r7zyEgDg1ne+y1rlDn3nqR9ZQq791CuXAiHLHHujcpGntk6oMOtQpW5bDjh7LusQjxzN4Rad79YYFVWVkdjF13HFiZyLfHPjKADgwsVt57BQYecEkOgkYRTMwhlKSlNQJkwwwQpBXyRvErWMZ/LAQUSxxGvJ3We8ZLtT1fQNUwEV2KpCsgj1iYr1rQQdn6lBleRp7/ZTShjU0VbUPaZ2ll+m9ukAmvGzGQ2eOvV5AMADD3wQu1vZRv78d3LBpe9978d4713vAgD03nb97wMJml5lZyu/c22zLSNinkPO7i/Kb0Y1586dxu/9/v8OABg4Uuz9978fH/n4rwMANuY500jhCFwlvwqhwwZnAT5wMLumvX7mNZD4E6JMpUEgTU6WvNpPefyWd2/F4gkmWAHoJRf1+myuCcfFudMrNzsXrAVkLNewHwmN35zAmFI0mK5cJXTaB3sm948oqX3AgHrEuB2YqNxzAc7lvsmCkUx6l/Z70rJ0C6YSz37rWQDAH/zfv4877shBXmfPZox6263vxFVXZh/J8HNgSFH37O5wznDOghF6GDqR0IiUlH8TZ9yOsf+Xn3gMp7lsnNiav/j5L+Jb3/obAMB/8p/+LgDg6puv4casXVFlhRCwsZ5VXbfefgcA4NWfvITlUkJvxWFYJs9ymGtMu1sbMbZShHyxvnPpNdZE39ZLJBo70nadEzacn3idLzH5aMD2hRZ8b2RWnRlkoav/BUGYAd+UUlexDjlnW038rpYgp5YhOzeUTZi6KibtgCY6CEbGJbJvZ5EljVOPPAL0efHdfe+DAICTVx3DgcOiS8PPBo4sL/kbSNDfzEcpyoIcEojnauCiVK+fy7UMv/LVL2vEoPghLAPw4ku5luMf/uG/AAD8F//knwAANtY3tN+k+khzCt48eIjHeS1+9MNcu3KQBckLfghREYZEDFCypPdjqbTVyvM2pmeCCX5h0IuKJxG0SupCsJzkGKSgMbSlIaXUtEcyMqikV5AP7JrgnNQBmilOY3Rtj4hXTiq05xVWdqUu2hhGUzsEx1CHqm/eHc3s961hXj2dBlHrbOC6G24CAFx9IscyHzo8B+b4+YBgmStIih7xtVDdh2xNCixwyVR9+l8/DAA4f/Gi5ugUrDVQ0nQwP/jhDwAAD//ZpwAAv/PJfwiSVMS78pqA5W5u/9jR7Ol0w7XvwPk3Mitw+vWf5nYhrm9LLEJ295N3ezVerRjP31DWxgQTrBD0C95ZMwSYW0ppCtqNg9oYveJVhQFymMkKWXMbzjyUKqyZqMCI/v4UkvpWlhJRpTJwStZUCVTZeV94VNmdNi7NruAwZCyb4PZLc6WM4/ITJ3EtRx2euIxLgGzQ/yfbXKZqfV3i4PmCs2ULOx8ALNkB+czF7Gr0nX/zbQC5dEhUK4JQIeOHAx8feewUAOBd73kv3nPXe/zt6ELAUc4KvLbIhvl07TuwuJDrdr+6ka/tcF3u7eUOzlzMPOz5CzmmOyJiYC2/fUEJQy2EGm9IzL/VO1w18Z3+9rHskrRc2X4iq2eIFkRwGWRRx2aNFvdq1VY72SROF4hOgDFrEZmO1JPlKuilKKtbSdmEqKRFwziZlbjq6mtw8sps/dg8wDPjpeCfA2QMm6wm5Fr2oxnVUgIuXnwLAPDDH34LALC1IyRz0Lo2MhtZmMxjWsZyjv/kX/4pbro1RxtuHs4vPdj1mM8yS7JzMTd2tJ9jnRfzZRx5qeG2fcArp7MTxg9fyNl4X3n1BVzkstT1/o4Ou00ke4KVgl5XZCSQ6B/VDV5ciMwpXTGfS6Wn9aQcxpP1b0GHJnREKeQTY6MfMvUPaY5z/0qBOljBB/0PpGhOzwklGJDQS9H1JPHejP1j0p0aVUgghy25H/z8TTfejOMHMwoLJbezN0hYQ5n/vwHBkDPGjOR1mmpOsn8FQz77XNaRirpoGKKGYxQm7Mo+n7ixl158AZ95+HMAgN/8u78FAFjf6LDGpU3WtvMaObhxGY5tcBUwLhR1+s1MpjcObOLmG28EALz31lwR9/OnPotXn/tuMWT9hmRFFSYMOcFKQa9M/LxXG68qsEVpHVsPDcCpIiTDLVmgmDSrbrxkwoHuSocdvK05H2Nj9UkucWpVV4itOCVzkuCSR1XVFYp2XQjDmI+k+kOKdMBzcNXJqzT5lnKoA/bGfglYnss/e64cMpplFzDltDj3jnRcHXQj4eVXXwYAvPLqqwCA5WDKcEvDYhlDmm/A9y8o4rOf+zQAYG0td/LXPvYQ5pJ6RdRRh4Mqya+/LKPxk+dySsIzp8/jwKFMOV58Obf7Ny+8ZHnH7WM3Y5sw5AQrBf2MbZT9fA1xLOYSWRUTlcYLBvP5WNh+ChrhCd0PzUWd71/ssx06mB+ieoLDklyqwOvt0PU79wChAHWRpEh+s5ri3RAv85WSR6cHZnPTGADgtA1FE/r/6Ze38NYbWal+3Sbbu/fCkFQd97mlCwGvvZ59HhfsHS41YFIiw+zOM0rUa+LLIMF7aQAGVt986i/+OI9z1uOBuz4AANhk83I3A7DJ7+e00BsHDurxzBu5jaefy+qnC9u7xovXlTZSUBVG30nlLe/CpDHJJsgM8jEkHcbIREX3rAXXtzMb+esVzrtVQvw0ssCK2oXVVZ/bsXhWxjLoyrVC9WNLt8qSlWIyC4069Ob/X3zxeaRfzh9KcoYHgnlj8Tu/882s+njt5W1cz5YduhRt2k84ElM5Oz/0M8LuIqt5RBWnqqrkK26ZkGfWL1mYJkwmdlPb5rIgf/jH/yde+EG26Hzo3ocAACeOXYk1ZlckC+/GTfn4yvNv4tvfzwvxc49lV71huXQpV0qrH5wD2kSyJ1gp6EWQ6ciy35rTriXQs4JFhlVkgaubGpGjXeX9RAmU2G4ezdnUnNpKrfZYWpP8rlL9pGnq/H1R2iDXviP7Or5qACk0AkBwyngZ75JJ4Ne+9hR+47f+fn4/sQF7F0jnM4b52pOPAwA+9ad/AgC4/4FP4N233eaH+bOBPMuqoG4BnDuf7cpaYRUiiEXFjMmbKzQKs8SUSzhqFfM4FsOAxx7/AgDgmaefBADceMM7cNN17wAAfPIf/z0AwB//3l8CAK76x0fwj/7b/xgA8OZbuV/LAU0xJVOMW1aLCUNOsFLQ+5JkWtgmlvQ8+jw+cPxfxZwmJLOz8rPJ/VA7tfM5rLk4LweYQtfQie6q6sllSlro0/entm8DpuZBZ1gzP5f0H82RM0Qdp+zwJWfBeO65Z/GZh7OXzIMf+TUAwM7FHTzOIQ5f+kJWn/TsqXv0+DEc2NC0ED8/MKHZXSzw+unXARh/5lPktfV4YKoxpTiO8okPg3zrASCpGsy+oM986zSeee4pAMA/+nTGhp/8878LAPjtT/wO3hyyfmuXqckQo/LU5lvr+sXqwr6w41YJ301YXBrJVtJqYzNH1+hSm4hVxk+C6AL5Aw+DfmwlrWTucPKuhVh9iLSAfP1FCUkXMKn39IhNnZw7RypJWXDJHUOwHIy1p/OCdXYXti7iD/7g/wIAfPu5Z3gOgO//22yRiGxEvvHmHNN8+MhRzNZFkVd37GcAnoLXf/oGLrIAkirb9NiCLO7Qa/JtkgqzJvhESALvpAUIktr2Zd5/+xOZdO8sF8rWyBqMFLlQO/QIGFskMJHsCVYKei8wFKn28i8ALHC4AuJ2v2BX/p+CoiSNNvOySqGUzKCVRAULiYsUkRZASg6LxlRicQ1NgJmJyWFxe789Fw195INiBGvQi266nyv1yfbuLs6+mUnT17+ZMeSMOo3pltyb192Ymf8jR46iXy/VSgXU+stLAauXfvCDf6dRknWYQERyQqq7pq53Zo0D8ndT9ZDLCiI6WMtOEjUTsVqMSChItMqvSj6jfc+K3cp2I0n3MsEEKwS95v2G5aK23ZXB25R9CbAK0QApavElxaSy8+DURNpuUmVzsXv5neor6TVJJV+sOz0Sx1DD8yTWhhbrgSsaKUphzWueTLEsmNfxwLLbtaAULbG7mxXS5y7ka/Nurolej21ka8zV19wIALjs+BEE8Wv0WNBYNXAn3xYs86vx/PM/UIykNahHjANJQkJSQorizeQ+UB6k65a1IbygeWAlZ+M3AUrbr5XxKbn7Sr+CSPam3jO6qWJwzbnVZi+Qu1+7Zj9Ego36QXtpRBezLrrOCR21w20yN2ItLZy8FF7en5BEaC7bqtgPIJgzhQjSKoChWcBZwVD2W6X/FDFwWV9a5geXCJqx9mouH3KMK8YePbppWdJ83znkld7mQhTY2c7vfvnHP9JNMlRStl8cuvacI7KRbi98ll92cKdsMZkFyxaivVtNvHocitLGrnkAwTQv/35TMMEE//9Cv8tG2J467JXNFrAdVyoN2vsFpZsVh1e+wz62Y82y06aCdETex+zUmNFhMiEPwV1TNZKco+hUQaXeckhWo8+3X1MCT44EW3aDYP2kORpvvuV2AMCVV+Tk8WuHxvf/1rkcm7Ibs0PC0RPHR++r4dzZrOo5c+51Q38M48H4LJjAMJhASCUVKJ9LGFT4Mf4iNaRa3p1UZ6vrJQEW01P7NyR885lsAZow5AQrBX2qFd7woj3aa4Ibi3p2GZxBxwkf7bNqEXKWEVJJRBjv4LCmf1OJ1Yp+qirIq6bklPDFEfvtw5pKeBWJtu+OdWXZQISTV+TUdVdfmSMSrzqZEzSFsUy6Cfj20zns4GuP5dCB//y/+a/RsxfWqIDDyOe1n2SXs+3F1ijvKEez2oi3CgYsAAAgAElEQVTqxmUNrp0C4LCrBgUm8d9VHjKQ9WOoFsIQ3RqSfgwBjZOProeI9911n3/lBBOsBvS+hNreGlkvgZE71NJSm6Kv4CEq/UbBJ8ru8aEGlXrGq3HqvnmsLjxNoOCwJvQ+yU8kKm/lgQrdgbXeKJs9FpJzik0Cbrope/ScPJmrqR4+LiVX674DWAJPPv4VAMCz38k+hD/61g9w07tzSj860D4iCOz0mRxUNaShwYza/5SsjrW6OblCpZWZGEhKYUQqHobkzMM23xr4VyvZE9mEMFCK1dqxt2Y3V7Zlm/fuWCR1Bq+LKxGuCRT5iqt6Jfe49WY6T2NmjbqW5oQiC5qnxFWxHl1vNo+a7bcncsy7RVKafnOMPJejjO4daov3LnhVepiNzQ3ceNM7AQA3XJdJd78xshK5ifNnL+C5bz0NgLPSAnjlxVdw4y17L0ix0Fw8l61EKTr7c70wY1KZMCir1KqyJKVNtLgB7aMLxnS7k7CUaq7im5DsWKt2CNHlBxWh0BayfLOJZE+wUtCrKxbBcbgSt7z3zobzxlGrRnp7ZlhDitSQDHK2bEso5V7vNUAo36fpCRUrO5FKf5jqqBayUnIV+QrrlNnS63dq5Vw2AFx/3c248aYbAQCXncwxJqOl5biRZ772DM6e43QjbD3ZXgwachFGZrTjCMA/2vqX+bnBpbrTLBtCTqPOi2c9GoTnbN97cEX80xorq+galSWkig0CUnRsBcpv7mHCkBOsFPSWP4esjjGv3TC2XCVaLUKxiCnB2zUvXj8hdYVnTr5oTvW1m2OpKLedZX57JYoMCVhUW3uBqIPoBOsjmP02lA/kNssxVTcUnfNYXEq63XLru3Eb58ZZO7iPeonZrydOPYrt3bIYzXxtc89MxATCxTfyw5u/m3VCv/uF/8zky6L6rvwQ7JehMAVW/pOljd0E1FqRTr4NNU6YGkfvU6dvs32TFmEV5jZCot56BNFNBdRKL0X7TmIIBf2Uzu1NXrxbU+3UUNQdkotBJm9A0Mqy+4AnJypdu48yIkXWCbEKnZ3e54SsPTtgJP4gJ1y66867ccXJHEC/n5PE669mHeK3nvsGthfZWiZF12fzA6NRndJHOp4v/vf/9H8CAHwzPuUsI+WYAO+ga5t5zJID5O9V+xf4aE9Z8Eu0JNcWrZPivfOMtmF9ywdqkdUEE6wC9CKqE0jVO0aZeDc4ZdxS9YXQGBYv/Ne7xvRdxi770OcxFzf5P7l3ARkDixOu2UUzVhlShDmUMmaNTsCRWGZKzjReusolh7ED62eXmgbBq6uMZPcc6X/9dZlMv+f22yyXYyWA+XNfeeSrAIAz585rcP+cc3BubB7C7Lhg+WpGE/Dai1k99L+e+2c8OJibn+T2dh5SYk1aqv7XUQc5qo41ONbLogRNgBGsuWwEopJdoKINJFcvW9gc9XwLCFUc1wQTrAT0Ba9RXRwTy8lFKcYahY08U2LbfbjBhqu2e41p3l+p1Ga/sN9qreisjU6Vyb4Phv3KXlgnrdJph77LDo53vu9uAMBllx1GzMUJTCh0PpCLi5mefOnzfwUA2NrZxVJUPPzOOz9yC4aL/K7NElOmCOyyH+RbF7NifEim4DKls1nDalVZjAm1RUdH6JX+7lyNSXNGDGqe0XaswaYfZc74fLd8495iTUb75zpXa+GKNAL7PGidDrqYJQgjWP6gyou4SI2ijHTUO7Q/zeDMcSBR3+Qk6gAs+XdfSdQEc8Pyi19CYrUOIl/qKGC2ls2Cd999b25zFsARo5hJ0njpYgd895lcH+aH38uRibuLpXmzs2PvC998Hd37xkn2sAQuXODUyXwckkXyLdXFjCF1SEXiIW61litUa2HCjoRDDymhxgVOeIfMYCpMwjbfALDjFm3QvJwud51oYzDBBCsEzoZwCRtL4NUvRkeng9sX3M4YJRPeGA2o40OC5Ss3W/a4JaVu3+o2J9S5dkvMWzLj2a+gbt9ZbKpSJF3X4YYbbgEA3HBDdjVDBLqqLIiEKGAX+KtPfwYANN/2YogqNgXO7d7PZ4hSmrduawDOv5VJ9YKLJOWEWDIH3A0n3HjVm83E3pBqGu9Vaz4ikWo0W+jgilPFOxu+zmHPS/Rtggl+oaBRh8BI3m4HQZwxnbWidu0KKaky2ywvbqcI8pHoKmp5R+VLE5SfUR4uUeu65OzMhhld8SWf+gVZQOrGqtKCFfUV4g0gFTaEhyTOatF1M9z5vsw7HjtySMchwoxYY6Q7L/7gFXz18ccAQJXhuT+5/fV59uBdm8/adH0yMUvgwoWz/KzxbOK5JKXcNCAN0fhoxxOawcDmJf9vkLRaLlTNpul1XH5QVd05twhpZ8EhMhHO3i7fRNcDTTzkBKsJvbJKbmtUKX5QpMaTm0YkL4KzZzc8nvnIjXGe3kcyPx6bc97pMVUScjOI5u3SLb9/S1WJ39ui3grB8bJiPmVl+KFDx3DvvTlh6doBxp4zaz5KlQTGlI+f+iJOv5WrJewuMmO5TINSAKnCO+u6ZpKGrAvH1kXg9ddybe6BvYNitJDhf/WZnPrvE7+W8+zElEwl5Pl5/VHNmROfNTw4wfmAtkxhxXFmv1hpQ/Mntfz8GPS+dFWqvr/ZhuESOdmCCyOMv+FtswDlNqgodyxQd9Hrqmhs6VYxQNJ9Apyw4m6vjn1yjtPuWXmnWDjIVcmVxdlz/cMZ6x5vu+29uO66XNaXJAGAy+kiGW4vnMmL78unHsHubhZEBo1viRbrLEkWApoFubOd53Vra4mzb57JY3cT+qmHc/rl3/z4fwgAePhz2TXtVz/225bs3ukNdV5quSW1SMUvJdUJw1t7aju6/dZv4uLyDRG4/9TReYIJVgj6YjXz0RxvbdX69Cf5aCvce/kIM+6jE7XtGrePgcduyjr4BytBxB1rIatols8NQM0IOAW/c28TDB9IFfod25rns6wMv/feD+DY8YPysAEr0xKnOvm3387l3p5/8XnsSp5FyXiRgKjCkhyp6eTWBc77vbWDCxcuFBdjjPgPfuMfAAD+4rOZZH/8Y5lkL52FxIwODotVGLIoHuDQppwnh932su3lSJCSTfCCkYBbNZbpBBNMsELQjxUvMlNQhuj+seg+x3uO7K8a2wJxtDCnry6bf5Ae9EnNftGZGmnE7KfntEBQaISrkJJ663kmPDfqMvqKUEOk2S86VvecvOIqAMDtt78LB46NxSdwu2w3O/WlbLd+a2cby2jqHiAPJ0giTxZSFoPN0JCtg7j8uqwS+vZTL+O1N14DAEt5B4sP//WP55znIkzEZCVdCsEVckrGbp49lmNceM/UKridj6SpkOxYOQyBktb2tahQ6QvZs32ZGrlcbOozS6ZE9MxvI6D7bz+i1zIBxhZVV3ux6oJztQu1Xk5JUvIrWY9GaEgTvFWm6GstoVvNw05ZEpGoA3peWWu8IO949y8BAK697irL9zgCr/44S8Nf/eqXAQDbwxK7WgTelHZdKlmCIVmH+wP52veezbrHd953FP/l7/1X+T5HPq0YQCyPzisfyY++PCfHSC5sVqvHJq0GPMoWpXo+pVeO7Befjcera8r0KRPJnmCloPfs7IhKUqEpSpSSMuGy4n0M85jKJtbnvLVHSYdTE6i5whQMtW6y1CDW7IQJQf7NXcNXGFYUfVs/y0bkFIFZn3+vreUg6TvvuR8AcPzEgb2UqgCAz3/qYQDA6+dzVOFyGBqM5IU9wZCzLui5+BaTt1/KL/rzP3oMf3L+/9C+AaU7WW3TrscuF2s1m96bRk6CCpc+AY3ylDlWbRG1qV3IsDbU20funzDkBCsKvS39EW2sg/1KS/gKrZbNosJ4IOM1qlQd/AJuK+g1qtsqXlp30AWgVUr5vUAFKr0/qt/kVSez4IIYsdZnNc/VJ3Lt51tuzWn2NvZIr3fudPbGeezRUwCApY47IHSOIea3diQKd1ErkaEKZrG/+40cFPaN7aeRauxjbqJOs2IULVTYLfl/gPJiQ4P4TD2VKRVKcqANDsv9EQEzQROJSd/kc7k2KhGxfEGB1h06zvc42dpr9kccZqUT9Zg8MXVDsOuVe1iZWrokxQFuHgrNQSruL99QniEKiFy9ao1dweb9DOvzTKrvuONOAMCVJ3P+RtpDwH7i1BP5+oEsGV99w40AgJ3dHSwGttQseFHFqBvv6PHcbvBp5Pgd8/mM27hoDs5uobW6D/4/VZIxgFOnPoMHP/xxPlWyPmU6Gfs2Jqm7OBvRHVYkPqeMLjcNoV0bfn3J74lkT7BS4Eh2m0LD/68ChuwoF2Rf5qcuW/FZ0AxFG3ZrSwUzE5+CkmAJOUgpWQEfh+4BCU2A3gdkVzm1TStHQKhVqQ4nYybld1nV0886rK9loebd73ofAODoZWOJHjNsnd/CY488AgDYXYp3RZ6FrguACkim55R3bh5mFzaHJqSrs1k+eeGtN5WtGNy81Iq/sbycj57KzsEf/vCv4xT/fuDDH8tPidAaYe4IRgJB2q6olQBCKZxAk0fZO9UDL5E+W2ZEzo+JYDRhyAlWCvrC3aPBGA5c8A+f0Dt9KTeB0qXLzhbXUtLd7kw1ek+Ds0dc3orL+8swAFBm7a0ay4FonNKDsdZ8Nsd11+SY6xuuvzGf29z7RU8+9lWcfjPnbbTCTzJPuXIDUGICTVgrAs/IICWK8K3zbyIlyxUu1yR/uKd47gAgY0Yg85AfejDXZox78PwFpJE1QcY7eqWcdd+olPynjs6+ET6I0/aEISdYKeh9plOrI1LuUP+fKjOTXdFYbUATOfnqCHUjnq+s30FOKpPdq+cSqUQqPIf34ol1W+4NS6cRqlPuiB14dzmgF+W0OujO8N535zCFy44zjzeSs+ets9nx9ouf+yvlHSWMVDNvBJ8sS/oTNPxVeNUutBhSzuxwoSbAhTBQRJLQhaH0fQSisx3nez704CcUy9amWMD5mBZSPPOLDvOamkfGIu9JmrgsOZWa3V5K9j5rSt8qefYAWbgqHdgljUQLQT+8xG9YYoHUkMhxMDbAnHWbV9rdTuW0N5NgUKiOCr1WrtAlVwcOIrr8spN41+13AACOXL53JddHv/AoAODVn/4E27t5QS6XVppXOsOh2hpHM+tMPxsKa1glHPLiu7B9wdVelO6TOvnWKqHW6lLPgwiR+b+lC35SgTP5TW5qPwHNC+lUSFY+hL9nDAAt3fhKkHMTyZ5gpaD3ovhehZOIr3tIMVhUmpyMsSCX+T4LaajDbYrIwkoZO3g1lMtwqyRDHYEzLGlkd7mMuIoQYtSwQDOGuFIk/FvI6F13fhBXnjyazx2s2wcuvJbzpnzhs18CAFzcHTSiUMq9lanvcvu7rKQaYjAF9Bg2S+WPc2+ew2I3t7s7iNuauZhZxVVRd5GqvpLWQXRhCjLvSXoXdXIH9fZx98n3iklj6M1rhzErkhbQ6qVuNpHeR/WRSLNYTBhygpWCwvj1NrlJvjk5rrfFrJpVv+D/SmZ2IMNcjZs9obHB7t8fj2EqgQp2LYymBTYIvOuPH85mvPvvvA9Hjs3Kzgksgce/nM2Eb7CqZ3e5zF49gDOfQY+xVg47nbbEe8fBRizIVYLDzr15FruMgRdSzQgZYwGl0CGTUGPeLhkm0uw6hUwgz/qnnBIewNeffBR3vv+DxcOmGaTST4GfNxNwfcmY1N4nui/CXov+ePLs4gR1FIy6/SqSrjkybd7JNmA3b8U1islJaCiOgHekQAOWGCtaw+K04aTsVB1B0EQHH7jnQwCAk4eOgn0rGtjZ2sWpR/4aALDQWJlYLEDABJIh11DO/ff6VkmTzfcvlhHri9yP3VzOEGfPZIeN5WLXhCBpH1ZjsrbnFx7jEruTImKShA7lpqHUA1zuw8qIRP3UX3siC293vf/D+MaT2XlEFqYl13flWJKk0vaxVyViism+50SyJ1gp6M0bo1U1jIGPox4VglRnyEdPIsf92YszhQWjQqjeYUTiPZLrUNDKr0bKbIeaLnMvixQRYXM9B1jf/UtZ97i+TqAaQ/Lm/8pjX8HLL78EIOswgeyEOwx+Tk2oickVFuCBdGRxPCIkLAdgwZjxtVdzhOFrP83uZ0OMLr7dUHHjoCtj9Oowhz7r4l5WiADN/GR9cP7v7vsfAgA8/eQjuPu+jBljMGGmfLIEsb0H64Yd6n5MMMEqgAo1pdLHxHG5ZiCqAPOa8c4boqAVK4smAHUtCD/qQx5NZcBNuV3ZJcF8xldqTxVJJESOTQiuQxYXLkwVWWZbvU/sywFXXJ7rEx45klU9/dVks8S3n3s9o69P/8XD2OKUKCJgDEPE0KToMKuJRm26RLHCxq+vbehc7LBBRlRIZ9/MYRA5W6553PDg8ddf+lcAgA8/9Bs8NBubDFPCCgiGvfX7OPmhFmpCMjuL8Lt3vv8hVdVIhTlzvE2mtXeZTDR4TDGjZAexsJIJQ06wUqAY0udgMoU08yUjJj/v0VFdKQ5enaDS8og6pk2NN5LXmlwgmuwozR3j+zPG28qlwXam8l2iZY9Y45R4R67czOdGJOx//Wd/CQD46es/Vbv1QtQujsez3jiViU6PaRBk7BJMFkCaCl08xS9uX+A2oknt3P/Pf/4v8dBHfhMA8MgjObBMMGWRYEq8c5zXVF0sdcwk6MEr1JsYAEGz0X0zp8+zrCdy9FI3e1npx/Hmb23DtIetq5brpFslFnTPbRTManmt0FWR2EPNBYvcNOVrxnGrACDXglUx1acSjebGtsVcmnsiCBe3s5PE5tEqdS2AH//wRQDAqVNZ3bG1u4vFIFaZ3MgyWhx0rT5LsNw18mEHN5EiUK3NA9YYVUiFsN0F0/Dk28/wKx/9LXzprzPJfrBaiA7PjC5Om5dWIPHCZC2sIo1ks3PsU10H0zvj2Br1fWQWAhNMsELQ+1W7V/7uMers/9W04ygFnNyu7ZQiYyoyZq3ZgwLD7lMhok5E1bt3F3i1ejZvdiHZxlQDGWu9+trLAICXX8nqnBveeT0iB2T9+f/zZwCANzjZk6/aGl3qkqHCyuY+Z3Z0Vbs4sndgMweT9YG0koNg0p3tnFMlRhM6tI0EfOgjvyEzU70bjdUkpTaCPZXoEH5icmqUUmWTkoWkjHkWqYDD/49hPp89OXQThpxgBaGXAKMiFpFBV3lKLmFpK6VQ8T9jLJeoMl8y/lI3FkFRXY0MCZYtYYyvqcUWH+eUXMesSI+okJKpTSqMuoiEi2wz/t/++f8CAPid/+jv4dmv53R6TzyVy8Gd3xF/x6XOixcY9rIvDCBTb/A9nevA+noWpAKAM+fzjW+dy5jx7Nk3+D2uSJL3P6zmRyC6+ZBujYYMu4+yXwmtp5/KOdLvvOdBE9ZqQTZZaK/lsCclYbV6ETBs23fBLTQX0F53xPrvPczLCLeswyp1mKNx2n4hjK0sZKFF3yQZ952Q0rQak5LDJiss9xbIC0AsOUvxmo5CugMucqmNb3/vewCAF/67/1H1d1usa9xZSkz1oO+QmpEJyen0ygETgiXmd1Yr8Q9Yn2eRPqwBczFsb2dh5hxnPEOKbufZi8xuXgsr+c32F0VUYO3xllPk18s74eknsw37zvseBAA88/VHcec9v8xXpWqv9CfCkuS7Igi6iGSNuA0Vp5iaCVYQ+u3tnE2dvAOtOLCKtaULmu5Dc28joJfwBBc4QxyTUmNIX99OSHcfCWJrLplqFO83L6GgN8baORhOjeDJkVgnVMUTXH9bSU3szjuszlnuWPJ9yektmfSSG9cSfnxV845tsCwf+RBdu6JzJAIOzXN/51x16dy5bMuOzm7tDddU4EI/JJdB15H4mnAVHoQjVO2u+zNm/MZTGVO+794PARUmbXSPMIEqC7zVvLsPJQLOhCEnWCnoJQUc4JSjNV8RB8S0rC4Fq8ig6hOyUATBQp0orkkV0Z3m0gaI2DohGEz84siV+1Rm2SwYag1hLO3tx1YxgCwjQpLuJF94omg/M2MZ/e0yDzdPydRUNVdKZAFc0haLb9pecUiKSaU/QzQl8pzDJpAAOsDv4FxDW1sXi3Hn+UADwWFBu2+Mr6xVO5cAvkF4yCJuvjLoFBjSUQcJbDP5ieeCSBspPMYl5kE76UlbE+QNh3Lr3Lgw4UQM7zGCeFEv+f6BEpImf88td70sTIvM0yqswdKryLXAG6qnoMnptfxF11nfuGM9gEE2SakeQAjBaRGEhCR06sJmukYZf+eEGXlRrduTjxJBaqmxFC9RXemWu1I+FqAT+fpz6TkA0CRVMVllLi+YNHKx2wtabdYPd4/Swikl1c9GUn9yd5+tAJNR9lnOikyKt+RLI3bliWRPsFLQuzTvo04UGZzmqNBDCtaU3RZsR5S3IJDFZYuLWkcR1JV7gkQNBdtVktydoss8nkos4btl1g+L6BMGYI06LajedSK8ZUJB/UzTmWiJDnJlQdQBmLvg41WcCqPGkFrbz+XgFD1tCITAEYinT2fBhQ5au/Sr+b5/8D/8fX6nBf57dy/VjFWCA6WETt8v/bZO1sgtEhzWb++XQYVEWDIGFQGTnEd1KG/nCFN5S0mF8j1COSaYYIVAbdm+DIcmovQcY+WmNFZOZDQzheweshs18o+oULQXrZEJOsm9rE1YJO9xahe3w726R4Zh0YCCVjjOeXeh2NDPi/CrtrFNBUZaVMnmQATFoLwvz12XFBtLLHjXWQz4v3v++wCA4WwCHc3tfur3s/38D7t/AQBYj53OmAhUwzAoahnUzs0YOCbLauFUZaqUroSgDgnRxW9Df9U8JFUo1/4N0fjohXg1kWG/vegwMGHICVYMessnE11oZga/kq0utUmVqV7PNKBe/2XyTeN5gGxuEzWOSlzCDO2xj8b6Jm1RhcmK/uvGJuMZpT8uWVbDR1Objkml55gUJakbf0oAsrlPjJ/iCUQdoWdZt3dYdL6WmdqvP53txD95/TcRWfvwe6/8z9yGaRyozx2QEJC+nymWr52DY4qq7F+yeW5IVosmVqmXEYEFf7MZ5Dmo5C3UaqClmQpF2uep23XO1SKn+1kVuUWIUXDv7+3jtcjSk+J6AVB5A3fIO9XKfYbOjd2m6ircIrLVVKfcqAdWvGcvgawyfscUNUZnvLFUXfNJrEo1V5G4qmirK06KPZcSIZiqMfcHCbu7Wdd45q1c5fWf/7N/io889CsAgEcfz87Ar3FZ40UcdP4svjwiscAVgtjsbfOTpjyR7pOqyyiW3z3FiJnc6Yqvi7p1kPQtgOmmRaeq6qjo4z73BnU/C8raTSR7gpUCuuN970tA3j3m0l8KMFkVwJfKx/lgtu+6OJIngaYMFgySSulIzvHR9PK2b2pMbpTGdllXYC4hx4aVNemR6sztmrAwA2xMTWhJ5VqXx2bjVaWTCmWsmA6dRfmpXGdqpZ75l7WOEHjMF8WmvmQ2x1l2lprIyzyARGAbWAUT46Dvilqiw/IxGicj34ZU5TVIBgt0NmbNvOHqH4rgwrHpFy5exCKWLERwwmFLH43dmjDkBCsF/Ux5DTQ8lZrsaDzxkzlm2sqvecgxKyqCSAChfWdtB74U7HO7V8YaIvZYeS8RaRyMhS+xS3tjqbRX/tWlK0SBXfJZrSIRCZTEZ1PMlWYCrR1oC/OfM7MC/GmaKD/jh+vsGikRhiHztF//Wk6kddc996tHkrf717b0pPcEkMRs75ODyYsgSW3ZrgxvPUA504GwrPNDuo+9H5oVNO1jdoIys2QOq3VS/exOXgwqjejDpK3OBe3owglB8xmqAFBMzN6zZN7QSUtmOG5i5HlZ+cZqhHrBp4RHHs+lij/8wY/x2JxkLImIASyq/shNCcn4FJmzGFAntC4FyMoKkhy7oiRVnJsJT3L12nvuyw64X//6V3A3O+PC6S3NwZYXtTjlhoA6sGisiIEn3VPU4QQrCXtXH3dQ4IG9LCX54p6UNldaLaKz+UKZL9FiwV1MtWIts023LzDsqTpTMmbZlzhztMA3v2fbe9iSqnMOQ+2huHz0K5/Hgw/8HQDAKcWUvwqZEdVXEllkpCBBV6wdKDFTplajUicKC5b+oOZGz17c//4HAABffepxAMA99/6y3e2+f6z8zoJzZbRal+3761n2bMuEISdYKaD77r4nAbzzJDyA+ZXgcnEPwms6vbFgFEsQRSOo0xTTXukNFJsXscrRRk7gKVTTFf9mPLOFNxRqdNPB8FjMadeEA8veERzPq+1XqinlUck/K5i+tdk6Iwge/8oXAAAPfvCj3H4buBaIAEmwVSmffToWPxej+clR8t0mj/jIwjJhaQ6pKFU2vnfSRkyezy4HmlLU/uwszCOoVx+D6tsRqdVGSXbhSCEML0knvfe2k6hTeS65l1TjgF+rvsxHHUtRCIzNyvVicyUwkF3zC70lx+0H9aSkJufudgduQVfdMAczNIuEAHzolz9qN3InmqVEQSVWM3malGvsx89O4IyVKZFEToMiC8ZYg6obPIR81qwySZ8zgVjatZfUuo3UoIYJJlgRkCgOTmtSsp0+UVBro7Zd5p0yLLKt2uGpzjAtYDHXuV3F421vXRs12kopubgc18+K7BMldQIOEo+tmJKcbGC9TC4P+0inig7lmqflHBS3VsJb1r+05LZO4G+cj+uXFyr2oEwexjBSw1egFUiIYM63eo/1UWdFKKojZPpJkkVcWpSIrZupGuwEKwl9dJgoVRp9L2cY/+d4SLsMIOM6jfirtugeypoRe7KzW2vfeutHpQsaY+a9VUYddFXmoAIjln309vNCNOIfFeYrlPfu/aIolqCwQX3TNOIyBEthY2EYNjYtyefGIvfvQWpK8PfId42+TVMx5WYNE0s3nnwiq33e//4PlAFZfJ/g517XibRP5vwsJHjphZ9qbF723GdIE0zwC4fer/umjgyD5xeLS1RjGFI+QRztB7s4Ik2SmhZNFePfWfULHluJJCg7HM09GZybwaIAABV4SURBVDtSec6/pUHbjo/ap8CSZ4EaqbxojudCXpcAdSx0fbA86O65vUiK70eN3UZvGpkY94859AoPl/DEE9lR+P77WUH+5OO4/74Him4Hp2DQZeMEdvXyCZb3p/YEs+BpqEOX8xg38BVW63GMzZMrvaRkUCfLddYWW9BBmRqpnNTge/W2Po7TbxUMsnMyALuTVYu/4Nd16GMfudywHSWIKaVwSFW1jJDifM+MfC5NtyC1v9Z+qi1XTsahWorYD7y6xVcPQ/vdgayu/cD9udzHE2zTvv/+Dzi2QmbVK4P8jsudNXu+OPtaEivb6jZGTRpw6RFNMMEvDnrBbp3DUeKEaYwmFUwvICpq3tkOVdep3HwYgmEiR4IrAaouJ9dArVUdVQ/JLc4i4ZFbpdaw/rtSJ/t4P42FS5BagmBkuSoG35NVUF1KjDdZy0Woxh4TMFZrmmhvS02Z2sW5hNX3F4Jg/ucD90u6PbuuoU8DGiHPiWSu2Xyt74KWTjHW0M2/kPjRUUwwwd8SSCadHPm1B9bxDKy3A5uKhx8D1HfQgoykSZMABsWGDuFVmNHv38KsWbsA8cHnK/dOpALax0TwZrh8Ti8WzL29c49X+1tUAaz5tRTzHjmQC23Pu4Ctnezp+NauJO9y6EEbc5plHRPppTr/UEqpxdqFgaJV0LcCkecDZYDeaVKuDzpeG7859+ZeBQTmm8Uu3nfB0hhKUluIvd4KkPZzXTiuWhMffYLz2vM3O4K1y8ccMqoBu1iTIuZFjl61p9eqReqFz1rCd/8GtO1Lu0MidLWO1Kz81o7zLLDNUgpIqXCMaCV0jc/hHThQ0ixtwS2qMe1Dk7/RX0P5LcaotfohEDlvf7fo6lLBxf4rBR7vYGJlW6yiWPP6kf6EEJp2ixtrq88EE6wC9N6TRm3BipmYCSVLKUesVwrJRSmqZaJ1vfJ6Qs3tKFYWMh0cHNYB8vvEFUksAYMjZana9Tkpizzrh1iS556oKDQuz8pRfg/Bajp2scSMNrio/6iOjVzFV373cpcD7hcRC8diaFsl9wEALlm83F9jVgMK1JBepUbuP4nLSYiq1vLxnAAsIhSw2Ce4mBv3ltpq5p0f5LsI6xYoYY0XwKJKH5BgboUThpxgpcBCGJy7vym3XeoNua3gX3g3CmsSnOKiYED4hHoHySXb7YI1Bct1Y5jA7aSm1B0ZhjR+S//oMQTLx218VCs0eb6RvMTi35ACGmaveKVgBK+Qrm8ah0a75frnwzGkX3Xl3pEyhTqnS//ufaw85vUzruqyfpSZQHIlCplHpp4xgtS1rB6dwYQhJ1gp6C2JqJeU+Ydivs4kV5VWXXio8Gegdks7wc6yO9gttTu7hkgkkw4FiOzGOnwzwMxy3hyqmMP745OZA8oXwDI6CL9F1GJG7Q/pQKk4X41F5szlNw+q+iDHU7v2g2Gn8gXeezvZNcVmzO+qxsYVwnTJRhsFe2Xq9S8leO9w818VjUqMsbjfzwZp9o6oFToGrqALF8ctabMthME7E9Tk1qkhPMlsMoVFI8t1pjOCZwmq96BcRPl/l0nNLw4dcrsQlGSP2eCD/ReqHecrUvnquECp39yPzI6SNKrv8VPqP1q52ZHSKCcgN+ln5xU/oG1Lyakn8Y4Epz3u1xvguC2YsBOq71r2X3aB/3Yi1LhUXXxfXXwgtz/BBCsEPVxkYZ1N1bAFGpRuxMqpAkK75AusOEIWPBkpnoNVRFBvokRqC1ZriziyxtaLJL+SsavbjkGTKFXYPDlbtqiyxpDiiIdUEVhmWU/4mqhszAGrh2EJIdm+WoKMXbCfH1vttJs9b6o8f06VJBhpIZIO6d1tFg6yAvHeJm3zYkkANccklSSb0Fk+S9dVLX/CNcAXnANzQESEYOAJJlgh6Av+olZ0Sn7wmvkXqLxmRr1gLtUBp1Cun1MMozxfaHSw1hWXBk95wpYRS+5dY7KK8mcOszcsXvtYMRdViLnDLtbHWEh4tVLbGNdQjzd5dY/1MdUYyd1v/RHFeFviDjpnzacoZQV9jEBMaWpT7AATeHyAe+IEWprhQrNrOVu21/yb3+cY0ymkw16u1pJKd1cMpmmh/LAqdVYz6d2ylAYSIATc9JTGZLd+q/axg5J/y72Y6g7lr13ALJFb4BmGQj/HZNZnUqmyUvkkW41jbEia+ll0dyGhIcsqeAUTeKLjn6RLalGT7rh8kiIEpeTrJZbjHbNDA26/KUZI+hZq5jOZrld3g9PisMVG8mIO0euhJ5hghaAIYWhJklcn8LGmlWiQyji4m7xFpXWIbQUf3TdOKDC1qAhFfhcLxrbBaIJ1ioohLd7HsEqtK+0oNmMec7cPin3cWB0mze27GuDinkVmuCjSYJHp+/y7zHpeCYxiO24wnDlGa31zGuniGB/SXCyH5BOD5XZFh+t6TFw6MNjakYhESfwf41JT6UwYcoKVgr4IjGoEBfnVMhbkMi74+4SfUMyr9bJbGyzBO/xW6g3nFBocFhzq6vVOYDDFKzfh+FATeFoM55XErRqkxf+9tp8U2y+dkGBYthxTjrxDcS4kG59P2iWZjTUorM7s4bpGyVRLAoaJkyab1W89widqLHkgG7vXHekYZExteIjntaU/mpEikPLZ6hMqZfyWtm56b1mp+6ndSnHku6Rm0XXJSWTVMY/TBpPbtQ9qkm9LHoLzSd8LpXuqalY3r1fM4H0OmqQDcEKW3OPG5As5A+z8KmPyWU2SXfdtZWVcKSAF3w8/xyac8iXrgyspaI+5xel/RKRGuOrcs7JgiFzcZKq/hSErOdUh6PYy9sIQlM2sE7wklpT1j92ckUsgfXYi2ROsFPSm1/MuZhm8H2vNBHtHh8KuLNiS75dWPWbymDhUJ711xpeq0DaoxDDekaGMxy4xno3TCQ7SB6ld6EI1PIkfTZKAjOlFIBHn4+Q6pQkC3P2WhMvPWTkXCU6lpn2U/001pewRYpOdUKAnYFHpXcPIjWP10/wcm2+Ce6BSMSW3DmqLV3CURqxr0p++65CWYj2bYIIVgj7QyN6o3MqCv+yYNbPymAWgUwygjQEo1RGCtYisNjOoxBxw3iHCe3QpKUZqbcyWlsXc8527l+PnLAKRLVFqVdA/JnQUGFWuCQ9sWETKfpdZZ2tsm9QyNUjZDpjw5p+SOuJDKvkznxxMMZ6LpLTybvYdxKVrWQgCgrkEyznFklIpE7YaQSg4sjlIv13f9C2GReWcVMuV+PU+BAxTabkJVhF6t5RNkqolTXgewrhD1aU6IVGwpZqylMcylYqYMAEXdqp8mkmENbdHMIxV78CSJTJuWHrrMZ1Ky/pO44887yhvVkpBJRokMrOiQKDSoOAhYTzMYsy306iDZ9pRpIyGowitvd3xc9I3x8iLdK3lZLw/Av/unceRmi5FS0AR6gxcOQXkOOuiWS7MxX2KJRbvQ1DVVJ8sc5F6S9eVgnOsTDniBHKCiiwYZ5eVIkAjTgoy0CW8rq4kIcHFq4jNM47E9nj1iTgsWDwHIQhZlvadI7KyB+oeNhIjDeu4LgRXznhsMY0vR+61fvhSOKuf87pRGZ++Xu6RyEjy+k2bq+YFDN7aYy+XcTjBTve67VR5T3RCpNFzswTVwltMXkgu3x4C0Id2nBNM8LcOmkG3S6lh5E2osVwQGreSLOZWGOmOqFUGaxvUKHQLOapKAZgAzGoBhow1rjGlV9R7u7iqgjSjVJsVwu9Yqo5e5NC7qr5eCoKOwzCNkd3xZ7SLlQXGK7U97JeKRs6pMOnjp5TSGEatjQleEDQDBqnBQm3kIyOo5xMAgibaYqEpDujYaXfCkBOsFPRrflkrb1qqcwIIVHmfeBB1S3B+drUJMcF2mapKHH6r44rhVDb6Hni/uRJLRddW8DxQE9DV2rDr4XsIDutTPbZLQH1Xcie92bIUCcaRpr82FpMeK0zaFpGqVVjVuxzLWQdyFY7OMu1ddAxl9WrHQ2oYjEtiqionoVpDUs8fi6mJlqbe9HJGY6vinoUk6T+USqxVfE2fTLr1Qagqldd18+A0+24+vENB7mstF1cfobIweM/y0QfqS9QWjRoFtyDqBVt4e8sGcg4PY62GERYGqGzxe/wGoMn1yT2ThnZD2bfj91JonGCympPZMs+mmfqheDe5Ei0+Vc6YM4uMsXZEmWCClYB+kMrMZMRMVDcqsiNiqHRTKBLKs5Wgi7qTeiUBtsPVm10DRYK5XqlA4tRQkNuMYR8PU6i8ZoorLSH2ghngMDCN7F7Xggljdk0wWXSYrK1Ay/dSGrUZj2GFWmgTX5zo+ujJ8l4YZnCYm5ztWepxizODjZEs1MVfa2h8QKoCfmw+g5FsqWJLxjIsNaqRHwgdokv4MMEEKwO9j8GpWSRVV8DteknRliKIynLbWSmzN58lbYhdu+ATQ4lVxp4rGPp9Ih3tOXkKBUpq1E6j2nB7d32bx1C1uoXcGMYw9pgaZGwEek7jG96eICUwZosXLB5T8ilL8rkoBgTv98nYOSVnRMiHLvgEt6USnuB8F5xQqadq7ykio8BzrZJlJHiI5YR2sDQowUwCqJ2WcuncasG4l6qjq79WSePqIDHidBABhDoDrc6FhVKaxN5+xGy9KclUzZTn4bUEvxWGRtr3fdNDSdpqaBa6azvtR8PGzKHqqV32CUARmtpI9u67mTCZygbcEzmU1oUnowyHFQSjmd+iPVtbglKCOrpMJHuClYLeJ6mvGWjb4TRCGm03eBevdseNECnFgi5wvmmVUGPIkkEooSgB4s+OYLGwR5Uu/7S3OHknE39fEQE42qe9eQEv+DR6RafP3bdal2+jOqd9ddjQhCvTW2r/pS3nXFE8NxKWWDtXK1UJFj2k6p9gVXIHYQ9I4mgAWQEThpxgpaAPqmFeqruMKU5rvYjVMPRBYb74kYjvymy6wB8BZUOpugDDKl4gKRJRqS9tiTGCs7jv5f4ljwt2aIO3vMBi6grrW/WL4JIqiSrDojEbaYnapDTB3SdTEUew5n72dv+7SRg2pr4qylmUfSSMYUhPaVoe3yo+uHHFUg21JJ84t7wWkdSiM2HICVYK+k53Nln2AF7BvdRXTtH87BqPmtZpNrfHu77OBFs9+3ZULx7GHXLz89ZUKyGbQn2suo470UjGhkkNY/A8JR9m0ba/Z+QVxuegGNse8+EdaIt31qbGS+QO3++6VejNEBzGTsnjTfnFvCFkHH58reQduYKSr00kd/c+Y2xZrMFpZFIw1zE3eT4jq1wLlRBD4mFefChrP1WRawbBNEiF7bWcBH3SBbh7lY19NGsgpJI8eL2kWTNMNTGSPx5AjjT0zIy2oS8rCbRfBP53TW4DWXL/Gsq4dUMY5ha2j37WN6qfTubMPqIuHFcKpK4Q7Cu+Ot2bNm4e6/mkd5vreU2Iw05OAMdjHx/2BBP87UBv8cEuE4UueL4WSLMTWAxJgs+mCmQXME2Tp+2aoGSykWf6a8FJUqW0zHg+j+q6kZdR13unyJWzoSI/iqGc8l6FFIdoagJcpp8RrGzKoJZstWgvFdmpXEu1sNdQBhS/UvXOvcW6bMvXMI/KsyfLNCXrFlOrUAOZzVvjq5XUkyP3fET7/Quzit43wQQrBD0pRjLsZ8y1wwVFhn05W6pPAvkVLhFX8r9JHcajGgYLGsEmu8zzqCNCUAXFHtZXeyWuw1bKBpX8lnM0UoyR3O+xLpivYyvA1HiFQmiwLFJqslSwogX+rOY3Sk7NUjCaZcv+aVMF+ReNSIV6qeT/QiArxMRNRFie8tpvNScFkzVh81jnRlKf2ZQQuWRhn4pFV5IWo0bO+VVPRjeB0nGAZMFKzTyf0rdpwwbo6w3m49L1wNiAumxHUeG0NtrDuUS5jTEkjWzPZ7R5wpg00bACTrCrx5T5870k2JYNSfBCm5Fdq+Bai1R7aVn3I9LWX/unFEiBdu6K+omVpFs4TfNFLxQL0dZsv14T0GyaZBV0LzmKCSb4BUIvHhqld4jsVDkTzaVer1k6NrENEyVLzRZLTAaMWB8AR/Oq2BcygcHlzW3wwFj7Ht/IK82hp9N3jSXFr23BlFKhw/R9TIAWKvc2+6buoHjgpNIdzI86P+r/KzGjYBBfmavGNHxD0dWUqFVvFQ9VM+pj3wXrJyp+S++WnszDOW8joSYdnkugsvvwX3HCkBOsFBRqn1qYsZQqCZZpwQkfTTXVhOSCi3wjRNCtUbgFptKHx2fcFRhLYlTHRo9ZjqRPxTGFRqWyH/s1dklbpFhkqq1vqLNTFOUWnUBVux1mQUocZkVtBj2m2vgAaMkNohZ7qrA64h1UW2B8FV6zeFkomk9AqnxuqxPydIvPmDqsyi8GcqkgewtXTEbWKnSeHSnEZchuavPsjCwiJ0w4n2F9ZyGF+14Ww2tBSYhYFfbpf9E8hYak7veeQLWMXUnDYl7tbOHXE15nCS5eRuWGy6eSi6aksQOA0g7U9LIQOqojteVJ9PlC52hfVnUr3hRcIwUvIOmjptOUDZmq+adkrjoTyZ5gpUCFGhBpsilVOemONqyilVmT7WJ5boCLLJQ2lFxkQgQYYxwIiLz3tDaSkLLk9JueG26Eq/xfzmAr/Res7xWLhgEMyYsO1CiBgGCEmRuPlLMwytCNBNPXNiSPVEZYiZyxHh6GVBI9/2xyAkZiW0nywlIqsU9ALQLJ7+pDuU7XzrulutMp+yr2wOQYY0MGJ5x11nEAXmxzaXwwwQQrBH0nZeQA1FyU/NdhQGwsL24POxtmp0JMtct82/6n6RP4ktmyJe6XNEuSZXxAgXlLoaZIpqSPOoxUpe0rxixOuy6jQ51yb9R9bh8oS3mU+HNU9eTataGI8cF5AjkLmfKyVXuRPKWRNvdS3BevVihLusirg1rvYhUUmGKEUQDtCbpYVnxdFrx12ccJJlgJ0MioT/6dj0KTl0qMNIch5NAEwRJ+DdfYKdjGkGSaIyhEM0fAXNcVQ3KsdwIBUcqS9dxWbIpSxgrj5O7LbradF5VvTZZXh88VYRmaMDW3lQsJlcpmJBubeayIP+TQ8GwW3+6SparWwrCgrzEthTKjJn5VEdWFYEhfXbt1MBa5BGD+OBZ8hzJwTe4f9Iqxu2ksPlfmJSWtuS0eQR2SZR7WdwlfbE30//BjvwIA+KMvfBGf/LWP8kBLKwuFpM6UhT6vmnmiiDSUpN2TO7vdFrK5gsm7XC7YJIsT9mTdD+MbMA61ysXc5nwSqOpupxoCQihVXjEKi+JJjCs8tA9QqGzTyfpmTsHJAu2r7idE/Ra6SGN3STJc9MGRyIZAjyTN6gGnsgG/O6iQJ0dh02IyfbQl1SdNbF/JlIBjCSaSPcFKwf8Lvc+072/NdBcAAAAASUVORK5CYII=\" y=\"-9.589844\"/>\r\n",
       "   </g>\r\n",
       "   <g id=\"matplotlib.axis_1\">\r\n",
       "    <g id=\"xtick_1\">\r\n",
       "     <g id=\"line2d_1\">\r\n",
       "      <defs>\r\n",
       "       <path d=\"M 0 0 \r\n",
       "L 0 3.5 \r\n",
       "\" id=\"mc210d11ebc\" style=\"stroke:#000000;stroke-width:0.8;\"/>\r\n",
       "      </defs>\r\n",
       "      <g>\r\n",
       "       <use style=\"stroke:#000000;stroke-width:0.8;\" x=\"34.136875\" xlink:href=\"#mc210d11ebc\" y=\"227.589844\"/>\r\n",
       "      </g>\r\n",
       "     </g>\r\n",
       "     <g id=\"text_1\">\r\n",
       "      <!-- 0 -->\r\n",
       "      <defs>\r\n",
       "       <path d=\"M 31.78125 66.40625 \r\n",
       "Q 24.171875 66.40625 20.328125 58.90625 \r\n",
       "Q 16.5 51.421875 16.5 36.375 \r\n",
       "Q 16.5 21.390625 20.328125 13.890625 \r\n",
       "Q 24.171875 6.390625 31.78125 6.390625 \r\n",
       "Q 39.453125 6.390625 43.28125 13.890625 \r\n",
       "Q 47.125 21.390625 47.125 36.375 \r\n",
       "Q 47.125 51.421875 43.28125 58.90625 \r\n",
       "Q 39.453125 66.40625 31.78125 66.40625 \r\n",
       "z\r\n",
       "M 31.78125 74.21875 \r\n",
       "Q 44.046875 74.21875 50.515625 64.515625 \r\n",
       "Q 56.984375 54.828125 56.984375 36.375 \r\n",
       "Q 56.984375 17.96875 50.515625 8.265625 \r\n",
       "Q 44.046875 -1.421875 31.78125 -1.421875 \r\n",
       "Q 19.53125 -1.421875 13.0625 8.265625 \r\n",
       "Q 6.59375 17.96875 6.59375 36.375 \r\n",
       "Q 6.59375 54.828125 13.0625 64.515625 \r\n",
       "Q 19.53125 74.21875 31.78125 74.21875 \r\n",
       "z\r\n",
       "\" id=\"DejaVuSans-48\"/>\r\n",
       "      </defs>\r\n",
       "      <g transform=\"translate(30.955625 242.188281)scale(0.1 -0.1)\">\r\n",
       "       <use xlink:href=\"#DejaVuSans-48\"/>\r\n",
       "      </g>\r\n",
       "     </g>\r\n",
       "    </g>\r\n",
       "    <g id=\"xtick_2\">\r\n",
       "     <g id=\"line2d_2\">\r\n",
       "      <g>\r\n",
       "       <use style=\"stroke:#000000;stroke-width:0.8;\" x=\"68.111875\" xlink:href=\"#mc210d11ebc\" y=\"227.589844\"/>\r\n",
       "      </g>\r\n",
       "     </g>\r\n",
       "     <g id=\"text_2\">\r\n",
       "      <!-- 20 -->\r\n",
       "      <defs>\r\n",
       "       <path d=\"M 19.1875 8.296875 \r\n",
       "L 53.609375 8.296875 \r\n",
       "L 53.609375 0 \r\n",
       "L 7.328125 0 \r\n",
       "L 7.328125 8.296875 \r\n",
       "Q 12.9375 14.109375 22.625 23.890625 \r\n",
       "Q 32.328125 33.6875 34.8125 36.53125 \r\n",
       "Q 39.546875 41.84375 41.421875 45.53125 \r\n",
       "Q 43.3125 49.21875 43.3125 52.78125 \r\n",
       "Q 43.3125 58.59375 39.234375 62.25 \r\n",
       "Q 35.15625 65.921875 28.609375 65.921875 \r\n",
       "Q 23.96875 65.921875 18.8125 64.3125 \r\n",
       "Q 13.671875 62.703125 7.8125 59.421875 \r\n",
       "L 7.8125 69.390625 \r\n",
       "Q 13.765625 71.78125 18.9375 73 \r\n",
       "Q 24.125 74.21875 28.421875 74.21875 \r\n",
       "Q 39.75 74.21875 46.484375 68.546875 \r\n",
       "Q 53.21875 62.890625 53.21875 53.421875 \r\n",
       "Q 53.21875 48.921875 51.53125 44.890625 \r\n",
       "Q 49.859375 40.875 45.40625 35.40625 \r\n",
       "Q 44.1875 33.984375 37.640625 27.21875 \r\n",
       "Q 31.109375 20.453125 19.1875 8.296875 \r\n",
       "z\r\n",
       "\" id=\"DejaVuSans-50\"/>\r\n",
       "      </defs>\r\n",
       "      <g transform=\"translate(61.749375 242.188281)scale(0.1 -0.1)\">\r\n",
       "       <use xlink:href=\"#DejaVuSans-50\"/>\r\n",
       "       <use x=\"63.623047\" xlink:href=\"#DejaVuSans-48\"/>\r\n",
       "      </g>\r\n",
       "     </g>\r\n",
       "    </g>\r\n",
       "    <g id=\"xtick_3\">\r\n",
       "     <g id=\"line2d_3\">\r\n",
       "      <g>\r\n",
       "       <use style=\"stroke:#000000;stroke-width:0.8;\" x=\"102.086875\" xlink:href=\"#mc210d11ebc\" y=\"227.589844\"/>\r\n",
       "      </g>\r\n",
       "     </g>\r\n",
       "     <g id=\"text_3\">\r\n",
       "      <!-- 40 -->\r\n",
       "      <defs>\r\n",
       "       <path d=\"M 37.796875 64.3125 \r\n",
       "L 12.890625 25.390625 \r\n",
       "L 37.796875 25.390625 \r\n",
       "z\r\n",
       "M 35.203125 72.90625 \r\n",
       "L 47.609375 72.90625 \r\n",
       "L 47.609375 25.390625 \r\n",
       "L 58.015625 25.390625 \r\n",
       "L 58.015625 17.1875 \r\n",
       "L 47.609375 17.1875 \r\n",
       "L 47.609375 0 \r\n",
       "L 37.796875 0 \r\n",
       "L 37.796875 17.1875 \r\n",
       "L 4.890625 17.1875 \r\n",
       "L 4.890625 26.703125 \r\n",
       "z\r\n",
       "\" id=\"DejaVuSans-52\"/>\r\n",
       "      </defs>\r\n",
       "      <g transform=\"translate(95.724375 242.188281)scale(0.1 -0.1)\">\r\n",
       "       <use xlink:href=\"#DejaVuSans-52\"/>\r\n",
       "       <use x=\"63.623047\" xlink:href=\"#DejaVuSans-48\"/>\r\n",
       "      </g>\r\n",
       "     </g>\r\n",
       "    </g>\r\n",
       "    <g id=\"xtick_4\">\r\n",
       "     <g id=\"line2d_4\">\r\n",
       "      <g>\r\n",
       "       <use style=\"stroke:#000000;stroke-width:0.8;\" x=\"136.061875\" xlink:href=\"#mc210d11ebc\" y=\"227.589844\"/>\r\n",
       "      </g>\r\n",
       "     </g>\r\n",
       "     <g id=\"text_4\">\r\n",
       "      <!-- 60 -->\r\n",
       "      <defs>\r\n",
       "       <path d=\"M 33.015625 40.375 \r\n",
       "Q 26.375 40.375 22.484375 35.828125 \r\n",
       "Q 18.609375 31.296875 18.609375 23.390625 \r\n",
       "Q 18.609375 15.53125 22.484375 10.953125 \r\n",
       "Q 26.375 6.390625 33.015625 6.390625 \r\n",
       "Q 39.65625 6.390625 43.53125 10.953125 \r\n",
       "Q 47.40625 15.53125 47.40625 23.390625 \r\n",
       "Q 47.40625 31.296875 43.53125 35.828125 \r\n",
       "Q 39.65625 40.375 33.015625 40.375 \r\n",
       "z\r\n",
       "M 52.59375 71.296875 \r\n",
       "L 52.59375 62.3125 \r\n",
       "Q 48.875 64.0625 45.09375 64.984375 \r\n",
       "Q 41.3125 65.921875 37.59375 65.921875 \r\n",
       "Q 27.828125 65.921875 22.671875 59.328125 \r\n",
       "Q 17.53125 52.734375 16.796875 39.40625 \r\n",
       "Q 19.671875 43.65625 24.015625 45.921875 \r\n",
       "Q 28.375 48.1875 33.59375 48.1875 \r\n",
       "Q 44.578125 48.1875 50.953125 41.515625 \r\n",
       "Q 57.328125 34.859375 57.328125 23.390625 \r\n",
       "Q 57.328125 12.15625 50.6875 5.359375 \r\n",
       "Q 44.046875 -1.421875 33.015625 -1.421875 \r\n",
       "Q 20.359375 -1.421875 13.671875 8.265625 \r\n",
       "Q 6.984375 17.96875 6.984375 36.375 \r\n",
       "Q 6.984375 53.65625 15.1875 63.9375 \r\n",
       "Q 23.390625 74.21875 37.203125 74.21875 \r\n",
       "Q 40.921875 74.21875 44.703125 73.484375 \r\n",
       "Q 48.484375 72.75 52.59375 71.296875 \r\n",
       "z\r\n",
       "\" id=\"DejaVuSans-54\"/>\r\n",
       "      </defs>\r\n",
       "      <g transform=\"translate(129.699375 242.188281)scale(0.1 -0.1)\">\r\n",
       "       <use xlink:href=\"#DejaVuSans-54\"/>\r\n",
       "       <use x=\"63.623047\" xlink:href=\"#DejaVuSans-48\"/>\r\n",
       "      </g>\r\n",
       "     </g>\r\n",
       "    </g>\r\n",
       "    <g id=\"xtick_5\">\r\n",
       "     <g id=\"line2d_5\">\r\n",
       "      <g>\r\n",
       "       <use style=\"stroke:#000000;stroke-width:0.8;\" x=\"170.036875\" xlink:href=\"#mc210d11ebc\" y=\"227.589844\"/>\r\n",
       "      </g>\r\n",
       "     </g>\r\n",
       "     <g id=\"text_5\">\r\n",
       "      <!-- 80 -->\r\n",
       "      <defs>\r\n",
       "       <path d=\"M 31.78125 34.625 \r\n",
       "Q 24.75 34.625 20.71875 30.859375 \r\n",
       "Q 16.703125 27.09375 16.703125 20.515625 \r\n",
       "Q 16.703125 13.921875 20.71875 10.15625 \r\n",
       "Q 24.75 6.390625 31.78125 6.390625 \r\n",
       "Q 38.8125 6.390625 42.859375 10.171875 \r\n",
       "Q 46.921875 13.96875 46.921875 20.515625 \r\n",
       "Q 46.921875 27.09375 42.890625 30.859375 \r\n",
       "Q 38.875 34.625 31.78125 34.625 \r\n",
       "z\r\n",
       "M 21.921875 38.8125 \r\n",
       "Q 15.578125 40.375 12.03125 44.71875 \r\n",
       "Q 8.5 49.078125 8.5 55.328125 \r\n",
       "Q 8.5 64.0625 14.71875 69.140625 \r\n",
       "Q 20.953125 74.21875 31.78125 74.21875 \r\n",
       "Q 42.671875 74.21875 48.875 69.140625 \r\n",
       "Q 55.078125 64.0625 55.078125 55.328125 \r\n",
       "Q 55.078125 49.078125 51.53125 44.71875 \r\n",
       "Q 48 40.375 41.703125 38.8125 \r\n",
       "Q 48.828125 37.15625 52.796875 32.3125 \r\n",
       "Q 56.78125 27.484375 56.78125 20.515625 \r\n",
       "Q 56.78125 9.90625 50.3125 4.234375 \r\n",
       "Q 43.84375 -1.421875 31.78125 -1.421875 \r\n",
       "Q 19.734375 -1.421875 13.25 4.234375 \r\n",
       "Q 6.78125 9.90625 6.78125 20.515625 \r\n",
       "Q 6.78125 27.484375 10.78125 32.3125 \r\n",
       "Q 14.796875 37.15625 21.921875 38.8125 \r\n",
       "z\r\n",
       "M 18.3125 54.390625 \r\n",
       "Q 18.3125 48.734375 21.84375 45.5625 \r\n",
       "Q 25.390625 42.390625 31.78125 42.390625 \r\n",
       "Q 38.140625 42.390625 41.71875 45.5625 \r\n",
       "Q 45.3125 48.734375 45.3125 54.390625 \r\n",
       "Q 45.3125 60.0625 41.71875 63.234375 \r\n",
       "Q 38.140625 66.40625 31.78125 66.40625 \r\n",
       "Q 25.390625 66.40625 21.84375 63.234375 \r\n",
       "Q 18.3125 60.0625 18.3125 54.390625 \r\n",
       "z\r\n",
       "\" id=\"DejaVuSans-56\"/>\r\n",
       "      </defs>\r\n",
       "      <g transform=\"translate(163.674375 242.188281)scale(0.1 -0.1)\">\r\n",
       "       <use xlink:href=\"#DejaVuSans-56\"/>\r\n",
       "       <use x=\"63.623047\" xlink:href=\"#DejaVuSans-48\"/>\r\n",
       "      </g>\r\n",
       "     </g>\r\n",
       "    </g>\r\n",
       "   </g>\r\n",
       "   <g id=\"matplotlib.axis_2\">\r\n",
       "    <g id=\"ytick_1\">\r\n",
       "     <g id=\"line2d_6\">\r\n",
       "      <defs>\r\n",
       "       <path d=\"M 0 0 \r\n",
       "L -3.5 0 \r\n",
       "\" id=\"m40cc4955ac\" style=\"stroke:#000000;stroke-width:0.8;\"/>\r\n",
       "      </defs>\r\n",
       "      <g>\r\n",
       "       <use style=\"stroke:#000000;stroke-width:0.8;\" x=\"33.2875\" xlink:href=\"#m40cc4955ac\" y=\"10.999219\"/>\r\n",
       "      </g>\r\n",
       "     </g>\r\n",
       "     <g id=\"text_6\">\r\n",
       "      <!-- 0 -->\r\n",
       "      <g transform=\"translate(19.925 14.798438)scale(0.1 -0.1)\">\r\n",
       "       <use xlink:href=\"#DejaVuSans-48\"/>\r\n",
       "      </g>\r\n",
       "     </g>\r\n",
       "    </g>\r\n",
       "    <g id=\"ytick_2\">\r\n",
       "     <g id=\"line2d_7\">\r\n",
       "      <g>\r\n",
       "       <use style=\"stroke:#000000;stroke-width:0.8;\" x=\"33.2875\" xlink:href=\"#m40cc4955ac\" y=\"44.974219\"/>\r\n",
       "      </g>\r\n",
       "     </g>\r\n",
       "     <g id=\"text_7\">\r\n",
       "      <!-- 20 -->\r\n",
       "      <g transform=\"translate(13.5625 48.773438)scale(0.1 -0.1)\">\r\n",
       "       <use xlink:href=\"#DejaVuSans-50\"/>\r\n",
       "       <use x=\"63.623047\" xlink:href=\"#DejaVuSans-48\"/>\r\n",
       "      </g>\r\n",
       "     </g>\r\n",
       "    </g>\r\n",
       "    <g id=\"ytick_3\">\r\n",
       "     <g id=\"line2d_8\">\r\n",
       "      <g>\r\n",
       "       <use style=\"stroke:#000000;stroke-width:0.8;\" x=\"33.2875\" xlink:href=\"#m40cc4955ac\" y=\"78.949219\"/>\r\n",
       "      </g>\r\n",
       "     </g>\r\n",
       "     <g id=\"text_8\">\r\n",
       "      <!-- 40 -->\r\n",
       "      <g transform=\"translate(13.5625 82.748437)scale(0.1 -0.1)\">\r\n",
       "       <use xlink:href=\"#DejaVuSans-52\"/>\r\n",
       "       <use x=\"63.623047\" xlink:href=\"#DejaVuSans-48\"/>\r\n",
       "      </g>\r\n",
       "     </g>\r\n",
       "    </g>\r\n",
       "    <g id=\"ytick_4\">\r\n",
       "     <g id=\"line2d_9\">\r\n",
       "      <g>\r\n",
       "       <use style=\"stroke:#000000;stroke-width:0.8;\" x=\"33.2875\" xlink:href=\"#m40cc4955ac\" y=\"112.924219\"/>\r\n",
       "      </g>\r\n",
       "     </g>\r\n",
       "     <g id=\"text_9\">\r\n",
       "      <!-- 60 -->\r\n",
       "      <g transform=\"translate(13.5625 116.723438)scale(0.1 -0.1)\">\r\n",
       "       <use xlink:href=\"#DejaVuSans-54\"/>\r\n",
       "       <use x=\"63.623047\" xlink:href=\"#DejaVuSans-48\"/>\r\n",
       "      </g>\r\n",
       "     </g>\r\n",
       "    </g>\r\n",
       "    <g id=\"ytick_5\">\r\n",
       "     <g id=\"line2d_10\">\r\n",
       "      <g>\r\n",
       "       <use style=\"stroke:#000000;stroke-width:0.8;\" x=\"33.2875\" xlink:href=\"#m40cc4955ac\" y=\"146.899219\"/>\r\n",
       "      </g>\r\n",
       "     </g>\r\n",
       "     <g id=\"text_10\">\r\n",
       "      <!-- 80 -->\r\n",
       "      <g transform=\"translate(13.5625 150.698438)scale(0.1 -0.1)\">\r\n",
       "       <use xlink:href=\"#DejaVuSans-56\"/>\r\n",
       "       <use x=\"63.623047\" xlink:href=\"#DejaVuSans-48\"/>\r\n",
       "      </g>\r\n",
       "     </g>\r\n",
       "    </g>\r\n",
       "    <g id=\"ytick_6\">\r\n",
       "     <g id=\"line2d_11\">\r\n",
       "      <g>\r\n",
       "       <use style=\"stroke:#000000;stroke-width:0.8;\" x=\"33.2875\" xlink:href=\"#m40cc4955ac\" y=\"180.874219\"/>\r\n",
       "      </g>\r\n",
       "     </g>\r\n",
       "     <g id=\"text_11\">\r\n",
       "      <!-- 100 -->\r\n",
       "      <defs>\r\n",
       "       <path d=\"M 12.40625 8.296875 \r\n",
       "L 28.515625 8.296875 \r\n",
       "L 28.515625 63.921875 \r\n",
       "L 10.984375 60.40625 \r\n",
       "L 10.984375 69.390625 \r\n",
       "L 28.421875 72.90625 \r\n",
       "L 38.28125 72.90625 \r\n",
       "L 38.28125 8.296875 \r\n",
       "L 54.390625 8.296875 \r\n",
       "L 54.390625 0 \r\n",
       "L 12.40625 0 \r\n",
       "z\r\n",
       "\" id=\"DejaVuSans-49\"/>\r\n",
       "      </defs>\r\n",
       "      <g transform=\"translate(7.2 184.673438)scale(0.1 -0.1)\">\r\n",
       "       <use xlink:href=\"#DejaVuSans-49\"/>\r\n",
       "       <use x=\"63.623047\" xlink:href=\"#DejaVuSans-48\"/>\r\n",
       "       <use x=\"127.246094\" xlink:href=\"#DejaVuSans-48\"/>\r\n",
       "      </g>\r\n",
       "     </g>\r\n",
       "    </g>\r\n",
       "    <g id=\"ytick_7\">\r\n",
       "     <g id=\"line2d_12\">\r\n",
       "      <g>\r\n",
       "       <use style=\"stroke:#000000;stroke-width:0.8;\" x=\"33.2875\" xlink:href=\"#m40cc4955ac\" y=\"214.849219\"/>\r\n",
       "      </g>\r\n",
       "     </g>\r\n",
       "     <g id=\"text_12\">\r\n",
       "      <!-- 120 -->\r\n",
       "      <g transform=\"translate(7.2 218.648438)scale(0.1 -0.1)\">\r\n",
       "       <use xlink:href=\"#DejaVuSans-49\"/>\r\n",
       "       <use x=\"63.623047\" xlink:href=\"#DejaVuSans-50\"/>\r\n",
       "       <use x=\"127.246094\" xlink:href=\"#DejaVuSans-48\"/>\r\n",
       "      </g>\r\n",
       "     </g>\r\n",
       "    </g>\r\n",
       "   </g>\r\n",
       "   <g id=\"patch_3\">\r\n",
       "    <path d=\"M 33.2875 227.589844 \r\n",
       "L 33.2875 10.149844 \r\n",
       "\" style=\"fill:none;stroke:#000000;stroke-linecap:square;stroke-linejoin:miter;stroke-width:0.8;\"/>\r\n",
       "   </g>\r\n",
       "   <g id=\"patch_4\">\r\n",
       "    <path d=\"M 196.3675 227.589844 \r\n",
       "L 196.3675 10.149844 \r\n",
       "\" style=\"fill:none;stroke:#000000;stroke-linecap:square;stroke-linejoin:miter;stroke-width:0.8;\"/>\r\n",
       "   </g>\r\n",
       "   <g id=\"patch_5\">\r\n",
       "    <path d=\"M 33.2875 227.589844 \r\n",
       "L 196.3675 227.589844 \r\n",
       "\" style=\"fill:none;stroke:#000000;stroke-linecap:square;stroke-linejoin:miter;stroke-width:0.8;\"/>\r\n",
       "   </g>\r\n",
       "   <g id=\"patch_6\">\r\n",
       "    <path d=\"M 33.2875 10.149844 \r\n",
       "L 196.3675 10.149844 \r\n",
       "\" style=\"fill:none;stroke:#000000;stroke-linecap:square;stroke-linejoin:miter;stroke-width:0.8;\"/>\r\n",
       "   </g>\r\n",
       "  </g>\r\n",
       " </g>\r\n",
       " <defs>\r\n",
       "  <clipPath id=\"p42253493f1\">\r\n",
       "   <rect height=\"217.44\" width=\"163.08\" x=\"33.2875\" y=\"10.149844\"/>\r\n",
       "  </clipPath>\r\n",
       " </defs>\r\n",
       "</svg>\r\n"
      ],
      "text/plain": [
       "<Figure size 432x288 with 1 Axes>"
      ]
     },
     "metadata": {
      "needs_background": "light"
     },
     "output_type": "display_data"
    }
   ],
   "source": [
    "# Show random frame with landmarks\n",
    "import random \n",
    "m = X_train.shape[0] # Num samples\n",
    "rand_i = random.choice(range(0, m-1))\n",
    "\n",
    "random_frame = X_train[rand_i]\n",
    "random_landmark = Y_train[rand_i]\n",
    "\n",
    "displayFrame(random_frame, random_landmark)"
   ]
  },
  {
   "cell_type": "code",
   "execution_count": 26,
   "metadata": {},
   "outputs": [
    {
     "data": {
      "text/plain": [
       "0.0"
      ]
     },
     "execution_count": 26,
     "metadata": {},
     "output_type": "execute_result"
    }
   ],
   "source": [
    "np.min(X_train)"
   ]
  },
  {
   "cell_type": "code",
   "execution_count": 7,
   "metadata": {},
   "outputs": [],
   "source": [
    "#"
   ]
  },
  {
   "cell_type": "code",
   "execution_count": 6,
   "metadata": {},
   "outputs": [],
   "source": [
    "# Prepare model\n",
    "epochs = 100\n",
    "batch_size = 64\n",
    "checkpoint_file = 'checkpoint.hdf5'\n",
    "model_file_name = 'model.h5'"
   ]
  },
  {
   "cell_type": "code",
   "execution_count": 8,
   "metadata": {},
   "outputs": [],
   "source": [
    "#"
   ]
  },
  {
   "cell_type": "code",
   "execution_count": 12,
   "metadata": {
    "tags": [
     "outputPrepend",
     "outputPrepend",
     "outputPrepend",
     "outputPrepend",
     "outputPrepend",
     "outputPrepend",
     "outputPrepend",
     "outputPrepend",
     "outputPrepend",
     "outputPrepend",
     "outputPrepend",
     "outputPrepend",
     "outputPrepend",
     "outputPrepend",
     "outputPrepend",
     "outputPrepend",
     "outputPrepend",
     "outputPrepend",
     "outputPrepend",
     "outputPrepend",
     "outputPrepend",
     "outputPrepend"
    ]
   },
   "outputs": [
    {
     "name": "stdout",
     "output_type": "stream",
     "text": [
      "Epoch 1/100\n",
      "149/150 [============================>.] - ETA: 0s - loss: 10.8499 - accuracy: 0.7542\n",
      "Epoch 00001: val_loss improved from inf to 2.02012, saving model to checkpoint.hdf5\n",
      "150/150 [==============================] - 8s 50ms/step - loss: 10.8408 - accuracy: 0.7542 - val_loss: 2.0201 - val_accuracy: 0.9133\n",
      "Epoch 2/100\n",
      "149/150 [============================>.] - ETA: 0s - loss: 10.4582 - accuracy: 0.7473\n",
      "Epoch 00002: val_loss did not improve from 2.02012\n",
      "150/150 [==============================] - 7s 47ms/step - loss: 10.4730 - accuracy: 0.7472 - val_loss: 2.2006 - val_accuracy: 0.9175\n",
      "Epoch 3/100\n",
      "149/150 [============================>.] - ETA: 0s - loss: 10.1943 - accuracy: 0.7517\n",
      "Epoch 00003: val_loss did not improve from 2.02012\n",
      "150/150 [==============================] - 7s 47ms/step - loss: 10.1976 - accuracy: 0.7521 - val_loss: 2.2222 - val_accuracy: 0.9204\n",
      "Epoch 4/100\n",
      "149/150 [============================>.] - ETA: 0s - loss: 10.3180 - accuracy: 0.7485\n",
      "Epoch 00004: val_loss did not improve from 2.02012\n",
      "150/150 [==============================] - 7s 47ms/step - loss: 10.3106 - accuracy: 0.7487 - val_loss: 2.2457 - val_accuracy: 0.9400\n",
      "Epoch 5/100\n",
      "149/150 [============================>.] - ETA: 0s - loss: 10.1252 - accuracy: 0.7517\n",
      "Epoch 00005: val_loss did not improve from 2.02012\n",
      "150/150 [==============================] - 7s 47ms/step - loss: 10.1220 - accuracy: 0.7520 - val_loss: 2.1059 - val_accuracy: 0.9162\n",
      "Epoch 6/100\n",
      "149/150 [============================>.] - ETA: 0s - loss: 10.3583 - accuracy: 0.7450\n",
      "Epoch 00006: val_loss improved from 2.02012 to 1.88901, saving model to checkpoint.hdf5\n",
      "150/150 [==============================] - 7s 47ms/step - loss: 10.3538 - accuracy: 0.7448 - val_loss: 1.8890 - val_accuracy: 0.9187\n",
      "Epoch 7/100\n",
      "149/150 [============================>.] - ETA: 0s - loss: 10.3832 - accuracy: 0.7438\n",
      "Epoch 00007: val_loss did not improve from 1.88901\n",
      "150/150 [==============================] - 7s 47ms/step - loss: 10.4146 - accuracy: 0.7435 - val_loss: 2.3124 - val_accuracy: 0.9271\n",
      "Epoch 8/100\n",
      "149/150 [============================>.] - ETA: 0s - loss: 10.3372 - accuracy: 0.7456\n",
      "Epoch 00008: val_loss did not improve from 1.88901\n",
      "150/150 [==============================] - 7s 46ms/step - loss: 10.3400 - accuracy: 0.7457 - val_loss: 2.0125 - val_accuracy: 0.9254\n",
      "Epoch 9/100\n",
      "150/150 [==============================] - ETA: 0s - loss: 10.3023 - accuracy: 0.7502\n",
      "Epoch 00009: val_loss did not improve from 1.88901\n",
      "150/150 [==============================] - 35s 236ms/step - loss: 10.3023 - accuracy: 0.7502 - val_loss: 2.3276 - val_accuracy: 0.9250\n",
      "Epoch 10/100\n",
      "150/150 [==============================] - ETA: 0s - loss: 10.3321 - accuracy: 0.7511\n",
      "Epoch 00010: val_loss did not improve from 1.88901\n",
      "150/150 [==============================] - 34s 227ms/step - loss: 10.3321 - accuracy: 0.7511 - val_loss: 2.6632 - val_accuracy: 0.9317\n",
      "Epoch 11/100\n",
      "150/150 [==============================] - ETA: 0s - loss: 10.2583 - accuracy: 0.7481\n",
      "Epoch 00011: val_loss did not improve from 1.88901\n",
      "150/150 [==============================] - 35s 232ms/step - loss: 10.2583 - accuracy: 0.7481 - val_loss: 1.9986 - val_accuracy: 0.9358\n",
      "Epoch 12/100\n",
      "150/150 [==============================] - ETA: 0s - loss: 10.3677 - accuracy: 0.7458\n",
      "Epoch 00012: val_loss did not improve from 1.88901\n",
      "150/150 [==============================] - 35s 230ms/step - loss: 10.3677 - accuracy: 0.7458 - val_loss: 2.3360 - val_accuracy: 0.8879\n",
      "Epoch 13/100\n",
      "150/150 [==============================] - ETA: 0s - loss: 10.4043 - accuracy: 0.7517\n",
      "Epoch 00013: val_loss did not improve from 1.88901\n",
      "150/150 [==============================] - 36s 239ms/step - loss: 10.4043 - accuracy: 0.7517 - val_loss: 2.1765 - val_accuracy: 0.9221\n",
      "Epoch 14/100\n",
      "150/150 [==============================] - ETA: 0s - loss: 10.2614 - accuracy: 0.7520\n",
      "Epoch 00014: val_loss did not improve from 1.88901\n",
      "150/150 [==============================] - 38s 250ms/step - loss: 10.2614 - accuracy: 0.7520 - val_loss: 3.0069 - val_accuracy: 0.9087\n",
      "Epoch 15/100\n",
      " 36/150 [======>.......................] - ETA: 27s - loss: 10.5805 - accuracy: 0.7474"
     ]
    },
    {
     "ename": "KeyboardInterrupt",
     "evalue": "",
     "output_type": "error",
     "traceback": [
      "\u001b[1;31m---------------------------------------------------------------------------\u001b[0m",
      "\u001b[1;31mKeyboardInterrupt\u001b[0m                         Traceback (most recent call last)",
      "\u001b[1;32m<ipython-input-12-5e596c2cb0a6>\u001b[0m in \u001b[0;36m<module>\u001b[1;34m\u001b[0m\n\u001b[0;32m      6\u001b[0m \u001b[0mmodel\u001b[0m\u001b[1;33m.\u001b[0m\u001b[0mcompile\u001b[0m\u001b[1;33m(\u001b[0m\u001b[0moptimizer\u001b[0m\u001b[1;33m=\u001b[0m\u001b[1;34m'adam'\u001b[0m\u001b[1;33m,\u001b[0m \u001b[0mloss\u001b[0m\u001b[1;33m=\u001b[0m\u001b[1;34m'mean_squared_error'\u001b[0m\u001b[1;33m,\u001b[0m \u001b[0mmetrics\u001b[0m\u001b[1;33m=\u001b[0m\u001b[1;33m[\u001b[0m\u001b[1;34m'accuracy'\u001b[0m\u001b[1;33m]\u001b[0m\u001b[1;33m)\u001b[0m\u001b[1;33m\u001b[0m\u001b[1;33m\u001b[0m\u001b[0m\n\u001b[0;32m      7\u001b[0m \u001b[1;31m# model_fit = model.fit(X_train, Y_train, validation_split=0.2, epochs=epochs, batch_size=batch_size, callbacks=[checkpointer, hist], verbose=1)\u001b[0m\u001b[1;33m\u001b[0m\u001b[1;33m\u001b[0m\u001b[1;33m\u001b[0m\u001b[0m\n\u001b[1;32m----> 8\u001b[1;33m \u001b[0mmodel_fit\u001b[0m \u001b[1;33m=\u001b[0m \u001b[0mmodel\u001b[0m\u001b[1;33m.\u001b[0m\u001b[0mfit\u001b[0m\u001b[1;33m(\u001b[0m\u001b[0mX_train\u001b[0m\u001b[1;33m,\u001b[0m \u001b[0mY_train\u001b[0m\u001b[1;33m,\u001b[0m\u001b[0mvalidation_data\u001b[0m \u001b[1;33m=\u001b[0m \u001b[1;33m(\u001b[0m\u001b[0mX_test\u001b[0m\u001b[1;33m,\u001b[0m \u001b[0mY_test\u001b[0m\u001b[1;33m)\u001b[0m\u001b[1;33m,\u001b[0m \u001b[0mepochs\u001b[0m\u001b[1;33m=\u001b[0m\u001b[0mepochs\u001b[0m\u001b[1;33m,\u001b[0m \u001b[0mbatch_size\u001b[0m\u001b[1;33m=\u001b[0m\u001b[0mbatch_size\u001b[0m\u001b[1;33m,\u001b[0m \u001b[0mcallbacks\u001b[0m\u001b[1;33m=\u001b[0m\u001b[1;33m[\u001b[0m\u001b[0mcheckpointer\u001b[0m\u001b[1;33m,\u001b[0m \u001b[0mhist\u001b[0m\u001b[1;33m]\u001b[0m\u001b[1;33m,\u001b[0m \u001b[0mverbose\u001b[0m\u001b[1;33m=\u001b[0m\u001b[1;36m1\u001b[0m\u001b[1;33m)\u001b[0m\u001b[1;33m\u001b[0m\u001b[1;33m\u001b[0m\u001b[0m\n\u001b[0m\u001b[0;32m      9\u001b[0m \u001b[1;33m\u001b[0m\u001b[0m\n\u001b[0;32m     10\u001b[0m \u001b[0mmodel\u001b[0m\u001b[1;33m.\u001b[0m\u001b[0msave\u001b[0m\u001b[1;33m(\u001b[0m\u001b[0mmodel_file_name\u001b[0m\u001b[1;33m)\u001b[0m\u001b[1;33m\u001b[0m\u001b[1;33m\u001b[0m\u001b[0m\n",
      "\u001b[1;32m~\\anaconda3\\envs\\IIS\\lib\\site-packages\\tensorflow\\python\\keras\\engine\\training.py\u001b[0m in \u001b[0;36m_method_wrapper\u001b[1;34m(self, *args, **kwargs)\u001b[0m\n\u001b[0;32m     64\u001b[0m   \u001b[1;32mdef\u001b[0m \u001b[0m_method_wrapper\u001b[0m\u001b[1;33m(\u001b[0m\u001b[0mself\u001b[0m\u001b[1;33m,\u001b[0m \u001b[1;33m*\u001b[0m\u001b[0margs\u001b[0m\u001b[1;33m,\u001b[0m \u001b[1;33m**\u001b[0m\u001b[0mkwargs\u001b[0m\u001b[1;33m)\u001b[0m\u001b[1;33m:\u001b[0m\u001b[1;33m\u001b[0m\u001b[1;33m\u001b[0m\u001b[0m\n\u001b[0;32m     65\u001b[0m     \u001b[1;32mif\u001b[0m \u001b[1;32mnot\u001b[0m \u001b[0mself\u001b[0m\u001b[1;33m.\u001b[0m\u001b[0m_in_multi_worker_mode\u001b[0m\u001b[1;33m(\u001b[0m\u001b[1;33m)\u001b[0m\u001b[1;33m:\u001b[0m  \u001b[1;31m# pylint: disable=protected-access\u001b[0m\u001b[1;33m\u001b[0m\u001b[1;33m\u001b[0m\u001b[0m\n\u001b[1;32m---> 66\u001b[1;33m       \u001b[1;32mreturn\u001b[0m \u001b[0mmethod\u001b[0m\u001b[1;33m(\u001b[0m\u001b[0mself\u001b[0m\u001b[1;33m,\u001b[0m \u001b[1;33m*\u001b[0m\u001b[0margs\u001b[0m\u001b[1;33m,\u001b[0m \u001b[1;33m**\u001b[0m\u001b[0mkwargs\u001b[0m\u001b[1;33m)\u001b[0m\u001b[1;33m\u001b[0m\u001b[1;33m\u001b[0m\u001b[0m\n\u001b[0m\u001b[0;32m     67\u001b[0m \u001b[1;33m\u001b[0m\u001b[0m\n\u001b[0;32m     68\u001b[0m     \u001b[1;31m# Running inside `run_distribute_coordinator` already.\u001b[0m\u001b[1;33m\u001b[0m\u001b[1;33m\u001b[0m\u001b[1;33m\u001b[0m\u001b[0m\n",
      "\u001b[1;32m~\\anaconda3\\envs\\IIS\\lib\\site-packages\\tensorflow\\python\\keras\\engine\\training.py\u001b[0m in \u001b[0;36mfit\u001b[1;34m(self, x, y, batch_size, epochs, verbose, callbacks, validation_split, validation_data, shuffle, class_weight, sample_weight, initial_epoch, steps_per_epoch, validation_steps, validation_batch_size, validation_freq, max_queue_size, workers, use_multiprocessing)\u001b[0m\n\u001b[0;32m    853\u001b[0m                 \u001b[0mcontext\u001b[0m\u001b[1;33m.\u001b[0m\u001b[0masync_wait\u001b[0m\u001b[1;33m(\u001b[0m\u001b[1;33m)\u001b[0m\u001b[1;33m\u001b[0m\u001b[1;33m\u001b[0m\u001b[0m\n\u001b[0;32m    854\u001b[0m               \u001b[0mlogs\u001b[0m \u001b[1;33m=\u001b[0m \u001b[0mtmp_logs\u001b[0m  \u001b[1;31m# No error, now safe to assign to logs.\u001b[0m\u001b[1;33m\u001b[0m\u001b[1;33m\u001b[0m\u001b[0m\n\u001b[1;32m--> 855\u001b[1;33m               \u001b[0mcallbacks\u001b[0m\u001b[1;33m.\u001b[0m\u001b[0mon_train_batch_end\u001b[0m\u001b[1;33m(\u001b[0m\u001b[0mstep\u001b[0m\u001b[1;33m,\u001b[0m \u001b[0mlogs\u001b[0m\u001b[1;33m)\u001b[0m\u001b[1;33m\u001b[0m\u001b[1;33m\u001b[0m\u001b[0m\n\u001b[0m\u001b[0;32m    856\u001b[0m         \u001b[0mepoch_logs\u001b[0m \u001b[1;33m=\u001b[0m \u001b[0mcopy\u001b[0m\u001b[1;33m.\u001b[0m\u001b[0mcopy\u001b[0m\u001b[1;33m(\u001b[0m\u001b[0mlogs\u001b[0m\u001b[1;33m)\u001b[0m\u001b[1;33m\u001b[0m\u001b[1;33m\u001b[0m\u001b[0m\n\u001b[0;32m    857\u001b[0m \u001b[1;33m\u001b[0m\u001b[0m\n",
      "\u001b[1;32m~\\anaconda3\\envs\\IIS\\lib\\site-packages\\tensorflow\\python\\keras\\callbacks.py\u001b[0m in \u001b[0;36mon_train_batch_end\u001b[1;34m(self, batch, logs)\u001b[0m\n\u001b[0;32m    387\u001b[0m     \"\"\"\n\u001b[0;32m    388\u001b[0m     \u001b[1;32mif\u001b[0m \u001b[0mself\u001b[0m\u001b[1;33m.\u001b[0m\u001b[0m_should_call_train_batch_hooks\u001b[0m\u001b[1;33m:\u001b[0m\u001b[1;33m\u001b[0m\u001b[1;33m\u001b[0m\u001b[0m\n\u001b[1;32m--> 389\u001b[1;33m       \u001b[0mlogs\u001b[0m \u001b[1;33m=\u001b[0m \u001b[0mself\u001b[0m\u001b[1;33m.\u001b[0m\u001b[0m_process_logs\u001b[0m\u001b[1;33m(\u001b[0m\u001b[0mlogs\u001b[0m\u001b[1;33m)\u001b[0m\u001b[1;33m\u001b[0m\u001b[1;33m\u001b[0m\u001b[0m\n\u001b[0m\u001b[0;32m    390\u001b[0m       \u001b[0mself\u001b[0m\u001b[1;33m.\u001b[0m\u001b[0m_call_batch_hook\u001b[0m\u001b[1;33m(\u001b[0m\u001b[0mModeKeys\u001b[0m\u001b[1;33m.\u001b[0m\u001b[0mTRAIN\u001b[0m\u001b[1;33m,\u001b[0m \u001b[1;34m'end'\u001b[0m\u001b[1;33m,\u001b[0m \u001b[0mbatch\u001b[0m\u001b[1;33m,\u001b[0m \u001b[0mlogs\u001b[0m\u001b[1;33m=\u001b[0m\u001b[0mlogs\u001b[0m\u001b[1;33m)\u001b[0m\u001b[1;33m\u001b[0m\u001b[1;33m\u001b[0m\u001b[0m\n\u001b[0;32m    391\u001b[0m \u001b[1;33m\u001b[0m\u001b[0m\n",
      "\u001b[1;32m~\\anaconda3\\envs\\IIS\\lib\\site-packages\\tensorflow\\python\\keras\\callbacks.py\u001b[0m in \u001b[0;36m_process_logs\u001b[1;34m(self, logs)\u001b[0m\n\u001b[0;32m    263\u001b[0m     \u001b[1;34m\"\"\"Turns tensors into numpy arrays or Python scalars.\"\"\"\u001b[0m\u001b[1;33m\u001b[0m\u001b[1;33m\u001b[0m\u001b[0m\n\u001b[0;32m    264\u001b[0m     \u001b[1;32mif\u001b[0m \u001b[0mlogs\u001b[0m\u001b[1;33m:\u001b[0m\u001b[1;33m\u001b[0m\u001b[1;33m\u001b[0m\u001b[0m\n\u001b[1;32m--> 265\u001b[1;33m       \u001b[1;32mreturn\u001b[0m \u001b[0mtf_utils\u001b[0m\u001b[1;33m.\u001b[0m\u001b[0mto_numpy_or_python_type\u001b[0m\u001b[1;33m(\u001b[0m\u001b[0mlogs\u001b[0m\u001b[1;33m)\u001b[0m\u001b[1;33m\u001b[0m\u001b[1;33m\u001b[0m\u001b[0m\n\u001b[0m\u001b[0;32m    266\u001b[0m     \u001b[1;32mreturn\u001b[0m \u001b[1;33m{\u001b[0m\u001b[1;33m}\u001b[0m\u001b[1;33m\u001b[0m\u001b[1;33m\u001b[0m\u001b[0m\n\u001b[0;32m    267\u001b[0m \u001b[1;33m\u001b[0m\u001b[0m\n",
      "\u001b[1;32m~\\anaconda3\\envs\\IIS\\lib\\site-packages\\tensorflow\\python\\keras\\utils\\tf_utils.py\u001b[0m in \u001b[0;36mto_numpy_or_python_type\u001b[1;34m(tensors)\u001b[0m\n\u001b[0;32m    521\u001b[0m     \u001b[1;32mreturn\u001b[0m \u001b[0mt\u001b[0m  \u001b[1;31m# Don't turn ragged or sparse tensors to NumPy.\u001b[0m\u001b[1;33m\u001b[0m\u001b[1;33m\u001b[0m\u001b[0m\n\u001b[0;32m    522\u001b[0m \u001b[1;33m\u001b[0m\u001b[0m\n\u001b[1;32m--> 523\u001b[1;33m   \u001b[1;32mreturn\u001b[0m \u001b[0mnest\u001b[0m\u001b[1;33m.\u001b[0m\u001b[0mmap_structure\u001b[0m\u001b[1;33m(\u001b[0m\u001b[0m_to_single_numpy_or_python_type\u001b[0m\u001b[1;33m,\u001b[0m \u001b[0mtensors\u001b[0m\u001b[1;33m)\u001b[0m\u001b[1;33m\u001b[0m\u001b[1;33m\u001b[0m\u001b[0m\n\u001b[0m\u001b[0;32m    524\u001b[0m \u001b[1;33m\u001b[0m\u001b[0m\n",
      "\u001b[1;32m~\\anaconda3\\envs\\IIS\\lib\\site-packages\\tensorflow\\python\\util\\nest.py\u001b[0m in \u001b[0;36mmap_structure\u001b[1;34m(func, *structure, **kwargs)\u001b[0m\n\u001b[0;32m    615\u001b[0m \u001b[1;33m\u001b[0m\u001b[0m\n\u001b[0;32m    616\u001b[0m   return pack_sequence_as(\n\u001b[1;32m--> 617\u001b[1;33m       \u001b[0mstructure\u001b[0m\u001b[1;33m[\u001b[0m\u001b[1;36m0\u001b[0m\u001b[1;33m]\u001b[0m\u001b[1;33m,\u001b[0m \u001b[1;33m[\u001b[0m\u001b[0mfunc\u001b[0m\u001b[1;33m(\u001b[0m\u001b[1;33m*\u001b[0m\u001b[0mx\u001b[0m\u001b[1;33m)\u001b[0m \u001b[1;32mfor\u001b[0m \u001b[0mx\u001b[0m \u001b[1;32min\u001b[0m \u001b[0mentries\u001b[0m\u001b[1;33m]\u001b[0m\u001b[1;33m,\u001b[0m\u001b[1;33m\u001b[0m\u001b[1;33m\u001b[0m\u001b[0m\n\u001b[0m\u001b[0;32m    618\u001b[0m       expand_composites=expand_composites)\n\u001b[0;32m    619\u001b[0m \u001b[1;33m\u001b[0m\u001b[0m\n",
      "\u001b[1;32m~\\anaconda3\\envs\\IIS\\lib\\site-packages\\tensorflow\\python\\util\\nest.py\u001b[0m in \u001b[0;36m<listcomp>\u001b[1;34m(.0)\u001b[0m\n\u001b[0;32m    615\u001b[0m \u001b[1;33m\u001b[0m\u001b[0m\n\u001b[0;32m    616\u001b[0m   return pack_sequence_as(\n\u001b[1;32m--> 617\u001b[1;33m       \u001b[0mstructure\u001b[0m\u001b[1;33m[\u001b[0m\u001b[1;36m0\u001b[0m\u001b[1;33m]\u001b[0m\u001b[1;33m,\u001b[0m \u001b[1;33m[\u001b[0m\u001b[0mfunc\u001b[0m\u001b[1;33m(\u001b[0m\u001b[1;33m*\u001b[0m\u001b[0mx\u001b[0m\u001b[1;33m)\u001b[0m \u001b[1;32mfor\u001b[0m \u001b[0mx\u001b[0m \u001b[1;32min\u001b[0m \u001b[0mentries\u001b[0m\u001b[1;33m]\u001b[0m\u001b[1;33m,\u001b[0m\u001b[1;33m\u001b[0m\u001b[1;33m\u001b[0m\u001b[0m\n\u001b[0m\u001b[0;32m    618\u001b[0m       expand_composites=expand_composites)\n\u001b[0;32m    619\u001b[0m \u001b[1;33m\u001b[0m\u001b[0m\n",
      "\u001b[1;32m~\\anaconda3\\envs\\IIS\\lib\\site-packages\\tensorflow\\python\\keras\\utils\\tf_utils.py\u001b[0m in \u001b[0;36m_to_single_numpy_or_python_type\u001b[1;34m(t)\u001b[0m\n\u001b[0;32m    517\u001b[0m   \u001b[1;32mdef\u001b[0m \u001b[0m_to_single_numpy_or_python_type\u001b[0m\u001b[1;33m(\u001b[0m\u001b[0mt\u001b[0m\u001b[1;33m)\u001b[0m\u001b[1;33m:\u001b[0m\u001b[1;33m\u001b[0m\u001b[1;33m\u001b[0m\u001b[0m\n\u001b[0;32m    518\u001b[0m     \u001b[1;32mif\u001b[0m \u001b[0misinstance\u001b[0m\u001b[1;33m(\u001b[0m\u001b[0mt\u001b[0m\u001b[1;33m,\u001b[0m \u001b[0mops\u001b[0m\u001b[1;33m.\u001b[0m\u001b[0mTensor\u001b[0m\u001b[1;33m)\u001b[0m\u001b[1;33m:\u001b[0m\u001b[1;33m\u001b[0m\u001b[1;33m\u001b[0m\u001b[0m\n\u001b[1;32m--> 519\u001b[1;33m       \u001b[0mx\u001b[0m \u001b[1;33m=\u001b[0m \u001b[0mt\u001b[0m\u001b[1;33m.\u001b[0m\u001b[0mnumpy\u001b[0m\u001b[1;33m(\u001b[0m\u001b[1;33m)\u001b[0m\u001b[1;33m\u001b[0m\u001b[1;33m\u001b[0m\u001b[0m\n\u001b[0m\u001b[0;32m    520\u001b[0m       \u001b[1;32mreturn\u001b[0m \u001b[0mx\u001b[0m\u001b[1;33m.\u001b[0m\u001b[0mitem\u001b[0m\u001b[1;33m(\u001b[0m\u001b[1;33m)\u001b[0m \u001b[1;32mif\u001b[0m \u001b[0mnp\u001b[0m\u001b[1;33m.\u001b[0m\u001b[0mndim\u001b[0m\u001b[1;33m(\u001b[0m\u001b[0mx\u001b[0m\u001b[1;33m)\u001b[0m \u001b[1;33m==\u001b[0m \u001b[1;36m0\u001b[0m \u001b[1;32melse\u001b[0m \u001b[0mx\u001b[0m\u001b[1;33m\u001b[0m\u001b[1;33m\u001b[0m\u001b[0m\n\u001b[0;32m    521\u001b[0m     \u001b[1;32mreturn\u001b[0m \u001b[0mt\u001b[0m  \u001b[1;31m# Don't turn ragged or sparse tensors to NumPy.\u001b[0m\u001b[1;33m\u001b[0m\u001b[1;33m\u001b[0m\u001b[0m\n",
      "\u001b[1;32m~\\anaconda3\\envs\\IIS\\lib\\site-packages\\tensorflow\\python\\framework\\ops.py\u001b[0m in \u001b[0;36mnumpy\u001b[1;34m(self)\u001b[0m\n\u001b[0;32m    959\u001b[0m     \"\"\"\n\u001b[0;32m    960\u001b[0m     \u001b[1;31m# TODO(slebedev): Consider avoiding a copy for non-CPU or remote tensors.\u001b[0m\u001b[1;33m\u001b[0m\u001b[1;33m\u001b[0m\u001b[1;33m\u001b[0m\u001b[0m\n\u001b[1;32m--> 961\u001b[1;33m     \u001b[0mmaybe_arr\u001b[0m \u001b[1;33m=\u001b[0m \u001b[0mself\u001b[0m\u001b[1;33m.\u001b[0m\u001b[0m_numpy\u001b[0m\u001b[1;33m(\u001b[0m\u001b[1;33m)\u001b[0m  \u001b[1;31m# pylint: disable=protected-access\u001b[0m\u001b[1;33m\u001b[0m\u001b[1;33m\u001b[0m\u001b[0m\n\u001b[0m\u001b[0;32m    962\u001b[0m     \u001b[1;32mreturn\u001b[0m \u001b[0mmaybe_arr\u001b[0m\u001b[1;33m.\u001b[0m\u001b[0mcopy\u001b[0m\u001b[1;33m(\u001b[0m\u001b[1;33m)\u001b[0m \u001b[1;32mif\u001b[0m \u001b[0misinstance\u001b[0m\u001b[1;33m(\u001b[0m\u001b[0mmaybe_arr\u001b[0m\u001b[1;33m,\u001b[0m \u001b[0mnp\u001b[0m\u001b[1;33m.\u001b[0m\u001b[0mndarray\u001b[0m\u001b[1;33m)\u001b[0m \u001b[1;32melse\u001b[0m \u001b[0mmaybe_arr\u001b[0m\u001b[1;33m\u001b[0m\u001b[1;33m\u001b[0m\u001b[0m\n\u001b[0;32m    963\u001b[0m \u001b[1;33m\u001b[0m\u001b[0m\n",
      "\u001b[1;32m~\\anaconda3\\envs\\IIS\\lib\\site-packages\\tensorflow\\python\\framework\\ops.py\u001b[0m in \u001b[0;36m_numpy\u001b[1;34m(self)\u001b[0m\n\u001b[0;32m    925\u001b[0m     \u001b[1;31m# pylint: disable=protected-access\u001b[0m\u001b[1;33m\u001b[0m\u001b[1;33m\u001b[0m\u001b[1;33m\u001b[0m\u001b[0m\n\u001b[0;32m    926\u001b[0m     \u001b[1;32mtry\u001b[0m\u001b[1;33m:\u001b[0m\u001b[1;33m\u001b[0m\u001b[1;33m\u001b[0m\u001b[0m\n\u001b[1;32m--> 927\u001b[1;33m       \u001b[1;32mreturn\u001b[0m \u001b[0mself\u001b[0m\u001b[1;33m.\u001b[0m\u001b[0m_numpy_internal\u001b[0m\u001b[1;33m(\u001b[0m\u001b[1;33m)\u001b[0m\u001b[1;33m\u001b[0m\u001b[1;33m\u001b[0m\u001b[0m\n\u001b[0m\u001b[0;32m    928\u001b[0m     \u001b[1;32mexcept\u001b[0m \u001b[0mcore\u001b[0m\u001b[1;33m.\u001b[0m\u001b[0m_NotOkStatusException\u001b[0m \u001b[1;32mas\u001b[0m \u001b[0me\u001b[0m\u001b[1;33m:\u001b[0m\u001b[1;33m\u001b[0m\u001b[1;33m\u001b[0m\u001b[0m\n\u001b[0;32m    929\u001b[0m       \u001b[0msix\u001b[0m\u001b[1;33m.\u001b[0m\u001b[0mraise_from\u001b[0m\u001b[1;33m(\u001b[0m\u001b[0mcore\u001b[0m\u001b[1;33m.\u001b[0m\u001b[0m_status_to_exception\u001b[0m\u001b[1;33m(\u001b[0m\u001b[0me\u001b[0m\u001b[1;33m.\u001b[0m\u001b[0mcode\u001b[0m\u001b[1;33m,\u001b[0m \u001b[0me\u001b[0m\u001b[1;33m.\u001b[0m\u001b[0mmessage\u001b[0m\u001b[1;33m)\u001b[0m\u001b[1;33m,\u001b[0m \u001b[1;32mNone\u001b[0m\u001b[1;33m)\u001b[0m\u001b[1;33m\u001b[0m\u001b[1;33m\u001b[0m\u001b[0m\n",
      "\u001b[1;31mKeyboardInterrupt\u001b[0m: "
     ]
    }
   ],
   "source": [
    "# TRAIN MODEL\n",
    "# model = CNN_model()\n",
    "model = load_model(checkpoint_file)\n",
    "hist = History()\n",
    "checkpointer = ModelCheckpoint(filepath=checkpoint_file, verbose=1, save_best_only=True)\n",
    "model.compile(optimizer='adam', loss='mean_squared_error', metrics=['accuracy'])\n",
    "# model_fit = model.fit(X_train, Y_train, validation_split=0.2, epochs=epochs, batch_size=batch_size, callbacks=[checkpointer, hist], verbose=1)\n",
    "model_fit = model.fit(X_train, Y_train,validation_data = (X_test, Y_test), epochs=epochs, batch_size=batch_size, callbacks=[checkpointer, hist], verbose=1)\n",
    "\n",
    "model.save(model_file_name)\n"
   ]
  },
  {
   "cell_type": "code",
   "execution_count": 7,
   "metadata": {},
   "outputs": [
    {
     "name": "stdout",
     "output_type": "stream",
     "text": [
      "75/75 [==============================] - 1s 9ms/step - loss: 1.1320 - accuracy: 0.9396\n",
      "Test accuracy: 0.9395833611488342\n"
     ]
    }
   ],
   "source": [
    "model = load_model(checkpoint_file)  # <-- Saved model path\n",
    "test_lost, test_acc = model.evaluate(X_test, Y_test)\n",
    "print(f\"Test accuracy: {test_acc}\")"
   ]
  },
  {
   "cell_type": "code",
   "execution_count": 33,
   "metadata": {},
   "outputs": [
    {
     "data": {
      "text/plain": [
       "array([[ 9.58682251e+01, -5.99498786e-02,  7.60636520e+01,\n",
       "        -6.74788281e-02,  7.16456070e+01, -4.65026423e-02,\n",
       "         6.46869278e+01,  6.75902218e-02,  8.73178024e+01,\n",
       "        -8.62959400e-02,  8.35565338e+01, -2.95184013e-02,\n",
       "         8.22618790e+01,  6.66362196e-02,  8.36525803e+01,\n",
       "         4.36869785e-02,  9.97952271e+01, -2.93491092e-02,\n",
       "         1.02220856e+02, -1.25128925e-02,  1.03656799e+02,\n",
       "         9.36501101e-03,  1.06642715e+02,  2.12274920e-02,\n",
       "        -3.68821144e-01,  4.15595211e-02, -1.49874210e-01,\n",
       "        -3.53442803e-02,  1.71442032e-02, -2.16449425e-02,\n",
       "         1.09512329e-01,  4.06835526e-02,  8.93605232e-01,\n",
       "         1.12054385e-02,  6.03652954e-01,  3.55035886e-02,\n",
       "         7.82325268e-01, -6.52201772e-02,  9.25934792e-01,\n",
       "         3.14368941e-02,  4.53571320e-01, -5.25663495e-02,\n",
       "        -9.07608032e-01,  1.31590683e-02, -6.16815567e-01,\n",
       "         1.18123561e-01, -4.09469604e-01,  5.34928329e-02,\n",
       "        -8.75492096e-02,  5.55662028e-02,  9.18901443e-01,\n",
       "        -5.12704346e-03, -1.41229630e-01, -3.61846983e-02,\n",
       "         1.02281094e+00, -4.68530729e-02,  1.79197311e-01,\n",
       "         3.95842418e-02,  6.77425385e-01, -1.84151214e-02,\n",
       "         3.84866714e-01, -3.49726877e-04, -2.52040863e-01,\n",
       "        -1.40556470e-02,  1.14155769e+00, -5.66097954e-03,\n",
       "         1.09212830e+02,  6.02223491e-03,  1.05284622e+02,\n",
       "         8.91064554e-02,  1.01415306e+02,  1.19334310e-02,\n",
       "         1.17172501e+02, -1.76059399e-02,  1.16223763e+02,\n",
       "        -5.73354866e-03,  1.12241394e+02, -1.88328661e-02,\n",
       "         1.06468536e+02,  2.55244151e-02]], dtype=float32)"
      ]
     },
     "execution_count": 33,
     "metadata": {},
     "output_type": "execute_result"
    }
   ],
   "source": [
    "random_frame = X_test[0:1]\n",
    "trueframe = Y_test[0:1]\n",
    "model.predict(random_frame)"
   ]
  },
  {
   "cell_type": "code",
   "execution_count": 35,
   "metadata": {},
   "outputs": [
    {
     "data": {
      "text/plain": [
       "array([9.3400002e+01, 2.8841145e-04, 7.4800003e+01, 2.1940104e-04,\n",
       "       7.0000000e+01, 1.8749999e-04, 6.3599998e+01, 1.5299479e-04,\n",
       "       8.4400002e+01, 1.6276042e-04, 8.3000000e+01, 1.2565104e-04,\n",
       "       8.0800003e+01, 8.4635416e-05, 8.1599998e+01, 4.9479168e-05,\n",
       "       9.7400002e+01, 1.6471354e-04, 1.0140000e+02, 1.2239582e-04,\n",
       "       1.0300000e+02, 8.3984371e-05, 1.0660000e+02, 3.5807294e-05,\n",
       "       0.0000000e+00, 0.0000000e+00, 0.0000000e+00, 0.0000000e+00,\n",
       "       0.0000000e+00, 0.0000000e+00, 0.0000000e+00, 0.0000000e+00,\n",
       "       0.0000000e+00, 0.0000000e+00, 0.0000000e+00, 0.0000000e+00,\n",
       "       0.0000000e+00, 0.0000000e+00, 0.0000000e+00, 0.0000000e+00,\n",
       "       0.0000000e+00, 0.0000000e+00, 0.0000000e+00, 0.0000000e+00,\n",
       "       0.0000000e+00, 0.0000000e+00, 0.0000000e+00, 0.0000000e+00,\n",
       "       0.0000000e+00, 0.0000000e+00, 0.0000000e+00, 0.0000000e+00,\n",
       "       0.0000000e+00, 0.0000000e+00, 0.0000000e+00, 0.0000000e+00,\n",
       "       0.0000000e+00, 0.0000000e+00, 0.0000000e+00, 0.0000000e+00,\n",
       "       0.0000000e+00, 0.0000000e+00, 0.0000000e+00, 0.0000000e+00,\n",
       "       0.0000000e+00, 0.0000000e+00, 1.0700000e+02, 1.8619793e-04,\n",
       "       1.0280000e+02, 2.3242188e-04, 9.8800003e+01, 2.6367189e-04,\n",
       "       1.2020000e+02, 2.3632812e-04, 1.1480000e+02, 2.2460938e-04,\n",
       "       1.1040000e+02, 2.5130209e-04, 1.0480000e+02, 2.8450519e-04],\n",
       "      dtype=float32)"
      ]
     },
     "execution_count": 35,
     "metadata": {},
     "output_type": "execute_result"
    }
   ],
   "source": [
    "trueframe.flatten()"
   ]
  },
  {
   "cell_type": "code",
   "execution_count": 22,
   "metadata": {},
   "outputs": [
    {
     "name": "stdout",
     "output_type": "stream",
     "text": [
      "1/1 [==============================] - 0s 1ms/step - loss: 0.1856 - accuracy: 1.0000\n"
     ]
    },
    {
     "data": {
      "text/plain": [
       "[0.1856464445590973, 1.0]"
      ]
     },
     "execution_count": 22,
     "metadata": {},
     "output_type": "execute_result"
    }
   ],
   "source": [
    "\n",
    "model.evaluate(X_train[0:1], Y_train[0:1])"
   ]
  },
  {
   "cell_type": "code",
   "execution_count": 42,
   "metadata": {},
   "outputs": [],
   "source": [
    "#Get \n",
    "def getLandmark(frame):\n",
    "    '''\n",
    "    Frame must be gray/scaled to (98,124) and normalized.\n",
    "    \n",
    "    '''\n",
    "    frame = frame.reshape(1,96,128,1)\n",
    "    prediction = model.predict(frame)\n",
    "    print(prediction)\n",
    "    prediction[:,::2]  = np.squeeze(prediction)[:,::2]*128 + 128  # \n",
    "    prediction[:,1::2] = np.squeeze(prediction)[:,1::2]*98 + 98  # \n",
    "    \n",
    "    return prediction\n"
   ]
  },
  {
   "cell_type": "code",
   "execution_count": 26,
   "metadata": {},
   "outputs": [
    {
     "ename": "ValueError",
     "evalue": "The truth value of an array with more than one element is ambiguous. Use a.any() or a.all()",
     "output_type": "error",
     "traceback": [
      "\u001b[1;31m---------------------------------------------------------------------------\u001b[0m",
      "\u001b[1;31mValueError\u001b[0m                                Traceback (most recent call last)",
      "\u001b[1;32m<ipython-input-26-e88b4ed933f0>\u001b[0m in \u001b[0;36m<module>\u001b[1;34m\u001b[0m\n\u001b[0;32m      1\u001b[0m \u001b[0mmodel\u001b[0m \u001b[1;33m=\u001b[0m \u001b[0mload_model\u001b[0m\u001b[1;33m(\u001b[0m\u001b[0mmodel_file_name\u001b[0m\u001b[1;33m)\u001b[0m\u001b[1;33m\u001b[0m\u001b[1;33m\u001b[0m\u001b[0m\n\u001b[1;32m----> 2\u001b[1;33m \u001b[0mpred\u001b[0m \u001b[1;33m=\u001b[0m \u001b[0mmodel\u001b[0m\u001b[1;33m.\u001b[0m\u001b[0mpredict\u001b[0m\u001b[1;33m(\u001b[0m\u001b[0mX_test\u001b[0m\u001b[1;33m[\u001b[0m\u001b[1;36m0\u001b[0m\u001b[1;33m]\u001b[0m\u001b[1;33m.\u001b[0m\u001b[0mreshape\u001b[0m\u001b[1;33m(\u001b[0m\u001b[1;36m1\u001b[0m\u001b[1;33m,\u001b[0m\u001b[1;36m96\u001b[0m\u001b[1;33m,\u001b[0m\u001b[1;36m128\u001b[0m\u001b[1;33m,\u001b[0m\u001b[1;36m1\u001b[0m\u001b[1;33m)\u001b[0m\u001b[1;33m,\u001b[0m \u001b[0mY_test\u001b[0m\u001b[1;33m[\u001b[0m\u001b[1;36m0\u001b[0m\u001b[1;33m]\u001b[0m\u001b[1;33m)\u001b[0m\u001b[1;33m\u001b[0m\u001b[1;33m\u001b[0m\u001b[0m\n\u001b[0m",
      "\u001b[1;32m~\\anaconda3\\envs\\IIS\\lib\\site-packages\\tensorflow\\python\\keras\\engine\\training.py\u001b[0m in \u001b[0;36m_method_wrapper\u001b[1;34m(self, *args, **kwargs)\u001b[0m\n\u001b[0;32m     86\u001b[0m       raise ValueError('{} is not supported in multi-worker mode.'.format(\n\u001b[0;32m     87\u001b[0m           method.__name__))\n\u001b[1;32m---> 88\u001b[1;33m     \u001b[1;32mreturn\u001b[0m \u001b[0mmethod\u001b[0m\u001b[1;33m(\u001b[0m\u001b[0mself\u001b[0m\u001b[1;33m,\u001b[0m \u001b[1;33m*\u001b[0m\u001b[0margs\u001b[0m\u001b[1;33m,\u001b[0m \u001b[1;33m**\u001b[0m\u001b[0mkwargs\u001b[0m\u001b[1;33m)\u001b[0m\u001b[1;33m\u001b[0m\u001b[1;33m\u001b[0m\u001b[0m\n\u001b[0m\u001b[0;32m     89\u001b[0m \u001b[1;33m\u001b[0m\u001b[0m\n\u001b[0;32m     90\u001b[0m   return tf_decorator.make_decorator(\n",
      "\u001b[1;32m~\\anaconda3\\envs\\IIS\\lib\\site-packages\\tensorflow\\python\\keras\\engine\\training.py\u001b[0m in \u001b[0;36mpredict\u001b[1;34m(self, x, batch_size, verbose, steps, callbacks, max_queue_size, workers, use_multiprocessing)\u001b[0m\n\u001b[0;32m   1247\u001b[0m           \u001b[0mworkers\u001b[0m\u001b[1;33m=\u001b[0m\u001b[0mworkers\u001b[0m\u001b[1;33m,\u001b[0m\u001b[1;33m\u001b[0m\u001b[1;33m\u001b[0m\u001b[0m\n\u001b[0;32m   1248\u001b[0m           \u001b[0muse_multiprocessing\u001b[0m\u001b[1;33m=\u001b[0m\u001b[0muse_multiprocessing\u001b[0m\u001b[1;33m,\u001b[0m\u001b[1;33m\u001b[0m\u001b[1;33m\u001b[0m\u001b[0m\n\u001b[1;32m-> 1249\u001b[1;33m           model=self)\n\u001b[0m\u001b[0;32m   1250\u001b[0m \u001b[1;33m\u001b[0m\u001b[0m\n\u001b[0;32m   1251\u001b[0m       \u001b[1;31m# Container that configures and calls `tf.keras.Callback`s.\u001b[0m\u001b[1;33m\u001b[0m\u001b[1;33m\u001b[0m\u001b[1;33m\u001b[0m\u001b[0m\n",
      "\u001b[1;32m~\\anaconda3\\envs\\IIS\\lib\\site-packages\\tensorflow\\python\\keras\\engine\\data_adapter.py\u001b[0m in \u001b[0;36m__init__\u001b[1;34m(self, x, y, sample_weight, batch_size, steps_per_epoch, initial_epoch, epochs, shuffle, class_weight, max_queue_size, workers, use_multiprocessing, model)\u001b[0m\n\u001b[0;32m   1110\u001b[0m         \u001b[0muse_multiprocessing\u001b[0m\u001b[1;33m=\u001b[0m\u001b[0muse_multiprocessing\u001b[0m\u001b[1;33m,\u001b[0m\u001b[1;33m\u001b[0m\u001b[1;33m\u001b[0m\u001b[0m\n\u001b[0;32m   1111\u001b[0m         \u001b[0mdistribution_strategy\u001b[0m\u001b[1;33m=\u001b[0m\u001b[0mds_context\u001b[0m\u001b[1;33m.\u001b[0m\u001b[0mget_strategy\u001b[0m\u001b[1;33m(\u001b[0m\u001b[1;33m)\u001b[0m\u001b[1;33m,\u001b[0m\u001b[1;33m\u001b[0m\u001b[1;33m\u001b[0m\u001b[0m\n\u001b[1;32m-> 1112\u001b[1;33m         model=model)\n\u001b[0m\u001b[0;32m   1113\u001b[0m \u001b[1;33m\u001b[0m\u001b[0m\n\u001b[0;32m   1114\u001b[0m     \u001b[0mstrategy\u001b[0m \u001b[1;33m=\u001b[0m \u001b[0mds_context\u001b[0m\u001b[1;33m.\u001b[0m\u001b[0mget_strategy\u001b[0m\u001b[1;33m(\u001b[0m\u001b[1;33m)\u001b[0m\u001b[1;33m\u001b[0m\u001b[1;33m\u001b[0m\u001b[0m\n",
      "\u001b[1;32m~\\anaconda3\\envs\\IIS\\lib\\site-packages\\tensorflow\\python\\keras\\engine\\data_adapter.py\u001b[0m in \u001b[0;36m__init__\u001b[1;34m(self, x, y, sample_weights, sample_weight_modes, batch_size, epochs, steps, shuffle, **kwargs)\u001b[0m\n\u001b[0;32m    285\u001b[0m     \u001b[1;31m# If batch_size is not passed but steps is, calculate from the input data.\u001b[0m\u001b[1;33m\u001b[0m\u001b[1;33m\u001b[0m\u001b[1;33m\u001b[0m\u001b[0m\n\u001b[0;32m    286\u001b[0m     \u001b[1;31m# Default to 32 for backwards compat.\u001b[0m\u001b[1;33m\u001b[0m\u001b[1;33m\u001b[0m\u001b[1;33m\u001b[0m\u001b[0m\n\u001b[1;32m--> 287\u001b[1;33m     \u001b[1;32mif\u001b[0m \u001b[1;32mnot\u001b[0m \u001b[0mbatch_size\u001b[0m\u001b[1;33m:\u001b[0m\u001b[1;33m\u001b[0m\u001b[1;33m\u001b[0m\u001b[0m\n\u001b[0m\u001b[0;32m    288\u001b[0m       \u001b[0mbatch_size\u001b[0m \u001b[1;33m=\u001b[0m \u001b[0mint\u001b[0m\u001b[1;33m(\u001b[0m\u001b[0mmath\u001b[0m\u001b[1;33m.\u001b[0m\u001b[0mceil\u001b[0m\u001b[1;33m(\u001b[0m\u001b[0mnum_samples\u001b[0m \u001b[1;33m/\u001b[0m \u001b[0msteps\u001b[0m\u001b[1;33m)\u001b[0m\u001b[1;33m)\u001b[0m \u001b[1;32mif\u001b[0m \u001b[0msteps\u001b[0m \u001b[1;32melse\u001b[0m \u001b[1;36m32\u001b[0m\u001b[1;33m\u001b[0m\u001b[1;33m\u001b[0m\u001b[0m\n\u001b[0;32m    289\u001b[0m \u001b[1;33m\u001b[0m\u001b[0m\n",
      "\u001b[1;31mValueError\u001b[0m: The truth value of an array with more than one element is ambiguous. Use a.any() or a.all()"
     ]
    }
   ],
   "source": [
    "model = load_model(model_file_name)\n",
    "pred = model.predict(X_test[0].reshape(1,96,128,1), Y_test[0])"
   ]
  },
  {
   "cell_type": "code",
   "execution_count": 30,
   "metadata": {},
   "outputs": [
    {
     "data": {
      "text/plain": [
       "array([[0.7296875 , 0.92291665, 0.584375  , ..., 0.8041666 , 0.81875   ,\n",
       "        0.91041666],\n",
       "       [0.        , 0.        , 0.        , ..., 0.        , 0.        ,\n",
       "        0.        ],\n",
       "       [0.        , 0.        , 0.        , ..., 0.48749998, 0.7296875 ,\n",
       "        0.42499998],\n",
       "       ...,\n",
       "       [0.        , 0.        , 0.        , ..., 0.        , 0.        ,\n",
       "        0.        ],\n",
       "       [0.6234375 , 0.9791667 , 0.53125   , ..., 0.8666666 , 0.6796875 ,\n",
       "        0.9145834 ],\n",
       "       [0.8734375 , 0.63958335, 0.        , ..., 0.4416667 , 0.88125   ,\n",
       "        0.46666667]], dtype=float32)"
      ]
     },
     "execution_count": 30,
     "metadata": {},
     "output_type": "execute_result"
    }
   ],
   "source": [
    "Y_test"
   ]
  },
  {
   "cell_type": "code",
   "execution_count": 45,
   "metadata": {},
   "outputs": [
    {
     "name": "stdout",
     "output_type": "stream",
     "text": [
      "[[-0.31811047 -0.10509384 -0.42613074 -0.31619245 -0.4701534  -0.41363835\n",
      "  -0.52288574 -0.5165466  -0.3504058  -0.4940247  -0.36612058 -0.61309147\n",
      "  -0.37874705 -0.7161057  -0.38495392 -0.8215599  -0.26327467 -0.48259965\n",
      "  -0.24091053 -0.60689276 -0.22337133 -0.71453774 -0.20097625 -0.83416545\n",
      "  -1.0049634  -1.0073214  -1.004494   -1.0095537  -1.0030193  -1.0125029\n",
      "  -1.0019654  -1.0176463  -1.0127659  -0.9984679  -1.0032864  -1.0022572\n",
      "  -1.0017043  -1.0049176  -1.0003883  -1.0071337  -0.99230087 -0.99154377\n",
      "  -1.0010561  -0.9962868  -0.9854815  -0.9735563  -0.9902699  -0.98658043\n",
      "  -0.9973302  -1.001126   -0.98486054 -0.9804981  -0.9969277  -1.0147069\n",
      "  -0.98600346 -0.98581284 -1.0001308  -0.99582565 -0.9861656  -0.96937984\n",
      "  -0.9872987  -0.9811785  -0.9941625  -0.9846091  -0.99459165 -0.9913281\n",
      "  -0.19315791 -0.39899796 -0.21609753 -0.2643615  -0.23609447 -0.17668062\n",
      "  -0.11789811 -0.25705376 -0.13280201 -0.29976073 -0.15863419 -0.1958285\n",
      "  -0.19300282 -0.13608783]]\n"
     ]
    },
    {
     "ename": "IndexError",
     "evalue": "too many indices for array",
     "output_type": "error",
     "traceback": [
      "\u001b[1;31m---------------------------------------------------------------------------\u001b[0m",
      "\u001b[1;31mIndexError\u001b[0m                                Traceback (most recent call last)",
      "\u001b[1;32m<ipython-input-45-e123a0d56a38>\u001b[0m in \u001b[0;36m<module>\u001b[1;34m\u001b[0m\n\u001b[0;32m      1\u001b[0m \u001b[1;31m# Test with random frame\u001b[0m\u001b[1;33m\u001b[0m\u001b[1;33m\u001b[0m\u001b[1;33m\u001b[0m\u001b[0m\n\u001b[0;32m      2\u001b[0m \u001b[0mtest\u001b[0m \u001b[1;33m=\u001b[0m \u001b[0mX_test\u001b[0m\u001b[1;33m[\u001b[0m\u001b[1;36m0\u001b[0m\u001b[1;33m]\u001b[0m\u001b[1;33m\u001b[0m\u001b[1;33m\u001b[0m\u001b[0m\n\u001b[1;32m----> 3\u001b[1;33m \u001b[0mlandmarks\u001b[0m \u001b[1;33m=\u001b[0m \u001b[0mgetLandmark\u001b[0m\u001b[1;33m(\u001b[0m\u001b[0mtest\u001b[0m\u001b[1;33m)\u001b[0m\u001b[1;33m\u001b[0m\u001b[1;33m\u001b[0m\u001b[0m\n\u001b[0m\u001b[0;32m      4\u001b[0m \u001b[0mlandmarks\u001b[0m\u001b[1;33m\u001b[0m\u001b[1;33m\u001b[0m\u001b[0m\n",
      "\u001b[1;32m<ipython-input-42-4a97dfe4034d>\u001b[0m in \u001b[0;36mgetLandmark\u001b[1;34m(frame)\u001b[0m\n\u001b[0;32m      7\u001b[0m     \u001b[0mprediction\u001b[0m \u001b[1;33m=\u001b[0m \u001b[0mmodel\u001b[0m\u001b[1;33m.\u001b[0m\u001b[0mpredict\u001b[0m\u001b[1;33m(\u001b[0m\u001b[0mframe\u001b[0m\u001b[1;33m)\u001b[0m\u001b[1;33m\u001b[0m\u001b[1;33m\u001b[0m\u001b[0m\n\u001b[0;32m      8\u001b[0m     \u001b[0mprint\u001b[0m\u001b[1;33m(\u001b[0m\u001b[0mprediction\u001b[0m\u001b[1;33m)\u001b[0m\u001b[1;33m\u001b[0m\u001b[1;33m\u001b[0m\u001b[0m\n\u001b[1;32m----> 9\u001b[1;33m     \u001b[0mprediction\u001b[0m\u001b[1;33m[\u001b[0m\u001b[1;33m:\u001b[0m\u001b[1;33m,\u001b[0m\u001b[1;33m:\u001b[0m\u001b[1;33m:\u001b[0m\u001b[1;36m2\u001b[0m\u001b[1;33m]\u001b[0m  \u001b[1;33m=\u001b[0m \u001b[0mnp\u001b[0m\u001b[1;33m.\u001b[0m\u001b[0msqueeze\u001b[0m\u001b[1;33m(\u001b[0m\u001b[0mprediction\u001b[0m\u001b[1;33m)\u001b[0m\u001b[1;33m[\u001b[0m\u001b[1;33m:\u001b[0m\u001b[1;33m,\u001b[0m\u001b[1;33m:\u001b[0m\u001b[1;33m:\u001b[0m\u001b[1;36m2\u001b[0m\u001b[1;33m]\u001b[0m\u001b[1;33m*\u001b[0m\u001b[1;36m128\u001b[0m \u001b[1;33m+\u001b[0m \u001b[1;36m128\u001b[0m  \u001b[1;31m#\u001b[0m\u001b[1;33m\u001b[0m\u001b[1;33m\u001b[0m\u001b[0m\n\u001b[0m\u001b[0;32m     10\u001b[0m     \u001b[0mprediction\u001b[0m\u001b[1;33m[\u001b[0m\u001b[1;33m:\u001b[0m\u001b[1;33m,\u001b[0m\u001b[1;36m1\u001b[0m\u001b[1;33m:\u001b[0m\u001b[1;33m:\u001b[0m\u001b[1;36m2\u001b[0m\u001b[1;33m]\u001b[0m \u001b[1;33m=\u001b[0m \u001b[0mnp\u001b[0m\u001b[1;33m.\u001b[0m\u001b[0msqueeze\u001b[0m\u001b[1;33m(\u001b[0m\u001b[0mprediction\u001b[0m\u001b[1;33m)\u001b[0m\u001b[1;33m[\u001b[0m\u001b[1;33m:\u001b[0m\u001b[1;33m,\u001b[0m\u001b[1;36m1\u001b[0m\u001b[1;33m:\u001b[0m\u001b[1;33m:\u001b[0m\u001b[1;36m2\u001b[0m\u001b[1;33m]\u001b[0m\u001b[1;33m*\u001b[0m\u001b[1;36m98\u001b[0m \u001b[1;33m+\u001b[0m \u001b[1;36m98\u001b[0m  \u001b[1;31m#\u001b[0m\u001b[1;33m\u001b[0m\u001b[1;33m\u001b[0m\u001b[0m\n\u001b[0;32m     11\u001b[0m \u001b[1;33m\u001b[0m\u001b[0m\n",
      "\u001b[1;31mIndexError\u001b[0m: too many indices for array"
     ]
    }
   ],
   "source": [
    "# Test with random frame\n",
    "test = X_test[0]\n",
    "landmarks = getLandmark(test)\n",
    "landmarks"
   ]
  },
  {
   "cell_type": "code",
   "execution_count": 34,
   "metadata": {},
   "outputs": [
    {
     "data": {
      "text/plain": [
       "1.0104166"
      ]
     },
     "execution_count": 34,
     "metadata": {},
     "output_type": "execute_result"
    }
   ],
   "source": [
    "np.max(Y_train)"
   ]
  },
  {
   "cell_type": "code",
   "execution_count": null,
   "metadata": {},
   "outputs": [],
   "source": []
  },
  {
   "cell_type": "code",
   "execution_count": null,
   "metadata": {},
   "outputs": [],
   "source": []
  },
  {
   "cell_type": "code",
   "execution_count": null,
   "metadata": {},
   "outputs": [],
   "source": []
  },
  {
   "cell_type": "code",
   "execution_count": null,
   "metadata": {},
   "outputs": [],
   "source": [
    "def drawLandmarks(frame, landmarks):\n",
    "    "
   ]
  },
  {
   "cell_type": "code",
   "execution_count": 28,
   "metadata": {},
   "outputs": [
    {
     "data": {
      "application/vnd.jupyter.widget-view+json": {
       "model_id": "",
       "version_major": 2,
       "version_minor": 0
      },
      "text/plain": [
       "CameraStream(constraints={'facing_mode': 'user', 'audio': False, 'video': {'width': 640, 'height': 480}})"
      ]
     },
     "metadata": {},
     "output_type": "display_data"
    }
   ],
   "source": [
    "camera = CameraStream(constraints=\n",
    "                      {'facing_mode': 'user',\n",
    "                       'audio': False,\n",
    "                       'video': { 'width': 640, 'height': 480 }\n",
    "                       })\n",
    "camera"
   ]
  },
  {
   "cell_type": "code",
   "execution_count": 4,
   "metadata": {},
   "outputs": [
    {
     "data": {
      "application/vnd.jupyter.widget-view+json": {
       "model_id": "196cf4c8deb243d79f1a6c9f739ee26f",
       "version_major": 2,
       "version_minor": 0
      },
      "text/plain": [
       "ImageRecorder(image=Image(value=b''), stream=CameraStream(constraints={'facing_mode': 'user', 'audio': False, …"
      ]
     },
     "metadata": {},
     "output_type": "display_data"
    }
   ],
   "source": [
    "recorder = ImageRecorder(stream=camera)\n",
    "recorder"
   ]
  },
  {
   "cell_type": "code",
   "execution_count": 29,
   "metadata": {},
   "outputs": [],
   "source": [
    "camera.close()"
   ]
  },
  {
   "cell_type": "code",
   "execution_count": 30,
   "metadata": {},
   "outputs": [],
   "source": [
    "snapshot = recorder.image.value\n",
    "snapshot = np.frombuffer(snapshot, dtype=np.uint8)\n",
    "snapshot = cv2.imdecode(snapshot, cv2.IMREAD_COLOR)\n",
    "snapshot.shape"
   ]
  },
  {
   "cell_type": "code",
   "execution_count": 31,
   "metadata": {},
   "outputs": [
    {
     "data": {
      "text/plain": [
       "(2, 2, 3)"
      ]
     },
     "execution_count": 31,
     "metadata": {},
     "output_type": "execute_result"
    }
   ],
   "source": []
  },
  {
   "cell_type": "code",
   "execution_count": null,
   "metadata": {},
   "outputs": [],
   "source": [
    "\n",
    "def detect_points(face_img):\n",
    "    me  = np.array(face_img)/255\n",
    "    x_test = np.expand_dims(me, axis=0)\n",
    "    x_test = np.expand_dims(x_test, axis=3)\n",
    "\n",
    "    y_test = model.predict(x_test)\n",
    "    label_points = (np.squeeze(y_test)*48)+48 \n",
    "    \n",
    "    return label_points\n",
    "    \n",
    "# Load haarcascade\n",
    "face_cascade = cv2.CascadeClassifier('haarcascade_frontalface_default.xml')\n",
    "dimensions = (96, 96)\n",
    "\n",
    "# Enter the path to your test image\n",
    "img = cv2.imread('you_test_image.jpg')\n",
    "\n",
    "default_img = cv2.cvtColor(img, cv2.COLOR_BGR2RGB)\n",
    "gray_img = cv2.cvtColor(img, cv2.COLOR_BGR2GRAY)\n",
    "faces = face_cascade.detectMultiScale(gray_img, 1.3, 5)\n",
    "# faces = face_cascade.detectMultiScale(gray_img, 4, 6)\n",
    "\n",
    "faces_img = np.copy(gray_img)\n",
    "\n",
    "plt.rcParams[\"axes.grid\"] = False\n",
    "\n",
    "\n",
    "all_x_cords = []\n",
    "all_y_cords = []\n",
    "\n",
    "for i, (x,y,w,h) in enumerate(faces):\n",
    "    \n",
    "    h += 10\n",
    "    w += 10\n",
    "    x -= 5\n",
    "    y -= 5\n",
    "    \n",
    "    just_face = cv2.resize(gray_img[y:y+h,x:x+w], dimensions)\n",
    "    cv2.rectangle(faces_img,(x,y),(x+w,y+h),(255,0,0),1)\n",
    "    \n",
    "    scale_val_x = w/96\n",
    "    scale_val_y = h/96\n",
    "    \n",
    "    label_point = detect_points(just_face)\n",
    "    all_x_cords.append((label_point[::2]*scale_val_x)+x)\n",
    "    all_y_cords.append((label_point[1::2]*scale_val_y)+y)\n",
    "   \n",
    "   \n",
    "    plt.imshow(just_face, cmap='gray')\n",
    "    plt.plot(label_point[::2], label_point[1::2], 'ro', markersize=5)\n",
    "    plt.show()\n",
    "    \n",
    "    \n",
    "plt.imshow(default_img)    \n",
    "plt.plot(all_x_cords, all_y_cords, 'wo',  markersize=3)\n",
    "plt.show()\n",
    "\n",
    "\n"
   ]
  }
 ],
 "metadata": {
  "kernelspec": {
   "display_name": "Python 3.8.3 64-bit ('IIS': conda)",
   "language": "python",
   "name": "python38364bitiisconda68aff0cc100649d599a79446f8d4f83d"
  },
  "language_info": {
   "codemirror_mode": {
    "name": "ipython",
    "version": 3
   },
   "file_extension": ".py",
   "mimetype": "text/x-python",
   "name": "python",
   "nbconvert_exporter": "python",
   "pygments_lexer": "ipython3",
   "version": "3.7.7"
  }
 },
 "nbformat": 4,
 "nbformat_minor": 4
}
